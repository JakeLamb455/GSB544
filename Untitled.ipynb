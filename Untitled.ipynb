{
 "cells": [
  {
   "cell_type": "code",
   "execution_count": 1,
   "id": "6d167f95",
   "metadata": {},
   "outputs": [],
   "source": [
    "import pandas as pd\n",
    "import numpy as np"
   ]
  },
  {
   "cell_type": "code",
   "execution_count": 3,
   "id": "9e21a8ad",
   "metadata": {},
   "outputs": [],
   "source": [
    "pop = pd.read_csv('pop.csv')"
   ]
  },
  {
   "cell_type": "code",
   "execution_count": 5,
   "id": "1c607e54",
   "metadata": {},
   "outputs": [
    {
     "data": {
      "text/html": [
       "<div>\n",
       "<style scoped>\n",
       "    .dataframe tbody tr th:only-of-type {\n",
       "        vertical-align: middle;\n",
       "    }\n",
       "\n",
       "    .dataframe tbody tr th {\n",
       "        vertical-align: top;\n",
       "    }\n",
       "\n",
       "    .dataframe thead th {\n",
       "        text-align: right;\n",
       "    }\n",
       "</style>\n",
       "<table border=\"1\" class=\"dataframe\">\n",
       "  <thead>\n",
       "    <tr style=\"text-align: right;\">\n",
       "      <th></th>\n",
       "      <th>country</th>\n",
       "      <th>year</th>\n",
       "      <th>population</th>\n",
       "    </tr>\n",
       "  </thead>\n",
       "  <tbody>\n",
       "    <tr>\n",
       "      <th>0</th>\n",
       "      <td>Afghanistan</td>\n",
       "      <td>1800</td>\n",
       "      <td>3.28M</td>\n",
       "    </tr>\n",
       "    <tr>\n",
       "      <th>1</th>\n",
       "      <td>Angola</td>\n",
       "      <td>1800</td>\n",
       "      <td>1.57M</td>\n",
       "    </tr>\n",
       "    <tr>\n",
       "      <th>2</th>\n",
       "      <td>Albania</td>\n",
       "      <td>1800</td>\n",
       "      <td>400k</td>\n",
       "    </tr>\n",
       "    <tr>\n",
       "      <th>3</th>\n",
       "      <td>Andorra</td>\n",
       "      <td>1800</td>\n",
       "      <td>2650</td>\n",
       "    </tr>\n",
       "    <tr>\n",
       "      <th>4</th>\n",
       "      <td>UAE</td>\n",
       "      <td>1800</td>\n",
       "      <td>40.2k</td>\n",
       "    </tr>\n",
       "    <tr>\n",
       "      <th>...</th>\n",
       "      <td>...</td>\n",
       "      <td>...</td>\n",
       "      <td>...</td>\n",
       "    </tr>\n",
       "    <tr>\n",
       "      <th>59292</th>\n",
       "      <td>Samoa</td>\n",
       "      <td>2100</td>\n",
       "      <td>441k</td>\n",
       "    </tr>\n",
       "    <tr>\n",
       "      <th>59293</th>\n",
       "      <td>Yemen</td>\n",
       "      <td>2100</td>\n",
       "      <td>74.2M</td>\n",
       "    </tr>\n",
       "    <tr>\n",
       "      <th>59294</th>\n",
       "      <td>South Africa</td>\n",
       "      <td>2100</td>\n",
       "      <td>74.6M</td>\n",
       "    </tr>\n",
       "    <tr>\n",
       "      <th>59295</th>\n",
       "      <td>Zambia</td>\n",
       "      <td>2100</td>\n",
       "      <td>63.6M</td>\n",
       "    </tr>\n",
       "    <tr>\n",
       "      <th>59296</th>\n",
       "      <td>Zimbabwe</td>\n",
       "      <td>2100</td>\n",
       "      <td>35.6M</td>\n",
       "    </tr>\n",
       "  </tbody>\n",
       "</table>\n",
       "<p>59297 rows × 3 columns</p>\n",
       "</div>"
      ],
      "text/plain": [
       "            country  year population\n",
       "0       Afghanistan  1800      3.28M\n",
       "1            Angola  1800      1.57M\n",
       "2           Albania  1800       400k\n",
       "3           Andorra  1800       2650\n",
       "4               UAE  1800      40.2k\n",
       "...             ...   ...        ...\n",
       "59292         Samoa  2100       441k\n",
       "59293         Yemen  2100      74.2M\n",
       "59294  South Africa  2100      74.6M\n",
       "59295        Zambia  2100      63.6M\n",
       "59296      Zimbabwe  2100      35.6M\n",
       "\n",
       "[59297 rows x 3 columns]"
      ]
     },
     "execution_count": 5,
     "metadata": {},
     "output_type": "execute_result"
    }
   ],
   "source": [
    "pop.melt(['country'], var_name = 'year', value_name = 'population')"
   ]
  },
  {
   "cell_type": "code",
   "execution_count": null,
   "id": "cd42167d",
   "metadata": {},
   "outputs": [],
   "source": []
  },
  {
   "cell_type": "code",
   "execution_count": null,
   "id": "4ebebdff",
   "metadata": {},
   "outputs": [],
   "source": []
  },
  {
   "cell_type": "code",
   "execution_count": null,
   "id": "a190edfd",
   "metadata": {},
   "outputs": [],
   "source": []
  }
 ],
 "metadata": {
  "kernelspec": {
   "display_name": "Python 3 (ipykernel)",
   "language": "python",
   "name": "python3"
  },
  "language_info": {
   "codemirror_mode": {
    "name": "ipython",
    "version": 3
   },
   "file_extension": ".py",
   "mimetype": "text/x-python",
   "name": "python",
   "nbconvert_exporter": "python",
   "pygments_lexer": "ipython3",
   "version": "3.11.4"
  }
 },
 "nbformat": 4,
 "nbformat_minor": 5
}

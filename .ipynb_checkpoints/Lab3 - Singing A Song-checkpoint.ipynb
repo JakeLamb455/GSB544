{
 "cells": [
  {
   "cell_type": "code",
   "execution_count": 1,
   "id": "c0b18c1f",
   "metadata": {},
   "outputs": [],
   "source": [
    "import pandas as pd\n",
    "import numpy as np\n",
    "from plotnine import *\n",
    "xmas = pd.read_csv(\"https://www.dropbox.com/scl/fi/qxaslqqp5p08i1650rpc4/xmas.csv?rlkey=erdxi7jbh7pqf9fh4lv4cayp5&dl=1\")"
   ]
  },
  {
   "cell_type": "code",
   "execution_count": 2,
   "id": "48d62b06",
   "metadata": {},
   "outputs": [
    {
     "data": {
      "text/html": [
       "<div>\n",
       "<style scoped>\n",
       "    .dataframe tbody tr th:only-of-type {\n",
       "        vertical-align: middle;\n",
       "    }\n",
       "\n",
       "    .dataframe tbody tr th {\n",
       "        vertical-align: top;\n",
       "    }\n",
       "\n",
       "    .dataframe thead th {\n",
       "        text-align: right;\n",
       "    }\n",
       "</style>\n",
       "<table border=\"1\" class=\"dataframe\">\n",
       "  <thead>\n",
       "    <tr style=\"text-align: right;\">\n",
       "      <th></th>\n",
       "      <th>Day</th>\n",
       "      <th>Day.in.Words</th>\n",
       "      <th>Gift.Item</th>\n",
       "      <th>Verb</th>\n",
       "      <th>Adjective</th>\n",
       "      <th>Location</th>\n",
       "    </tr>\n",
       "  </thead>\n",
       "  <tbody>\n",
       "    <tr>\n",
       "      <th>0</th>\n",
       "      <td>1</td>\n",
       "      <td>first</td>\n",
       "      <td>partridge</td>\n",
       "      <td>NaN</td>\n",
       "      <td>NaN</td>\n",
       "      <td>in a pear tree</td>\n",
       "    </tr>\n",
       "    <tr>\n",
       "      <th>1</th>\n",
       "      <td>2</td>\n",
       "      <td>second</td>\n",
       "      <td>dove</td>\n",
       "      <td>NaN</td>\n",
       "      <td>turtle</td>\n",
       "      <td>NaN</td>\n",
       "    </tr>\n",
       "    <tr>\n",
       "      <th>2</th>\n",
       "      <td>3</td>\n",
       "      <td>third</td>\n",
       "      <td>hen</td>\n",
       "      <td>NaN</td>\n",
       "      <td>french</td>\n",
       "      <td>NaN</td>\n",
       "    </tr>\n",
       "    <tr>\n",
       "      <th>3</th>\n",
       "      <td>4</td>\n",
       "      <td>fourth</td>\n",
       "      <td>bird</td>\n",
       "      <td>NaN</td>\n",
       "      <td>calling</td>\n",
       "      <td>NaN</td>\n",
       "    </tr>\n",
       "    <tr>\n",
       "      <th>4</th>\n",
       "      <td>5</td>\n",
       "      <td>fifth</td>\n",
       "      <td>ring</td>\n",
       "      <td>NaN</td>\n",
       "      <td>golden</td>\n",
       "      <td>NaN</td>\n",
       "    </tr>\n",
       "    <tr>\n",
       "      <th>5</th>\n",
       "      <td>6</td>\n",
       "      <td>sixth</td>\n",
       "      <td>goose</td>\n",
       "      <td>a-laying</td>\n",
       "      <td>NaN</td>\n",
       "      <td>NaN</td>\n",
       "    </tr>\n",
       "    <tr>\n",
       "      <th>6</th>\n",
       "      <td>7</td>\n",
       "      <td>seventh</td>\n",
       "      <td>swan</td>\n",
       "      <td>a-swimming</td>\n",
       "      <td>NaN</td>\n",
       "      <td>NaN</td>\n",
       "    </tr>\n",
       "    <tr>\n",
       "      <th>7</th>\n",
       "      <td>8</td>\n",
       "      <td>eighth</td>\n",
       "      <td>maid</td>\n",
       "      <td>a-milking</td>\n",
       "      <td>NaN</td>\n",
       "      <td>NaN</td>\n",
       "    </tr>\n",
       "    <tr>\n",
       "      <th>8</th>\n",
       "      <td>9</td>\n",
       "      <td>ninth</td>\n",
       "      <td>lady</td>\n",
       "      <td>dancing</td>\n",
       "      <td>NaN</td>\n",
       "      <td>NaN</td>\n",
       "    </tr>\n",
       "    <tr>\n",
       "      <th>9</th>\n",
       "      <td>10</td>\n",
       "      <td>tenth</td>\n",
       "      <td>lord</td>\n",
       "      <td>a-leaping</td>\n",
       "      <td>NaN</td>\n",
       "      <td>NaN</td>\n",
       "    </tr>\n",
       "    <tr>\n",
       "      <th>10</th>\n",
       "      <td>11</td>\n",
       "      <td>eleventh</td>\n",
       "      <td>piper</td>\n",
       "      <td>piping</td>\n",
       "      <td>NaN</td>\n",
       "      <td>NaN</td>\n",
       "    </tr>\n",
       "    <tr>\n",
       "      <th>11</th>\n",
       "      <td>12</td>\n",
       "      <td>twelfth</td>\n",
       "      <td>drummer</td>\n",
       "      <td>drumming</td>\n",
       "      <td>NaN</td>\n",
       "      <td>NaN</td>\n",
       "    </tr>\n",
       "  </tbody>\n",
       "</table>\n",
       "</div>"
      ],
      "text/plain": [
       "    Day Day.in.Words  Gift.Item        Verb Adjective        Location\n",
       "0     1        first  partridge         NaN       NaN  in a pear tree\n",
       "1     2       second       dove         NaN    turtle             NaN\n",
       "2     3        third        hen         NaN    french             NaN\n",
       "3     4       fourth       bird         NaN   calling             NaN\n",
       "4     5        fifth       ring         NaN    golden             NaN\n",
       "5     6        sixth      goose    a-laying       NaN             NaN\n",
       "6     7      seventh       swan  a-swimming       NaN             NaN\n",
       "7     8       eighth       maid   a-milking       NaN             NaN\n",
       "8     9        ninth       lady     dancing       NaN             NaN\n",
       "9    10        tenth       lord   a-leaping       NaN             NaN\n",
       "10   11     eleventh      piper      piping       NaN             NaN\n",
       "11   12      twelfth    drummer    drumming       NaN             NaN"
      ]
     },
     "execution_count": 2,
     "metadata": {},
     "output_type": "execute_result"
    }
   ],
   "source": [
    "xmas"
   ]
  },
  {
   "cell_type": "markdown",
   "id": "3006f89a",
   "metadata": {},
   "source": [
    "Function 1: pluralize_gift()\n",
    "The gifts are listed in singular: for example, on day five the narrator receives “five golden rings”, but the entry in the data set for the gift on day five simply says “ring”.\n",
    "\n",
    "Hint 1: The gifts on days six and nine have unusual pluralization. You may assume that in other data sets, there will be no additional special cases besides these types.\n",
    "\n",
    "Hint 2: The following small code snippets may be useful to you:"
   ]
  },
  {
   "cell_type": "code",
   "execution_count": 4,
   "id": "b7edde4a",
   "metadata": {},
   "outputs": [],
   "source": [
    "def pluralize_gift(gift):\n",
    "  \"\"\"\n",
    "  Returns plural of a noun\n",
    "  \n",
    "  Parameters\n",
    "  ----------\n",
    "  gift: str\n",
    "    A noun\n",
    "    \n",
    "  Return\n",
    "  ------\n",
    "  str\n",
    "    Plural version\n",
    "  \"\"\"\n",
    "\n",
    "  if gift == \"goose\":\n",
    "    gift = gift.replace(\"goose\", \"geese\")\n",
    "  elif gift == \"lady\": \n",
    "    gift = gift.replace(\"lady\",'ladies')\n",
    "  else:\n",
    "    gift = gift + \"s\"\n",
    "\n",
    "  return gift"
   ]
  },
  {
   "cell_type": "code",
   "execution_count": 12,
   "id": "9492d973",
   "metadata": {},
   "outputs": [
    {
     "data": {
      "text/plain": [
       "'doves'"
      ]
     },
     "execution_count": 12,
     "metadata": {},
     "output_type": "execute_result"
    }
   ],
   "source": [
    "pluralize_gift(\"goose\")"
   ]
  },
  {
   "cell_type": "code",
   "execution_count": 13,
   "id": "87d7f15f",
   "metadata": {},
   "outputs": [
    {
     "name": "stdout",
     "output_type": "stream",
     "text": [
      "partridges\n",
      "doves\n",
      "hens\n",
      "birds\n",
      "rings\n",
      "geese\n",
      "swans\n",
      "maids\n",
      "ladies\n",
      "lords\n",
      "pipers\n",
      "drummers\n"
     ]
    }
   ],
   "source": [
    "# Will work if your function is vectorized!\n",
    "i = 0\n",
    "while i < len(xmas['Gift.Item']):\n",
    "    print(pluralize_gift(xmas['Gift.Item'][i]))\n",
    "    i = i + 1\n",
    "    "
   ]
  },
  {
   "cell_type": "markdown",
   "id": "745aafab",
   "metadata": {},
   "source": [
    "Function 2: make_phrase()\n",
    "Write a function called make_phrase() that takes as input the necessary information, and returns a phrase. For example,\n",
    "\n",
    "make_phrase(num_word = \"ten\", \n",
    "            item = \"lords\", \n",
    "            verb = \"a-leaping\", \n",
    "            adjective = \"\", \n",
    "            location = \"\")\n",
    "            \n",
    "should return\n",
    "\n",
    "\"ten lords a-leaping\""
   ]
  },
  {
   "cell_type": "code",
   "execution_count": 15,
   "id": "f7fb9c45",
   "metadata": {},
   "outputs": [
    {
     "data": {
      "text/plain": [
       "'p'"
      ]
     },
     "execution_count": 15,
     "metadata": {},
     "output_type": "execute_result"
    }
   ],
   "source": []
  },
  {
   "cell_type": "code",
   "execution_count": null,
   "id": "18db7eca",
   "metadata": {},
   "outputs": [],
   "source": [
    "def make_phrase(num, num_word, item, verb, adjective, location):\n",
    "  \"\"\"\n",
    "  <documentation here>\n",
    "  \"\"\"\n",
    "  \n",
    "  ## Step 1: Replace NAs with blank strings\n",
    "  verb = verb.fillna(\"\")\n",
    "  adjective = adjective.fillna(\"\")\n",
    "  \n",
    "  ## Step 2: If the day number is larger than 1, the gift items need pluralized!\n",
    "  ### Hint: call the function you created above!\n",
    "    \n",
    "    if num > 1:\n",
    "        pluralize_gift(item)\n",
    "    else:\n",
    "        item = item\n",
    "  \n",
    "  \n",
    "  ## Step 3: Figure out if a gift item starts with a vowel\n",
    "    \n",
    "  \n",
    "  ## Step 4: For the first day, if the gift item starts with a vowel, replace the day with \"an\" and if the gift item does not start with a vowel, replace the day with \"a\" (e.g. a partridge in a pear tree). If it is not the first day, use just the number word (e.g. ten lords a leap)\n",
    "  \n",
    "  ## Step 5: Put all of the pieces together into one string and return!"
   ]
  },
  {
   "cell_type": "code",
   "execution_count": null,
   "id": "8f1949d5",
   "metadata": {},
   "outputs": [],
   "source": []
  },
  {
   "cell_type": "code",
   "execution_count": null,
   "id": "6a86d7aa",
   "metadata": {},
   "outputs": [],
   "source": []
  },
  {
   "cell_type": "code",
   "execution_count": null,
   "id": "c5b6b37e",
   "metadata": {},
   "outputs": [],
   "source": []
  },
  {
   "cell_type": "code",
   "execution_count": null,
   "id": "9e23c124",
   "metadata": {},
   "outputs": [],
   "source": []
  },
  {
   "cell_type": "code",
   "execution_count": null,
   "id": "0dab4602",
   "metadata": {},
   "outputs": [],
   "source": []
  }
 ],
 "metadata": {
  "kernelspec": {
   "display_name": "Python 3 (ipykernel)",
   "language": "python",
   "name": "python3"
  },
  "language_info": {
   "codemirror_mode": {
    "name": "ipython",
    "version": 3
   },
   "file_extension": ".py",
   "mimetype": "text/x-python",
   "name": "python",
   "nbconvert_exporter": "python",
   "pygments_lexer": "ipython3",
   "version": "3.11.4"
  }
 },
 "nbformat": 4,
 "nbformat_minor": 5
}

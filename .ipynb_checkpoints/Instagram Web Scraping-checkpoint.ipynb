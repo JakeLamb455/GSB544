{
 "cells": [
  {
   "cell_type": "code",
   "execution_count": 1,
   "id": "8dd51bef",
   "metadata": {},
   "outputs": [
    {
     "name": "stdout",
     "output_type": "stream",
     "text": [
      "Collecting instagramy\n",
      "  Using cached instagramy-4.5-py3-none-any.whl (20 kB)\n",
      "Installing collected packages: instagramy\n",
      "Successfully installed instagramy-4.5\n",
      "Note: you may need to restart the kernel to use updated packages.\n"
     ]
    }
   ],
   "source": [
    "pip install instagramy"
   ]
  },
  {
   "cell_type": "code",
   "execution_count": 2,
   "id": "ef53e496",
   "metadata": {},
   "outputs": [
    {
     "name": "stdout",
     "output_type": "stream",
     "text": [
      "Requirement already satisfied: instagramy in /opt/conda/lib/python3.9/site-packages (4.5)\n",
      "Note: you may need to restart the kernel to use updated packages.\n"
     ]
    }
   ],
   "source": [
    "pip install instagramy --upgrade"
   ]
  },
  {
   "cell_type": "code",
   "execution_count": 3,
   "id": "10589d6c",
   "metadata": {},
   "outputs": [],
   "source": [
    "from instagramy import InstagramUser\n",
    "from instagramy import InstagramPost\n",
    "import pandas as pd\n",
    "import numpy as np\n",
    "from scipy import stats\n",
    "from scipy import special\n",
    "import seaborn as sns\n",
    "import matplotlib.pyplot as plt\n",
    "session_id = \"49871308460%3ArXSb3fTaS1uPzK%3A21\""
   ]
  },
  {
   "cell_type": "code",
   "execution_count": 4,
   "id": "1865a240",
   "metadata": {},
   "outputs": [],
   "source": [
    "#List of NBA Player Handles (Easy to change if a better list is available)\n",
    "#player_handles = ['kingjames', 'stephencurry30', 'easymoneysniper', 'ygtrece', 'cp3', 'zo', 'giannis_an34', 'klaythompson', 'carmeloanthony', 'jimmybutler', 'traeyoung', 'dloading', 'jaytatum0', 'blakegriffin23', 'isaiahthomas', 'money23green', 'melo', 'demar_derozan', 'lukadoncic', 'nolimitherro', 'deandre', 'javalemcgee', '_kw15', 'acfresh21', 'vicoladipo', 'jmglitxh27', 'fchwpo', 'louwillville', 'hbarnes', 'qcook323', 'antdavis23', 'zionwilliamson', 'damianlillard', 'kuz', 'jharden13', 'russwest44', 'kyrieirving', 'joelembiid', 'johnwall']\n",
    "player_handles = ['kingjames', au"
   ]
  },
  {
   "cell_type": "code",
   "execution_count": 5,
   "id": "1a992dd3",
   "metadata": {},
   "outputs": [],
   "source": [
    "#Getting the names of every player that is associatiod with the handle\n",
    "player_names = []\n",
    "for i in np.arange(0, len(player_handles)):\n",
    "    player = InstagramUser(player_handles[i], sessionid=session_id)\n",
    "    player_names.append(player.fullname)"
   ]
  },
  {
   "cell_type": "code",
   "execution_count": 6,
   "id": "4598195b",
   "metadata": {},
   "outputs": [],
   "source": [
    "#Cleaning the names of the player\n",
    "player_names[2] = 'Kevin Durant'\n",
    "player_names[len(player_names) - 3] = 'Kyrie Irving'\n",
    "player_names[12] = 'Jayson Tatum'\n",
    "player_names[20] = 'Deandre Jordan'\n",
    "player_names[21] = 'Javale Mcgee'\n",
    "player_names[len(player_names) - 2] = \"Joel Embiid\"\n",
    "player_names[6] = 'Giannis Antetokounmpo'"
   ]
  },
  {
   "cell_type": "code",
   "execution_count": 7,
   "id": "14d46de3",
   "metadata": {},
   "outputs": [],
   "source": [
    "#Function to find the number of likes per post\n",
    "def avg_like_finder(player):\n",
    "    i = 0\n",
    "    like_total = 0\n",
    "    while i < len(player.posts):\n",
    "        like_total = like_total + player.posts[i][0]\n",
    "        i = i + 1\n",
    "    return like_total/len(player.posts)"
   ]
  },
  {
   "cell_type": "code",
   "execution_count": 8,
   "id": "85953bd8",
   "metadata": {},
   "outputs": [],
   "source": [
    "#Function to find the number of comments per post\n",
    "def avg_comments_finder(player):\n",
    "    i = 0\n",
    "    comment_total = 0\n",
    "    while i < len(player.posts):\n",
    "        comment_total = comment_total + player.posts[i][1]\n",
    "        i = i + 1\n",
    "    return comment_total/len(player.posts)"
   ]
  },
  {
   "cell_type": "code",
   "execution_count": 10,
   "id": "9d197a64",
   "metadata": {},
   "outputs": [
    {
     "ename": "UsernameNotFound",
     "evalue": "InstagramUser('johnwall') not Found",
     "output_type": "error",
     "traceback": [
      "\u001b[0;31m---------------------------------------------------------------------------\u001b[0m",
      "\u001b[0;31mHTTPError\u001b[0m                                 Traceback (most recent call last)",
      "\u001b[0;32m/opt/conda/lib/python3.9/site-packages/instagramy/InstagramUser.py\u001b[0m in \u001b[0;36mget_json\u001b[0;34m(self)\u001b[0m\n\u001b[1;32m     80\u001b[0m         \u001b[0;32mtry\u001b[0m\u001b[0;34m:\u001b[0m\u001b[0;34m\u001b[0m\u001b[0;34m\u001b[0m\u001b[0m\n\u001b[0;32m---> 81\u001b[0;31m             \u001b[0mhtml\u001b[0m \u001b[0;34m=\u001b[0m \u001b[0mget\u001b[0m\u001b[0;34m(\u001b[0m\u001b[0mself\u001b[0m\u001b[0;34m.\u001b[0m\u001b[0murl\u001b[0m\u001b[0;34m,\u001b[0m \u001b[0msessionid\u001b[0m\u001b[0;34m=\u001b[0m\u001b[0mself\u001b[0m\u001b[0;34m.\u001b[0m\u001b[0msessionid\u001b[0m\u001b[0;34m)\u001b[0m\u001b[0;34m\u001b[0m\u001b[0;34m\u001b[0m\u001b[0m\n\u001b[0m\u001b[1;32m     82\u001b[0m         \u001b[0;32mexcept\u001b[0m \u001b[0mHTTPError\u001b[0m\u001b[0;34m:\u001b[0m\u001b[0;34m\u001b[0m\u001b[0;34m\u001b[0m\u001b[0m\n",
      "\u001b[0;32m/opt/conda/lib/python3.9/site-packages/instagramy/core/requests.py\u001b[0m in \u001b[0;36mget\u001b[0;34m(url, sessionid)\u001b[0m\n\u001b[1;32m     21\u001b[0m         \u001b[0mrequest\u001b[0m\u001b[0;34m.\u001b[0m\u001b[0madd_header\u001b[0m\u001b[0;34m(\u001b[0m\u001b[0;34m\"Cookie\"\u001b[0m\u001b[0;34m,\u001b[0m \u001b[0;34mf\"sessionid={sessionid}\"\u001b[0m\u001b[0;34m)\u001b[0m\u001b[0;34m\u001b[0m\u001b[0;34m\u001b[0m\u001b[0m\n\u001b[0;32m---> 22\u001b[0;31m     \u001b[0;32mwith\u001b[0m \u001b[0murlopen\u001b[0m\u001b[0;34m(\u001b[0m\u001b[0mrequest\u001b[0m\u001b[0;34m)\u001b[0m \u001b[0;32mas\u001b[0m \u001b[0mresponse\u001b[0m\u001b[0;34m:\u001b[0m\u001b[0;34m\u001b[0m\u001b[0;34m\u001b[0m\u001b[0m\n\u001b[0m\u001b[1;32m     23\u001b[0m         \u001b[0mhtml\u001b[0m \u001b[0;34m=\u001b[0m \u001b[0mresponse\u001b[0m\u001b[0;34m.\u001b[0m\u001b[0mread\u001b[0m\u001b[0;34m(\u001b[0m\u001b[0;34m)\u001b[0m\u001b[0;34m\u001b[0m\u001b[0;34m\u001b[0m\u001b[0m\n",
      "\u001b[0;32m/opt/conda/lib/python3.9/urllib/request.py\u001b[0m in \u001b[0;36murlopen\u001b[0;34m(url, data, timeout, cafile, capath, cadefault, context)\u001b[0m\n\u001b[1;32m    213\u001b[0m         \u001b[0mopener\u001b[0m \u001b[0;34m=\u001b[0m \u001b[0m_opener\u001b[0m\u001b[0;34m\u001b[0m\u001b[0;34m\u001b[0m\u001b[0m\n\u001b[0;32m--> 214\u001b[0;31m     \u001b[0;32mreturn\u001b[0m \u001b[0mopener\u001b[0m\u001b[0;34m.\u001b[0m\u001b[0mopen\u001b[0m\u001b[0;34m(\u001b[0m\u001b[0murl\u001b[0m\u001b[0;34m,\u001b[0m \u001b[0mdata\u001b[0m\u001b[0;34m,\u001b[0m \u001b[0mtimeout\u001b[0m\u001b[0;34m)\u001b[0m\u001b[0;34m\u001b[0m\u001b[0;34m\u001b[0m\u001b[0m\n\u001b[0m\u001b[1;32m    215\u001b[0m \u001b[0;34m\u001b[0m\u001b[0m\n",
      "\u001b[0;32m/opt/conda/lib/python3.9/urllib/request.py\u001b[0m in \u001b[0;36mopen\u001b[0;34m(self, fullurl, data, timeout)\u001b[0m\n\u001b[1;32m    522\u001b[0m             \u001b[0mmeth\u001b[0m \u001b[0;34m=\u001b[0m \u001b[0mgetattr\u001b[0m\u001b[0;34m(\u001b[0m\u001b[0mprocessor\u001b[0m\u001b[0;34m,\u001b[0m \u001b[0mmeth_name\u001b[0m\u001b[0;34m)\u001b[0m\u001b[0;34m\u001b[0m\u001b[0;34m\u001b[0m\u001b[0m\n\u001b[0;32m--> 523\u001b[0;31m             \u001b[0mresponse\u001b[0m \u001b[0;34m=\u001b[0m \u001b[0mmeth\u001b[0m\u001b[0;34m(\u001b[0m\u001b[0mreq\u001b[0m\u001b[0;34m,\u001b[0m \u001b[0mresponse\u001b[0m\u001b[0;34m)\u001b[0m\u001b[0;34m\u001b[0m\u001b[0;34m\u001b[0m\u001b[0m\n\u001b[0m\u001b[1;32m    524\u001b[0m \u001b[0;34m\u001b[0m\u001b[0m\n",
      "\u001b[0;32m/opt/conda/lib/python3.9/urllib/request.py\u001b[0m in \u001b[0;36mhttp_response\u001b[0;34m(self, request, response)\u001b[0m\n\u001b[1;32m    631\u001b[0m         \u001b[0;32mif\u001b[0m \u001b[0;32mnot\u001b[0m \u001b[0;34m(\u001b[0m\u001b[0;36m200\u001b[0m \u001b[0;34m<=\u001b[0m \u001b[0mcode\u001b[0m \u001b[0;34m<\u001b[0m \u001b[0;36m300\u001b[0m\u001b[0;34m)\u001b[0m\u001b[0;34m:\u001b[0m\u001b[0;34m\u001b[0m\u001b[0;34m\u001b[0m\u001b[0m\n\u001b[0;32m--> 632\u001b[0;31m             response = self.parent.error(\n\u001b[0m\u001b[1;32m    633\u001b[0m                 'http', request, response, code, msg, hdrs)\n",
      "\u001b[0;32m/opt/conda/lib/python3.9/urllib/request.py\u001b[0m in \u001b[0;36merror\u001b[0;34m(self, proto, *args)\u001b[0m\n\u001b[1;32m    560\u001b[0m             \u001b[0margs\u001b[0m \u001b[0;34m=\u001b[0m \u001b[0;34m(\u001b[0m\u001b[0mdict\u001b[0m\u001b[0;34m,\u001b[0m \u001b[0;34m'default'\u001b[0m\u001b[0;34m,\u001b[0m \u001b[0;34m'http_error_default'\u001b[0m\u001b[0;34m)\u001b[0m \u001b[0;34m+\u001b[0m \u001b[0morig_args\u001b[0m\u001b[0;34m\u001b[0m\u001b[0;34m\u001b[0m\u001b[0m\n\u001b[0;32m--> 561\u001b[0;31m             \u001b[0;32mreturn\u001b[0m \u001b[0mself\u001b[0m\u001b[0;34m.\u001b[0m\u001b[0m_call_chain\u001b[0m\u001b[0;34m(\u001b[0m\u001b[0;34m*\u001b[0m\u001b[0margs\u001b[0m\u001b[0;34m)\u001b[0m\u001b[0;34m\u001b[0m\u001b[0;34m\u001b[0m\u001b[0m\n\u001b[0m\u001b[1;32m    562\u001b[0m \u001b[0;34m\u001b[0m\u001b[0m\n",
      "\u001b[0;32m/opt/conda/lib/python3.9/urllib/request.py\u001b[0m in \u001b[0;36m_call_chain\u001b[0;34m(self, chain, kind, meth_name, *args)\u001b[0m\n\u001b[1;32m    493\u001b[0m             \u001b[0mfunc\u001b[0m \u001b[0;34m=\u001b[0m \u001b[0mgetattr\u001b[0m\u001b[0;34m(\u001b[0m\u001b[0mhandler\u001b[0m\u001b[0;34m,\u001b[0m \u001b[0mmeth_name\u001b[0m\u001b[0;34m)\u001b[0m\u001b[0;34m\u001b[0m\u001b[0;34m\u001b[0m\u001b[0m\n\u001b[0;32m--> 494\u001b[0;31m             \u001b[0mresult\u001b[0m \u001b[0;34m=\u001b[0m \u001b[0mfunc\u001b[0m\u001b[0;34m(\u001b[0m\u001b[0;34m*\u001b[0m\u001b[0margs\u001b[0m\u001b[0;34m)\u001b[0m\u001b[0;34m\u001b[0m\u001b[0;34m\u001b[0m\u001b[0m\n\u001b[0m\u001b[1;32m    495\u001b[0m             \u001b[0;32mif\u001b[0m \u001b[0mresult\u001b[0m \u001b[0;32mis\u001b[0m \u001b[0;32mnot\u001b[0m \u001b[0;32mNone\u001b[0m\u001b[0;34m:\u001b[0m\u001b[0;34m\u001b[0m\u001b[0;34m\u001b[0m\u001b[0m\n",
      "\u001b[0;32m/opt/conda/lib/python3.9/urllib/request.py\u001b[0m in \u001b[0;36mhttp_error_default\u001b[0;34m(self, req, fp, code, msg, hdrs)\u001b[0m\n\u001b[1;32m    640\u001b[0m     \u001b[0;32mdef\u001b[0m \u001b[0mhttp_error_default\u001b[0m\u001b[0;34m(\u001b[0m\u001b[0mself\u001b[0m\u001b[0;34m,\u001b[0m \u001b[0mreq\u001b[0m\u001b[0;34m,\u001b[0m \u001b[0mfp\u001b[0m\u001b[0;34m,\u001b[0m \u001b[0mcode\u001b[0m\u001b[0;34m,\u001b[0m \u001b[0mmsg\u001b[0m\u001b[0;34m,\u001b[0m \u001b[0mhdrs\u001b[0m\u001b[0;34m)\u001b[0m\u001b[0;34m:\u001b[0m\u001b[0;34m\u001b[0m\u001b[0;34m\u001b[0m\u001b[0m\n\u001b[0;32m--> 641\u001b[0;31m         \u001b[0;32mraise\u001b[0m \u001b[0mHTTPError\u001b[0m\u001b[0;34m(\u001b[0m\u001b[0mreq\u001b[0m\u001b[0;34m.\u001b[0m\u001b[0mfull_url\u001b[0m\u001b[0;34m,\u001b[0m \u001b[0mcode\u001b[0m\u001b[0;34m,\u001b[0m \u001b[0mmsg\u001b[0m\u001b[0;34m,\u001b[0m \u001b[0mhdrs\u001b[0m\u001b[0;34m,\u001b[0m \u001b[0mfp\u001b[0m\u001b[0;34m)\u001b[0m\u001b[0;34m\u001b[0m\u001b[0;34m\u001b[0m\u001b[0m\n\u001b[0m\u001b[1;32m    642\u001b[0m \u001b[0;34m\u001b[0m\u001b[0m\n",
      "\u001b[0;31mHTTPError\u001b[0m: HTTP Error 560: -",
      "\nDuring handling of the above exception, another exception occurred:\n",
      "\u001b[0;31mUsernameNotFound\u001b[0m                          Traceback (most recent call last)",
      "\u001b[0;32m/tmp/ipykernel_134/3956827177.py\u001b[0m in \u001b[0;36m<module>\u001b[0;34m\u001b[0m\n\u001b[1;32m      2\u001b[0m \u001b[0mavg_likes\u001b[0m \u001b[0;34m=\u001b[0m \u001b[0;34m[\u001b[0m\u001b[0;34m]\u001b[0m\u001b[0;34m\u001b[0m\u001b[0;34m\u001b[0m\u001b[0m\n\u001b[1;32m      3\u001b[0m \u001b[0;32mfor\u001b[0m \u001b[0mi\u001b[0m \u001b[0;32min\u001b[0m \u001b[0mnp\u001b[0m\u001b[0;34m.\u001b[0m\u001b[0marange\u001b[0m\u001b[0;34m(\u001b[0m\u001b[0;36m0\u001b[0m\u001b[0;34m,\u001b[0m \u001b[0mlen\u001b[0m\u001b[0;34m(\u001b[0m\u001b[0mplayer_handles\u001b[0m\u001b[0;34m)\u001b[0m\u001b[0;34m)\u001b[0m\u001b[0;34m:\u001b[0m\u001b[0;34m\u001b[0m\u001b[0;34m\u001b[0m\u001b[0m\n\u001b[0;32m----> 4\u001b[0;31m     \u001b[0mplayer\u001b[0m \u001b[0;34m=\u001b[0m \u001b[0mInstagramUser\u001b[0m\u001b[0;34m(\u001b[0m\u001b[0mplayer_handles\u001b[0m\u001b[0;34m[\u001b[0m\u001b[0mi\u001b[0m\u001b[0;34m]\u001b[0m\u001b[0;34m,\u001b[0m \u001b[0msessionid\u001b[0m\u001b[0;34m=\u001b[0m\u001b[0msession_id\u001b[0m\u001b[0;34m)\u001b[0m\u001b[0;34m\u001b[0m\u001b[0;34m\u001b[0m\u001b[0m\n\u001b[0m\u001b[1;32m      5\u001b[0m     \u001b[0mavg_likes\u001b[0m\u001b[0;34m.\u001b[0m\u001b[0mappend\u001b[0m\u001b[0;34m(\u001b[0m\u001b[0mavg_like_finder\u001b[0m\u001b[0;34m(\u001b[0m\u001b[0mplayer\u001b[0m\u001b[0;34m)\u001b[0m\u001b[0;34m)\u001b[0m\u001b[0;34m\u001b[0m\u001b[0;34m\u001b[0m\u001b[0m\n\u001b[1;32m      6\u001b[0m \u001b[0;34m\u001b[0m\u001b[0m\n",
      "\u001b[0;32m/opt/conda/lib/python3.9/site-packages/instagramy/InstagramUser.py\u001b[0m in \u001b[0;36m__init__\u001b[0;34m(self, username, sessionid, from_cache)\u001b[0m\n\u001b[1;32m     59\u001b[0m                 \u001b[0mself\u001b[0m\u001b[0;34m.\u001b[0m\u001b[0muser_data\u001b[0m \u001b[0;34m=\u001b[0m \u001b[0mdata\u001b[0m\u001b[0;34m[\u001b[0m\u001b[0;34m\"entry_data\"\u001b[0m\u001b[0;34m]\u001b[0m\u001b[0;34m[\u001b[0m\u001b[0;34m\"ProfilePage\"\u001b[0m\u001b[0;34m]\u001b[0m\u001b[0;34m[\u001b[0m\u001b[0;36m0\u001b[0m\u001b[0;34m]\u001b[0m\u001b[0;34m[\u001b[0m\u001b[0;34m\"graphql\"\u001b[0m\u001b[0;34m]\u001b[0m\u001b[0;34m[\u001b[0m\u001b[0;34m\"user\"\u001b[0m\u001b[0;34m]\u001b[0m\u001b[0;34m\u001b[0m\u001b[0;34m\u001b[0m\u001b[0m\n\u001b[1;32m     60\u001b[0m         \u001b[0;32melse\u001b[0m\u001b[0;34m:\u001b[0m\u001b[0;34m\u001b[0m\u001b[0;34m\u001b[0m\u001b[0m\n\u001b[0;32m---> 61\u001b[0;31m             \u001b[0mdata\u001b[0m \u001b[0;34m=\u001b[0m \u001b[0mself\u001b[0m\u001b[0;34m.\u001b[0m\u001b[0mget_json\u001b[0m\u001b[0;34m(\u001b[0m\u001b[0;34m)\u001b[0m\u001b[0;34m\u001b[0m\u001b[0;34m\u001b[0m\u001b[0m\n\u001b[0m\u001b[1;32m     62\u001b[0m             cache.make_cache(\n\u001b[1;32m     63\u001b[0m                 \u001b[0musername\u001b[0m\u001b[0;34m,\u001b[0m \u001b[0mdata\u001b[0m\u001b[0;34m[\u001b[0m\u001b[0;34m\"entry_data\"\u001b[0m\u001b[0;34m]\u001b[0m\u001b[0;34m[\u001b[0m\u001b[0;34m\"ProfilePage\"\u001b[0m\u001b[0;34m]\u001b[0m\u001b[0;34m[\u001b[0m\u001b[0;36m0\u001b[0m\u001b[0;34m]\u001b[0m\u001b[0;34m[\u001b[0m\u001b[0;34m\"graphql\"\u001b[0m\u001b[0;34m]\u001b[0m\u001b[0;34m[\u001b[0m\u001b[0;34m\"user\"\u001b[0m\u001b[0;34m]\u001b[0m\u001b[0;34m\u001b[0m\u001b[0;34m\u001b[0m\u001b[0m\n",
      "\u001b[0;32m/opt/conda/lib/python3.9/site-packages/instagramy/InstagramUser.py\u001b[0m in \u001b[0;36mget_json\u001b[0;34m(self)\u001b[0m\n\u001b[1;32m     81\u001b[0m             \u001b[0mhtml\u001b[0m \u001b[0;34m=\u001b[0m \u001b[0mget\u001b[0m\u001b[0;34m(\u001b[0m\u001b[0mself\u001b[0m\u001b[0;34m.\u001b[0m\u001b[0murl\u001b[0m\u001b[0;34m,\u001b[0m \u001b[0msessionid\u001b[0m\u001b[0;34m=\u001b[0m\u001b[0mself\u001b[0m\u001b[0;34m.\u001b[0m\u001b[0msessionid\u001b[0m\u001b[0;34m)\u001b[0m\u001b[0;34m\u001b[0m\u001b[0;34m\u001b[0m\u001b[0m\n\u001b[1;32m     82\u001b[0m         \u001b[0;32mexcept\u001b[0m \u001b[0mHTTPError\u001b[0m\u001b[0;34m:\u001b[0m\u001b[0;34m\u001b[0m\u001b[0;34m\u001b[0m\u001b[0m\n\u001b[0;32m---> 83\u001b[0;31m             \u001b[0;32mraise\u001b[0m \u001b[0mUsernameNotFound\u001b[0m\u001b[0;34m(\u001b[0m\u001b[0mself\u001b[0m\u001b[0;34m.\u001b[0m\u001b[0murl\u001b[0m\u001b[0;34m.\u001b[0m\u001b[0msplit\u001b[0m\u001b[0;34m(\u001b[0m\u001b[0;34m\"/\"\u001b[0m\u001b[0;34m)\u001b[0m\u001b[0;34m[\u001b[0m\u001b[0;34m-\u001b[0m\u001b[0;36m2\u001b[0m\u001b[0;34m]\u001b[0m\u001b[0;34m)\u001b[0m\u001b[0;34m\u001b[0m\u001b[0;34m\u001b[0m\u001b[0m\n\u001b[0m\u001b[1;32m     84\u001b[0m \u001b[0;34m\u001b[0m\u001b[0m\n\u001b[1;32m     85\u001b[0m         \u001b[0mparser\u001b[0m \u001b[0;34m=\u001b[0m \u001b[0mParser\u001b[0m\u001b[0;34m(\u001b[0m\u001b[0;34m)\u001b[0m\u001b[0;34m\u001b[0m\u001b[0;34m\u001b[0m\u001b[0m\n",
      "\u001b[0;31mUsernameNotFound\u001b[0m: InstagramUser('johnwall') not Found"
     ]
    }
   ],
   "source": [
    "#List of average likes each handle receives per post\n",
    "avg_likes = []\n",
    "for i in np.arange(0, len(player_handles)):\n",
    "    player = InstagramUser(player_handles[i], sessionid=session_id)\n",
    "    avg_likes.append(avg_like_finder(player))\n",
    "    "
   ]
  },
  {
   "cell_type": "code",
   "execution_count": null,
   "id": "8a4de72c",
   "metadata": {},
   "outputs": [],
   "source": [
    "#List of average comments each handle receives per post\n",
    "avg_comments = []\n",
    "for i in np.arange(0, len(player_handles)):\n",
    "    player = InstagramUser(player_handles[i], sessionid=session_id)\n",
    "    avg_comments.append(avg_comments_finder(player))"
   ]
  },
  {
   "cell_type": "code",
   "execution_count": null,
   "id": "c10c4dac",
   "metadata": {},
   "outputs": [],
   "source": [
    "#List of number of followers each handle has\n",
    "follower_count = []\n",
    "for i in np.arange(0, len(player_handles)):\n",
    "    player = InstagramUser(player_handles[i], sessionid=session_id)\n",
    "    follower_count.append(player.number_of_followers)"
   ]
  },
  {
   "cell_type": "code",
   "execution_count": null,
   "id": "3cb7ea9c",
   "metadata": {},
   "outputs": [],
   "source": [
    "#Table with above lists\n",
    "table = {'Player Name': player_names,\n",
    "         'Instagram Handle': player_handles,\n",
    "         'Likes Per Post': avg_likes,\n",
    "         'Comments Per Post': avg_comments,\n",
    "         'Number of Followers': follower_count,\n",
    "        }\n",
    "\n",
    "nba_inst = pd.DataFrame(table)"
   ]
  },
  {
   "cell_type": "code",
   "execution_count": null,
   "id": "b2da65af",
   "metadata": {},
   "outputs": [],
   "source": [
    "#added engagement rate to the table ((avg likes + avg comments)/num of followers*100)\n",
    "nba_inst['Engagement Rate'] = 100*(nba_inst['Likes Per Post'] + nba_inst['Comments Per Post'])/nba_inst['Number of Followers']\n",
    "nba_inst.head(10)"
   ]
  },
  {
   "cell_type": "code",
   "execution_count": null,
   "id": "a0c421a6",
   "metadata": {},
   "outputs": [],
   "source": [
    "nba_inst.to_csv('WithoutRanks.csv', index = True)"
   ]
  },
  {
   "cell_type": "code",
   "execution_count": null,
   "id": "0ba53f4c",
   "metadata": {
    "scrolled": true
   },
   "outputs": [],
   "source": [
    "#Finding the ranks of each nba player in each category (likes, comments, followers, and engagement rate)\n",
    "ranked_by_likes = len(nba_inst['Likes Per Post']) - stats.rankdata(nba_inst['Likes Per Post']).astype(int) + 1\n",
    "ranked_by_comments = len(nba_inst['Comments Per Post']) - stats.rankdata(nba_inst['Comments Per Post']).astype(int) + 1\n",
    "ranked_by_followers = len(nba_inst['Number of Followers']) - stats.rankdata(nba_inst['Number of Followers']).astype(int) + 1\n",
    "ranked_by_engagement = len(nba_inst['Engagement Rate']) - stats.rankdata(nba_inst['Engagement Rate']).astype(int) + 1\n",
    "\n",
    "#Table of these ranks\n",
    "rank_table = {'Player Name': player_names,\n",
    "              'Likes Rank': ranked_by_likes,\n",
    "              'Comments Rank': ranked_by_comments,\n",
    "              'Followers Rank': ranked_by_followers,\n",
    "              'Engagement Rank': ranked_by_engagement\n",
    "             }\n",
    "\n",
    "nba_ranks = pd.DataFrame(rank_table)\n",
    "\n",
    "#Taking the average of all four ranks for each player\n",
    "avg_rank = []\n",
    "for i in np.arange(0, len(nba_ranks['Player Name'])):\n",
    "    L = nba_ranks['Likes Rank'][i]\n",
    "    C = nba_ranks['Comments Rank'][i]\n",
    "    F = nba_ranks['Followers Rank'][i]\n",
    "    E = nba_ranks['Engagement Rank'][i]\n",
    "    summed = L + C + F + E\n",
    "    averaged = summed/4\n",
    "    avg_rank.append(averaged)\n",
    "    \n",
    "\n",
    "#Adding the average rank to the last column of the rank table\n",
    "nba_ranks['Average Rank'] = avg_rank\n",
    "nba_ranks.head(10)"
   ]
  },
  {
   "cell_type": "code",
   "execution_count": null,
   "id": "bba6ab1d",
   "metadata": {},
   "outputs": [],
   "source": [
    "#Sorted table by average rank\n",
    "sorted_by_avg_rank = nba_ranks.sort_values('Average Rank', ascending = True)\n",
    "sorted_by_avg_rank.head(10)"
   ]
  },
  {
   "cell_type": "code",
   "execution_count": null,
   "id": "3696f599",
   "metadata": {},
   "outputs": [],
   "source": [
    "#Merged the two data frames\n",
    "all_data = nba_inst.merge(nba_ranks, how = 'inner', on = 'Player Name')"
   ]
  },
  {
   "cell_type": "code",
   "execution_count": null,
   "id": "dc2282ec",
   "metadata": {},
   "outputs": [],
   "source": [
    "#Reordered the columns so it is Likes, Likes Rank, Comments, Comments Rank, ... etc.\n",
    "columns = all_data.columns.tolist()\n",
    "columns = ['Player Name',\n",
    "           'Instagram Handle',\n",
    "           'Likes Per Post',\n",
    "           'Likes Rank',\n",
    "           'Comments Per Post',\n",
    "           'Comments Rank',\n",
    "           'Number of Followers',\n",
    "           'Followers Rank',\n",
    "           'Engagement Rate',\n",
    "           'Engagement Rank',\n",
    "           'Average Rank'\n",
    "           ]\n",
    "\n",
    "all_data = all_data[columns]\n",
    "all_data.head(10)"
   ]
  },
  {
   "cell_type": "code",
   "execution_count": null,
   "id": "e16f60f6",
   "metadata": {
    "scrolled": true
   },
   "outputs": [],
   "source": [
    "#Final Table Sorted by average rank\n",
    "all_data_by_avg_rank = all_data.sort_values('Average Rank', ascending = True)\n",
    "all_data_by_avg_rank.head(10)"
   ]
  },
  {
   "cell_type": "code",
   "execution_count": null,
   "id": "5e360db7",
   "metadata": {},
   "outputs": [],
   "source": []
  },
  {
   "cell_type": "code",
   "execution_count": null,
   "id": "1ead1b24",
   "metadata": {},
   "outputs": [],
   "source": []
  },
  {
   "cell_type": "code",
   "execution_count": null,
   "id": "e8fbf805",
   "metadata": {},
   "outputs": [],
   "source": []
  },
  {
   "cell_type": "code",
   "execution_count": null,
   "id": "ade7ea74",
   "metadata": {},
   "outputs": [],
   "source": []
  }
 ],
 "metadata": {
  "kernelspec": {
   "display_name": "Python 3 (ipykernel)",
   "language": "python",
   "name": "python3"
  },
  "language_info": {
   "codemirror_mode": {
    "name": "ipython",
    "version": 3
   },
   "file_extension": ".py",
   "mimetype": "text/x-python",
   "name": "python",
   "nbconvert_exporter": "python",
   "pygments_lexer": "ipython3",
   "version": "3.9.15"
  }
 },
 "nbformat": 4,
 "nbformat_minor": 5
}

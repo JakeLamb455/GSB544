{
 "cells": [
  {
   "cell_type": "raw",
   "id": "b3b22429",
   "metadata": {},
   "source": [
    "---\n",
    "title: 'Lab8: Cannabis'\n",
    "output: html\n",
    "self-contained: True\n",
    "---"
   ]
  },
  {
   "cell_type": "code",
   "execution_count": 146,
   "id": "66d7892a",
   "metadata": {},
   "outputs": [],
   "source": [
    "import pandas as pd\n",
    "import numpy as np\n",
    "from sklearn.pipeline import Pipeline\n",
    "from sklearn.preprocessing import OneHotEncoder\n",
    "from sklearn.compose import ColumnTransformer\n",
    "from sklearn.metrics import mean_squared_error\n",
    "from sklearn.model_selection import train_test_split\n",
    "from sklearn.linear_model import LinearRegression, LogisticRegression\n",
    "from sklearn.metrics import r2_score\n",
    "from sklearn.metrics import mean_squared_error\n",
    "from sklearn.neighbors import KNeighborsRegressor\n",
    "from sklearn.tree import DecisionTreeRegressor\n",
    "from sklearn.preprocessing import StandardScaler, OneHotEncoder, PolynomialFeatures, FunctionTransformer\n",
    "from sklearn.metrics import precision_score, recall_score, f1_score\n",
    "from sklearn.discriminant_analysis import LinearDiscriminantAnalysis\n",
    "from sklearn.svm import SVC\n",
    "from sklearn.pipeline import Pipeline\n",
    "from sklearn.preprocessing import OneHotEncoder, FunctionTransformer\n",
    "from sklearn.compose import ColumnTransformer\n",
    "from sklearn.metrics import mean_squared_error\n",
    "from sklearn.model_selection import train_test_split\n",
    "from sklearn.linear_model import LogisticRegression, LinearRegression\n",
    "from sklearn.metrics import r2_score\n",
    "from sklearn.metrics import mean_squared_error\n",
    "from sklearn.model_selection import cross_val_score\n",
    "from sklearn.metrics import accuracy_score\n",
    "from sklearn.neighbors import KNeighborsClassifier\n",
    "from sklearn.tree import DecisionTreeClassifier\n",
    "from sklearn.neighbors import KNeighborsRegressor\n",
    "from sklearn.tree import DecisionTreeRegressor\n",
    "from sklearn.metrics import confusion_matrix\n",
    "from sklearn.metrics import precision_score, recall_score, f1_score, roc_auc_score, roc_curve\n",
    "from sklearn.metrics import classification_report\n",
    "from sklearn.model_selection import GridSearchCV\n",
    "from sklearn.preprocessing import label_binarize"
   ]
  },
  {
   "cell_type": "code",
   "execution_count": 175,
   "id": "9b2337d1",
   "metadata": {
    "scrolled": true
   },
   "outputs": [],
   "source": [
    "can = pd.read_csv(\"cannabis_full.csv\")\n",
    "can = can.dropna()"
   ]
  },
  {
   "cell_type": "code",
   "execution_count": 115,
   "id": "0ed6a4f1",
   "metadata": {},
   "outputs": [
    {
     "data": {
      "text/html": [
       "<div>\n",
       "<style scoped>\n",
       "    .dataframe tbody tr th:only-of-type {\n",
       "        vertical-align: middle;\n",
       "    }\n",
       "\n",
       "    .dataframe tbody tr th {\n",
       "        vertical-align: top;\n",
       "    }\n",
       "\n",
       "    .dataframe thead th {\n",
       "        text-align: right;\n",
       "    }\n",
       "</style>\n",
       "<table border=\"1\" class=\"dataframe\">\n",
       "  <thead>\n",
       "    <tr style=\"text-align: right;\">\n",
       "      <th></th>\n",
       "      <th>Strain</th>\n",
       "      <th>Type</th>\n",
       "      <th>Rating</th>\n",
       "      <th>Effects</th>\n",
       "      <th>Flavor</th>\n",
       "      <th>Creative</th>\n",
       "      <th>Energetic</th>\n",
       "      <th>Tingly</th>\n",
       "      <th>Euphoric</th>\n",
       "      <th>Relaxed</th>\n",
       "      <th>...</th>\n",
       "      <th>Ammonia</th>\n",
       "      <th>Minty</th>\n",
       "      <th>Tree</th>\n",
       "      <th>Fruit</th>\n",
       "      <th>Butter</th>\n",
       "      <th>Pineapple</th>\n",
       "      <th>Tar</th>\n",
       "      <th>Rose</th>\n",
       "      <th>Plum</th>\n",
       "      <th>Pear</th>\n",
       "    </tr>\n",
       "  </thead>\n",
       "  <tbody>\n",
       "    <tr>\n",
       "      <th>0</th>\n",
       "      <td>100-Og</td>\n",
       "      <td>hybrid</td>\n",
       "      <td>4.0</td>\n",
       "      <td>Creative,Energetic,Tingly,Euphoric,Relaxed</td>\n",
       "      <td>Earthy,Sweet,Citrus</td>\n",
       "      <td>1.0</td>\n",
       "      <td>1.0</td>\n",
       "      <td>1.0</td>\n",
       "      <td>1.0</td>\n",
       "      <td>1.0</td>\n",
       "      <td>...</td>\n",
       "      <td>0.0</td>\n",
       "      <td>0.0</td>\n",
       "      <td>0.0</td>\n",
       "      <td>0.0</td>\n",
       "      <td>0.0</td>\n",
       "      <td>0.0</td>\n",
       "      <td>0.0</td>\n",
       "      <td>0.0</td>\n",
       "      <td>0.0</td>\n",
       "      <td>0.0</td>\n",
       "    </tr>\n",
       "    <tr>\n",
       "      <th>1</th>\n",
       "      <td>98-White-Widow</td>\n",
       "      <td>hybrid</td>\n",
       "      <td>4.7</td>\n",
       "      <td>Relaxed,Aroused,Creative,Happy,Energetic</td>\n",
       "      <td>Flowery,Violet,Diesel</td>\n",
       "      <td>1.0</td>\n",
       "      <td>1.0</td>\n",
       "      <td>0.0</td>\n",
       "      <td>0.0</td>\n",
       "      <td>1.0</td>\n",
       "      <td>...</td>\n",
       "      <td>0.0</td>\n",
       "      <td>0.0</td>\n",
       "      <td>0.0</td>\n",
       "      <td>0.0</td>\n",
       "      <td>0.0</td>\n",
       "      <td>0.0</td>\n",
       "      <td>0.0</td>\n",
       "      <td>0.0</td>\n",
       "      <td>0.0</td>\n",
       "      <td>0.0</td>\n",
       "    </tr>\n",
       "    <tr>\n",
       "      <th>2</th>\n",
       "      <td>1024</td>\n",
       "      <td>sativa</td>\n",
       "      <td>4.4</td>\n",
       "      <td>Uplifted,Happy,Relaxed,Energetic,Creative</td>\n",
       "      <td>Spicy/Herbal,Sage,Woody</td>\n",
       "      <td>1.0</td>\n",
       "      <td>1.0</td>\n",
       "      <td>0.0</td>\n",
       "      <td>0.0</td>\n",
       "      <td>1.0</td>\n",
       "      <td>...</td>\n",
       "      <td>0.0</td>\n",
       "      <td>0.0</td>\n",
       "      <td>0.0</td>\n",
       "      <td>0.0</td>\n",
       "      <td>0.0</td>\n",
       "      <td>0.0</td>\n",
       "      <td>0.0</td>\n",
       "      <td>0.0</td>\n",
       "      <td>0.0</td>\n",
       "      <td>0.0</td>\n",
       "    </tr>\n",
       "    <tr>\n",
       "      <th>3</th>\n",
       "      <td>13-Dawgs</td>\n",
       "      <td>hybrid</td>\n",
       "      <td>4.2</td>\n",
       "      <td>Tingly,Creative,Hungry,Relaxed,Uplifted</td>\n",
       "      <td>Apricot,Citrus,Grapefruit</td>\n",
       "      <td>1.0</td>\n",
       "      <td>0.0</td>\n",
       "      <td>1.0</td>\n",
       "      <td>0.0</td>\n",
       "      <td>1.0</td>\n",
       "      <td>...</td>\n",
       "      <td>0.0</td>\n",
       "      <td>0.0</td>\n",
       "      <td>0.0</td>\n",
       "      <td>0.0</td>\n",
       "      <td>0.0</td>\n",
       "      <td>0.0</td>\n",
       "      <td>0.0</td>\n",
       "      <td>0.0</td>\n",
       "      <td>0.0</td>\n",
       "      <td>0.0</td>\n",
       "    </tr>\n",
       "    <tr>\n",
       "      <th>4</th>\n",
       "      <td>24K-Gold</td>\n",
       "      <td>hybrid</td>\n",
       "      <td>4.6</td>\n",
       "      <td>Happy,Relaxed,Euphoric,Uplifted,Talkative</td>\n",
       "      <td>Citrus,Earthy,Orange</td>\n",
       "      <td>0.0</td>\n",
       "      <td>0.0</td>\n",
       "      <td>0.0</td>\n",
       "      <td>1.0</td>\n",
       "      <td>1.0</td>\n",
       "      <td>...</td>\n",
       "      <td>0.0</td>\n",
       "      <td>0.0</td>\n",
       "      <td>0.0</td>\n",
       "      <td>0.0</td>\n",
       "      <td>0.0</td>\n",
       "      <td>0.0</td>\n",
       "      <td>0.0</td>\n",
       "      <td>0.0</td>\n",
       "      <td>0.0</td>\n",
       "      <td>0.0</td>\n",
       "    </tr>\n",
       "  </tbody>\n",
       "</table>\n",
       "<p>5 rows × 69 columns</p>\n",
       "</div>"
      ],
      "text/plain": [
       "           Strain    Type  Rating                                     Effects  \\\n",
       "0          100-Og  hybrid     4.0  Creative,Energetic,Tingly,Euphoric,Relaxed   \n",
       "1  98-White-Widow  hybrid     4.7    Relaxed,Aroused,Creative,Happy,Energetic   \n",
       "2            1024  sativa     4.4   Uplifted,Happy,Relaxed,Energetic,Creative   \n",
       "3        13-Dawgs  hybrid     4.2     Tingly,Creative,Hungry,Relaxed,Uplifted   \n",
       "4        24K-Gold  hybrid     4.6   Happy,Relaxed,Euphoric,Uplifted,Talkative   \n",
       "\n",
       "                      Flavor  Creative  Energetic  Tingly  Euphoric  Relaxed  \\\n",
       "0        Earthy,Sweet,Citrus       1.0        1.0     1.0       1.0      1.0   \n",
       "1      Flowery,Violet,Diesel       1.0        1.0     0.0       0.0      1.0   \n",
       "2    Spicy/Herbal,Sage,Woody       1.0        1.0     0.0       0.0      1.0   \n",
       "3  Apricot,Citrus,Grapefruit       1.0        0.0     1.0       0.0      1.0   \n",
       "4       Citrus,Earthy,Orange       0.0        0.0     0.0       1.0      1.0   \n",
       "\n",
       "   ...  Ammonia  Minty  Tree  Fruit  Butter  Pineapple  Tar  Rose  Plum  Pear  \n",
       "0  ...      0.0    0.0   0.0    0.0     0.0        0.0  0.0   0.0   0.0   0.0  \n",
       "1  ...      0.0    0.0   0.0    0.0     0.0        0.0  0.0   0.0   0.0   0.0  \n",
       "2  ...      0.0    0.0   0.0    0.0     0.0        0.0  0.0   0.0   0.0   0.0  \n",
       "3  ...      0.0    0.0   0.0    0.0     0.0        0.0  0.0   0.0   0.0   0.0  \n",
       "4  ...      0.0    0.0   0.0    0.0     0.0        0.0  0.0   0.0   0.0   0.0  \n",
       "\n",
       "[5 rows x 69 columns]"
      ]
     },
     "execution_count": 115,
     "metadata": {},
     "output_type": "execute_result"
    }
   ],
   "source": [
    "can.head()"
   ]
  },
  {
   "cell_type": "code",
   "execution_count": 176,
   "id": "5a77184c",
   "metadata": {},
   "outputs": [],
   "source": [
    "can = can.drop(['Flavor', 'Effects', 'Strain'], axis=1)"
   ]
  },
  {
   "cell_type": "markdown",
   "id": "e6964d25",
   "metadata": {},
   "source": [
    "## Part One: Binary Classification\n"
   ]
  },
  {
   "cell_type": "code",
   "execution_count": 117,
   "id": "976a20c6",
   "metadata": {},
   "outputs": [
    {
     "data": {
      "text/html": [
       "<div>\n",
       "<style scoped>\n",
       "    .dataframe tbody tr th:only-of-type {\n",
       "        vertical-align: middle;\n",
       "    }\n",
       "\n",
       "    .dataframe tbody tr th {\n",
       "        vertical-align: top;\n",
       "    }\n",
       "\n",
       "    .dataframe thead th {\n",
       "        text-align: right;\n",
       "    }\n",
       "</style>\n",
       "<table border=\"1\" class=\"dataframe\">\n",
       "  <thead>\n",
       "    <tr style=\"text-align: right;\">\n",
       "      <th></th>\n",
       "      <th>Type</th>\n",
       "      <th>Rating</th>\n",
       "      <th>Creative</th>\n",
       "      <th>Energetic</th>\n",
       "      <th>Tingly</th>\n",
       "      <th>Euphoric</th>\n",
       "      <th>Relaxed</th>\n",
       "      <th>Aroused</th>\n",
       "      <th>Happy</th>\n",
       "      <th>Uplifted</th>\n",
       "      <th>...</th>\n",
       "      <th>Ammonia</th>\n",
       "      <th>Minty</th>\n",
       "      <th>Tree</th>\n",
       "      <th>Fruit</th>\n",
       "      <th>Butter</th>\n",
       "      <th>Pineapple</th>\n",
       "      <th>Tar</th>\n",
       "      <th>Rose</th>\n",
       "      <th>Plum</th>\n",
       "      <th>Pear</th>\n",
       "    </tr>\n",
       "  </thead>\n",
       "  <tbody>\n",
       "    <tr>\n",
       "      <th>0</th>\n",
       "      <td>hybrid</td>\n",
       "      <td>4.0</td>\n",
       "      <td>1.0</td>\n",
       "      <td>1.0</td>\n",
       "      <td>1.0</td>\n",
       "      <td>1.0</td>\n",
       "      <td>1.0</td>\n",
       "      <td>0.0</td>\n",
       "      <td>0.0</td>\n",
       "      <td>0.0</td>\n",
       "      <td>...</td>\n",
       "      <td>0.0</td>\n",
       "      <td>0.0</td>\n",
       "      <td>0.0</td>\n",
       "      <td>0.0</td>\n",
       "      <td>0.0</td>\n",
       "      <td>0.0</td>\n",
       "      <td>0.0</td>\n",
       "      <td>0.0</td>\n",
       "      <td>0.0</td>\n",
       "      <td>0.0</td>\n",
       "    </tr>\n",
       "    <tr>\n",
       "      <th>1</th>\n",
       "      <td>hybrid</td>\n",
       "      <td>4.7</td>\n",
       "      <td>1.0</td>\n",
       "      <td>1.0</td>\n",
       "      <td>0.0</td>\n",
       "      <td>0.0</td>\n",
       "      <td>1.0</td>\n",
       "      <td>1.0</td>\n",
       "      <td>1.0</td>\n",
       "      <td>0.0</td>\n",
       "      <td>...</td>\n",
       "      <td>0.0</td>\n",
       "      <td>0.0</td>\n",
       "      <td>0.0</td>\n",
       "      <td>0.0</td>\n",
       "      <td>0.0</td>\n",
       "      <td>0.0</td>\n",
       "      <td>0.0</td>\n",
       "      <td>0.0</td>\n",
       "      <td>0.0</td>\n",
       "      <td>0.0</td>\n",
       "    </tr>\n",
       "    <tr>\n",
       "      <th>2</th>\n",
       "      <td>sativa</td>\n",
       "      <td>4.4</td>\n",
       "      <td>1.0</td>\n",
       "      <td>1.0</td>\n",
       "      <td>0.0</td>\n",
       "      <td>0.0</td>\n",
       "      <td>1.0</td>\n",
       "      <td>0.0</td>\n",
       "      <td>1.0</td>\n",
       "      <td>1.0</td>\n",
       "      <td>...</td>\n",
       "      <td>0.0</td>\n",
       "      <td>0.0</td>\n",
       "      <td>0.0</td>\n",
       "      <td>0.0</td>\n",
       "      <td>0.0</td>\n",
       "      <td>0.0</td>\n",
       "      <td>0.0</td>\n",
       "      <td>0.0</td>\n",
       "      <td>0.0</td>\n",
       "      <td>0.0</td>\n",
       "    </tr>\n",
       "    <tr>\n",
       "      <th>3</th>\n",
       "      <td>hybrid</td>\n",
       "      <td>4.2</td>\n",
       "      <td>1.0</td>\n",
       "      <td>0.0</td>\n",
       "      <td>1.0</td>\n",
       "      <td>0.0</td>\n",
       "      <td>1.0</td>\n",
       "      <td>0.0</td>\n",
       "      <td>0.0</td>\n",
       "      <td>1.0</td>\n",
       "      <td>...</td>\n",
       "      <td>0.0</td>\n",
       "      <td>0.0</td>\n",
       "      <td>0.0</td>\n",
       "      <td>0.0</td>\n",
       "      <td>0.0</td>\n",
       "      <td>0.0</td>\n",
       "      <td>0.0</td>\n",
       "      <td>0.0</td>\n",
       "      <td>0.0</td>\n",
       "      <td>0.0</td>\n",
       "    </tr>\n",
       "    <tr>\n",
       "      <th>4</th>\n",
       "      <td>hybrid</td>\n",
       "      <td>4.6</td>\n",
       "      <td>0.0</td>\n",
       "      <td>0.0</td>\n",
       "      <td>0.0</td>\n",
       "      <td>1.0</td>\n",
       "      <td>1.0</td>\n",
       "      <td>0.0</td>\n",
       "      <td>1.0</td>\n",
       "      <td>1.0</td>\n",
       "      <td>...</td>\n",
       "      <td>0.0</td>\n",
       "      <td>0.0</td>\n",
       "      <td>0.0</td>\n",
       "      <td>0.0</td>\n",
       "      <td>0.0</td>\n",
       "      <td>0.0</td>\n",
       "      <td>0.0</td>\n",
       "      <td>0.0</td>\n",
       "      <td>0.0</td>\n",
       "      <td>0.0</td>\n",
       "    </tr>\n",
       "  </tbody>\n",
       "</table>\n",
       "<p>5 rows × 66 columns</p>\n",
       "</div>"
      ],
      "text/plain": [
       "     Type  Rating  Creative  Energetic  Tingly  Euphoric  Relaxed  Aroused  \\\n",
       "0  hybrid     4.0       1.0        1.0     1.0       1.0      1.0      0.0   \n",
       "1  hybrid     4.7       1.0        1.0     0.0       0.0      1.0      1.0   \n",
       "2  sativa     4.4       1.0        1.0     0.0       0.0      1.0      0.0   \n",
       "3  hybrid     4.2       1.0        0.0     1.0       0.0      1.0      0.0   \n",
       "4  hybrid     4.6       0.0        0.0     0.0       1.0      1.0      0.0   \n",
       "\n",
       "   Happy  Uplifted  ...  Ammonia  Minty  Tree  Fruit  Butter  Pineapple  Tar  \\\n",
       "0    0.0       0.0  ...      0.0    0.0   0.0    0.0     0.0        0.0  0.0   \n",
       "1    1.0       0.0  ...      0.0    0.0   0.0    0.0     0.0        0.0  0.0   \n",
       "2    1.0       1.0  ...      0.0    0.0   0.0    0.0     0.0        0.0  0.0   \n",
       "3    0.0       1.0  ...      0.0    0.0   0.0    0.0     0.0        0.0  0.0   \n",
       "4    1.0       1.0  ...      0.0    0.0   0.0    0.0     0.0        0.0  0.0   \n",
       "\n",
       "   Rose  Plum  Pear  \n",
       "0   0.0   0.0   0.0  \n",
       "1   0.0   0.0   0.0  \n",
       "2   0.0   0.0   0.0  \n",
       "3   0.0   0.0   0.0  \n",
       "4   0.0   0.0   0.0  \n",
       "\n",
       "[5 rows x 66 columns]"
      ]
     },
     "execution_count": 117,
     "metadata": {},
     "output_type": "execute_result"
    }
   ],
   "source": [
    "can.head()"
   ]
  },
  {
   "cell_type": "markdown",
   "id": "55eb9a27",
   "metadata": {},
   "source": [
    "Create a dataset that is limited only to the Sativa and Indica type cannabis strains."
   ]
  },
  {
   "cell_type": "code",
   "execution_count": 118,
   "id": "399275af",
   "metadata": {},
   "outputs": [],
   "source": [
    "typed = can[(can['Type'] == 'sativa') | (can['Type'] == 'indica')]\n",
    "X = typed.drop(['Type'], axis = 1)\n",
    "y = typed['Type']"
   ]
  },
  {
   "cell_type": "markdown",
   "id": "e0e5293b",
   "metadata": {},
   "source": [
    "This section asks you to create a final best model for each of the four new model types studied this week: LDA, QDA, SVC, and SVM. For SVM, you may limit yourself to only the polynomial kernel.\n",
    "\n",
    "For each, you should:\n",
    "\n",
    "Choose a metric you will use to select your model, and briefly justify your choice. (Hint: There is no specific target category here, so this should not be a metric that only prioritizes one category.)\n",
    "\n",
    "Find the best model for predicting the Type variable. Don’t forget to tune any hyperparameters.\n",
    "\n",
    "Report the (cross-validated!) metric.\n",
    "\n",
    "Fit the final model.\n",
    "\n",
    "Output a confusion matrix."
   ]
  },
  {
   "cell_type": "markdown",
   "id": "0d45c746",
   "metadata": {},
   "source": [
    "## Q1: LDA"
   ]
  },
  {
   "cell_type": "code",
   "execution_count": 119,
   "id": "aad7df3c",
   "metadata": {},
   "outputs": [
    {
     "data": {
      "text/plain": [
       "0.9260402178812139"
      ]
     },
     "execution_count": 119,
     "metadata": {},
     "output_type": "execute_result"
    }
   ],
   "source": [
    "\n",
    "LDA = Pipeline(\n",
    "  [\n",
    "  (\"LDA\", LinearDiscriminantAnalysis())]\n",
    ")\n",
    "\n",
    "cross_val_score(LDA, X, y, cv=5, scoring='roc_auc').mean()"
   ]
  },
  {
   "cell_type": "markdown",
   "id": "6d5004f1",
   "metadata": {},
   "source": [
    "I chose ROC_AUC as the metric because our predictions are binary and we are not favoring a target variable."
   ]
  },
  {
   "cell_type": "code",
   "execution_count": 120,
   "id": "43e548b2",
   "metadata": {},
   "outputs": [
    {
     "data": {
      "text/plain": [
       "array([[627,  60],\n",
       "       [ 86, 345]], dtype=int64)"
      ]
     },
     "execution_count": 120,
     "metadata": {},
     "output_type": "execute_result"
    }
   ],
   "source": [
    "LDAfit = LDA.fit(X,y)\n",
    "y_preds = LDAfit.predict(X)\n",
    "confusion_matrix(y, y_preds)"
   ]
  },
  {
   "cell_type": "markdown",
   "id": "9e9c550e",
   "metadata": {},
   "source": [
    "## Q2: QDA"
   ]
  },
  {
   "cell_type": "code",
   "execution_count": 121,
   "id": "24695ff8",
   "metadata": {},
   "outputs": [
    {
     "name": "stderr",
     "output_type": "stream",
     "text": [
      "C:\\Users\\jamla\\anaconda33\\Lib\\site-packages\\sklearn\\discriminant_analysis.py:935: UserWarning: Variables are collinear\n",
      "  warnings.warn(\"Variables are collinear\")\n",
      "C:\\Users\\jamla\\anaconda33\\Lib\\site-packages\\sklearn\\discriminant_analysis.py:935: UserWarning: Variables are collinear\n",
      "  warnings.warn(\"Variables are collinear\")\n",
      "C:\\Users\\jamla\\anaconda33\\Lib\\site-packages\\sklearn\\discriminant_analysis.py:935: UserWarning: Variables are collinear\n",
      "  warnings.warn(\"Variables are collinear\")\n",
      "C:\\Users\\jamla\\anaconda33\\Lib\\site-packages\\sklearn\\discriminant_analysis.py:935: UserWarning: Variables are collinear\n",
      "  warnings.warn(\"Variables are collinear\")\n",
      "C:\\Users\\jamla\\anaconda33\\Lib\\site-packages\\sklearn\\discriminant_analysis.py:935: UserWarning: Variables are collinear\n",
      "  warnings.warn(\"Variables are collinear\")\n"
     ]
    },
    {
     "data": {
      "text/plain": [
       "0.767575503964195"
      ]
     },
     "execution_count": 121,
     "metadata": {},
     "output_type": "execute_result"
    }
   ],
   "source": [
    "from sklearn.discriminant_analysis import QuadraticDiscriminantAnalysis\n",
    "\n",
    "QDA = Pipeline(\n",
    "  [\n",
    "  (\"QDA\", QuadraticDiscriminantAnalysis())]\n",
    ")\n",
    "\n",
    "cross_val_score(QDA, X, y, cv=5, scoring='roc_auc').mean()"
   ]
  },
  {
   "cell_type": "markdown",
   "id": "b732b09a",
   "metadata": {},
   "source": [
    "I chose ROC_AUC as the metric because our predictions are binary and we are not favoring a target variable."
   ]
  },
  {
   "cell_type": "code",
   "execution_count": 122,
   "id": "bb57ce06",
   "metadata": {},
   "outputs": [
    {
     "name": "stderr",
     "output_type": "stream",
     "text": [
      "C:\\Users\\jamla\\anaconda33\\Lib\\site-packages\\sklearn\\discriminant_analysis.py:935: UserWarning: Variables are collinear\n",
      "  warnings.warn(\"Variables are collinear\")\n"
     ]
    },
    {
     "data": {
      "text/plain": [
       "array([[ 24, 663],\n",
       "       [  0, 431]], dtype=int64)"
      ]
     },
     "execution_count": 122,
     "metadata": {},
     "output_type": "execute_result"
    }
   ],
   "source": [
    "QDAfit = QDA.fit(X,y)\n",
    "y_preds_qda = QDAfit.predict(X)\n",
    "confusion_matrix(y, y_preds_qda)"
   ]
  },
  {
   "cell_type": "markdown",
   "id": "7f81783a",
   "metadata": {},
   "source": [
    "## Q3: SVC"
   ]
  },
  {
   "cell_type": "code",
   "execution_count": 123,
   "id": "39c731c1",
   "metadata": {},
   "outputs": [],
   "source": [
    "svc = Pipeline([(\"svc\", SVC())])\n",
    "tune = {'svc__C': [.12,.1,.001,.2,.3,.4,5,.6,.7,.7,.8,.9,1,2,3,4,5,6,7,8,9,10]}\n",
    "\n",
    "gscv1 = GridSearchCV(svc, tune, cv = 5, scoring='roc_auc')\n",
    "gscv1fit = gscv1.fit(X,y)\n"
   ]
  },
  {
   "cell_type": "markdown",
   "id": "bdd15ee8",
   "metadata": {},
   "source": [
    "I chose ROC_AUC as the metric because our predictions are binary and we are not favoring a target variable."
   ]
  },
  {
   "cell_type": "code",
   "execution_count": 124,
   "id": "6856ec37",
   "metadata": {},
   "outputs": [
    {
     "data": {
      "text/plain": [
       "{'svc__C': 0.1}"
      ]
     },
     "execution_count": 124,
     "metadata": {},
     "output_type": "execute_result"
    }
   ],
   "source": [
    "gscv1.best_params_"
   ]
  },
  {
   "cell_type": "code",
   "execution_count": 125,
   "id": "cddfd808",
   "metadata": {},
   "outputs": [
    {
     "data": {
      "text/plain": [
       "0.9336773813059519"
      ]
     },
     "execution_count": 125,
     "metadata": {},
     "output_type": "execute_result"
    }
   ],
   "source": [
    "svc = Pipeline([(\"svc\", SVC(C=.1))])\n",
    "cross_val_score(svc, X, y, cv=5, scoring='roc_auc').mean()"
   ]
  },
  {
   "cell_type": "code",
   "execution_count": 126,
   "id": "1e0da296",
   "metadata": {},
   "outputs": [
    {
     "data": {
      "text/plain": [
       "array([[651,  36],\n",
       "       [135, 296]], dtype=int64)"
      ]
     },
     "execution_count": 126,
     "metadata": {},
     "output_type": "execute_result"
    }
   ],
   "source": [
    "svcfit = svc.fit(X,y)\n",
    "y_preds_svc = svcfit.predict(X)\n",
    "confusion_matrix(y, y_preds_svc)"
   ]
  },
  {
   "cell_type": "markdown",
   "id": "42ba1c8a",
   "metadata": {},
   "source": [
    "## Q4: SVM"
   ]
  },
  {
   "cell_type": "code",
   "execution_count": 127,
   "id": "1c3a8c24",
   "metadata": {},
   "outputs": [],
   "source": [
    "svm = Pipeline([(\"svm\", SVC(kernel = 'poly'))])\n",
    "tune = {'svm__C': [.12,.1,.001,.2,.3,.4,5,.6,.7,.7,.8,.9,1,2,3,4,5,6,7,8,9,10]}\n",
    "\n",
    "gscv2 = GridSearchCV(svm, tune, cv = 5, scoring='roc_auc')\n",
    "gscv2fit = gscv2.fit(X,y)\n"
   ]
  },
  {
   "cell_type": "code",
   "execution_count": 128,
   "id": "c9f85c77",
   "metadata": {},
   "outputs": [
    {
     "data": {
      "text/plain": [
       "{'svm__C': 0.4}"
      ]
     },
     "execution_count": 128,
     "metadata": {},
     "output_type": "execute_result"
    }
   ],
   "source": [
    "gscv2.best_params_"
   ]
  },
  {
   "cell_type": "markdown",
   "id": "6ff515be",
   "metadata": {},
   "source": [
    "I chose ROC_AUC as the metric because our predictions are binary and we are not favoring a target variable."
   ]
  },
  {
   "cell_type": "code",
   "execution_count": 129,
   "id": "4589faa3",
   "metadata": {},
   "outputs": [
    {
     "data": {
      "text/plain": [
       "0.9358319864002814"
      ]
     },
     "execution_count": 129,
     "metadata": {},
     "output_type": "execute_result"
    }
   ],
   "source": [
    "svm = Pipeline([(\"svm\", SVC(C=.4, kernel = 'poly'))])\n",
    "cross_val_score(svm, X, y, cv=5, scoring='roc_auc').mean()"
   ]
  },
  {
   "cell_type": "code",
   "execution_count": 130,
   "id": "0bd8da65",
   "metadata": {},
   "outputs": [
    {
     "data": {
      "text/plain": [
       "array([[646,  41],\n",
       "       [101, 330]], dtype=int64)"
      ]
     },
     "execution_count": 130,
     "metadata": {},
     "output_type": "execute_result"
    }
   ],
   "source": [
    "svmfit = svm.fit(X,y)\n",
    "y_preds_svm = svmfit.predict(X)\n",
    "confusion_matrix(y, y_preds_svm)"
   ]
  },
  {
   "cell_type": "markdown",
   "id": "806526e4",
   "metadata": {},
   "source": [
    "## Part Two: Natural Multiclass"
   ]
  },
  {
   "cell_type": "code",
   "execution_count": 143,
   "id": "ad19c5e0",
   "metadata": {},
   "outputs": [],
   "source": [
    "can = can.dropna()\n",
    "X = can.drop(['Type'],axis=1)\n",
    "y = can['Type']"
   ]
  },
  {
   "cell_type": "markdown",
   "id": "657148a2",
   "metadata": {},
   "source": [
    "Q1\n",
    "Fit a decision tree, plot the final fit, and interpret the results.\n"
   ]
  },
  {
   "cell_type": "code",
   "execution_count": 132,
   "id": "9f74e6a2",
   "metadata": {},
   "outputs": [],
   "source": [
    "DT1 = Pipeline(\n",
    "    [('DT1', DecisionTreeClassifier())]\n",
    ")\n",
    "neigh = {'DT1__max_depth': [2,3,4,5,6,7,8,9,10,11,12,13,14,15,16,17,18,19,20], 'DT1__min_samples_split': [2,3,4,5,6,7,8,9,10,11,12,13,14,15,16,17,18,19,20]}\n",
    "\n",
    "gscv = GridSearchCV(DT1, neigh, cv = 5, scoring='accuracy')\n",
    "gscvfit = gscv.fit(X,y)"
   ]
  },
  {
   "cell_type": "code",
   "execution_count": 133,
   "id": "675b8954",
   "metadata": {},
   "outputs": [
    {
     "data": {
      "text/plain": [
       "{'DT1__max_depth': 3, 'DT1__min_samples_split': 2}"
      ]
     },
     "execution_count": 133,
     "metadata": {},
     "output_type": "execute_result"
    }
   ],
   "source": [
    "gscvfit.best_params_"
   ]
  },
  {
   "cell_type": "code",
   "execution_count": 134,
   "id": "c91e3738",
   "metadata": {},
   "outputs": [
    {
     "data": {
      "text/plain": [
       "0.6216919739696312"
      ]
     },
     "execution_count": 134,
     "metadata": {},
     "output_type": "execute_result"
    }
   ],
   "source": [
    "DT1 = Pipeline(\n",
    "    [('DT1', DecisionTreeClassifier(max_depth= 3, min_samples_split= 2))]\n",
    ")\n",
    "cv2 = cross_val_score(DT1, X,y, cv=5, scoring = \"accuracy\")\n",
    "cv2.mean()"
   ]
  },
  {
   "cell_type": "code",
   "execution_count": 135,
   "id": "f1dc730e",
   "metadata": {},
   "outputs": [],
   "source": [
    "DT1fit = DT1.fit(X,y)"
   ]
  },
  {
   "cell_type": "code",
   "execution_count": 136,
   "id": "49481390",
   "metadata": {},
   "outputs": [
    {
     "data": {
      "image/png": "[encoded data removed]",
      "text/plain": [
       "<Figure size 1600x800 with 1 Axes>"
      ]
     },
     "metadata": {},
     "output_type": "display_data"
    }
   ],
   "source": [
    "import matplotlib.pyplot as plt\n",
    "from sklearn.tree import plot_tree\n",
    "\n",
    "plt.figure(figsize=(16, 8))\n",
    "plot_tree(DT1fit.named_steps['DT1'], feature_names=X.columns.tolist(), class_names=['sativa','hybrid', 'indica'], filled=True)\n",
    "plt.show()"
   ]
  },
  {
   "cell_type": "markdown",
   "id": "ba181b32",
   "metadata": {},
   "source": [
    "This tree shows us that the most important factor in determining the cannabis type is whether or not the strain makes you sleepy because it is the highest on the decision tree. Whether or not the strain makes you energetic or tastes like citrus are the next best predictors because they are in the second row of the decision tree."
   ]
  },
  {
   "cell_type": "markdown",
   "id": "9a144b56",
   "metadata": {},
   "source": [
    "Q2\n",
    "Repeat the analyses from Part One for LDA, QDA, and KNN.\n"
   ]
  },
  {
   "cell_type": "code",
   "execution_count": 137,
   "id": "ee15040a",
   "metadata": {},
   "outputs": [
    {
     "data": {
      "text/plain": [
       "0.6290672451193059"
      ]
     },
     "execution_count": 137,
     "metadata": {},
     "output_type": "execute_result"
    }
   ],
   "source": [
    "\n",
    "LDA1 = Pipeline(\n",
    "  [\n",
    "  (\"LDA1\", LinearDiscriminantAnalysis())]\n",
    ")\n",
    "\n",
    "cross_val_score(LDA1, X, y, cv=5, scoring='accuracy').mean()"
   ]
  },
  {
   "cell_type": "code",
   "execution_count": 138,
   "id": "e7d98a0c",
   "metadata": {
    "scrolled": true
   },
   "outputs": [
    {
     "data": {
      "text/plain": [
       "array([[829, 211, 147],\n",
       "       [211, 467,   9],\n",
       "       [224,  21, 186]], dtype=int64)"
      ]
     },
     "execution_count": 138,
     "metadata": {},
     "output_type": "execute_result"
    }
   ],
   "source": [
    "LDA1fit = LDA1.fit(X,y)\n",
    "y_preds1 = LDA1fit.predict(X)\n",
    "confusion_matrix(y, y_preds1)"
   ]
  },
  {
   "cell_type": "code",
   "execution_count": 139,
   "id": "e2a8fa4b",
   "metadata": {},
   "outputs": [
    {
     "name": "stderr",
     "output_type": "stream",
     "text": [
      "C:\\Users\\jamla\\anaconda33\\Lib\\site-packages\\sklearn\\discriminant_analysis.py:935: UserWarning: Variables are collinear\n",
      "  warnings.warn(\"Variables are collinear\")\n",
      "C:\\Users\\jamla\\anaconda33\\Lib\\site-packages\\sklearn\\discriminant_analysis.py:935: UserWarning: Variables are collinear\n",
      "  warnings.warn(\"Variables are collinear\")\n",
      "C:\\Users\\jamla\\anaconda33\\Lib\\site-packages\\sklearn\\discriminant_analysis.py:935: UserWarning: Variables are collinear\n",
      "  warnings.warn(\"Variables are collinear\")\n",
      "C:\\Users\\jamla\\anaconda33\\Lib\\site-packages\\sklearn\\discriminant_analysis.py:935: UserWarning: Variables are collinear\n",
      "  warnings.warn(\"Variables are collinear\")\n",
      "C:\\Users\\jamla\\anaconda33\\Lib\\site-packages\\sklearn\\discriminant_analysis.py:935: UserWarning: Variables are collinear\n",
      "  warnings.warn(\"Variables are collinear\")\n"
     ]
    },
    {
     "data": {
      "text/plain": [
       "0.20433839479392626"
      ]
     },
     "execution_count": 139,
     "metadata": {},
     "output_type": "execute_result"
    }
   ],
   "source": [
    "QDA1 = Pipeline(\n",
    "  [\n",
    "  (\"QDA1\", QuadraticDiscriminantAnalysis())]\n",
    ")\n",
    "\n",
    "cross_val_score(QDA1, X, y, cv=5, scoring='accuracy').mean()"
   ]
  },
  {
   "cell_type": "code",
   "execution_count": 140,
   "id": "4daac7a7",
   "metadata": {},
   "outputs": [
    {
     "name": "stderr",
     "output_type": "stream",
     "text": [
      "C:\\Users\\jamla\\anaconda33\\Lib\\site-packages\\sklearn\\discriminant_analysis.py:935: UserWarning: Variables are collinear\n",
      "  warnings.warn(\"Variables are collinear\")\n"
     ]
    },
    {
     "data": {
      "text/plain": [
       "array([[  27,   10, 1150],\n",
       "       [   8,   22,  657],\n",
       "       [   1,    0,  430]], dtype=int64)"
      ]
     },
     "execution_count": 140,
     "metadata": {},
     "output_type": "execute_result"
    }
   ],
   "source": [
    "QDA1fit = QDA1.fit(X,y)\n",
    "y_preds_qda1 = QDA1fit.predict(X)\n",
    "confusion_matrix(y, y_preds_qda1)"
   ]
  },
  {
   "cell_type": "code",
   "execution_count": 149,
   "id": "60aaaa70",
   "metadata": {},
   "outputs": [],
   "source": [
    "from sklearn.neighbors import KNeighborsClassifier\n",
    "X = np.ascontiguousarray(X)\n",
    "Knn1 = Pipeline(\n",
    "    [('KNN', KNeighborsClassifier())]\n",
    ")\n",
    "neigh = {'KNN__n_neighbors': [1,2,3,4,5,6,7,8,9,10,11,12,13,14,15,16,17,18,19,20]}\n",
    "\n",
    "gscv3 = GridSearchCV(Knn1, neigh, cv = 5, scoring= 'accuracy')\n"
   ]
  },
  {
   "cell_type": "code",
   "execution_count": 151,
   "id": "651a75a8",
   "metadata": {},
   "outputs": [
    {
     "data": {
      "text/plain": [
       "{'KNN__n_neighbors': 19}"
      ]
     },
     "execution_count": 151,
     "metadata": {},
     "output_type": "execute_result"
    }
   ],
   "source": [
    "gscv3.fit(X,y)\n",
    "gscv3.best_params_"
   ]
  },
  {
   "cell_type": "code",
   "execution_count": 152,
   "id": "cf7fd845",
   "metadata": {},
   "outputs": [],
   "source": [
    "Knn1 = Pipeline(\n",
    "    [('KNN', KNeighborsClassifier(n_neighbors=19))]\n",
    ")"
   ]
  },
  {
   "cell_type": "code",
   "execution_count": 154,
   "id": "b01bb84b",
   "metadata": {},
   "outputs": [
    {
     "data": {
      "text/plain": [
       "0.6043383947939263"
      ]
     },
     "execution_count": 154,
     "metadata": {},
     "output_type": "execute_result"
    }
   ],
   "source": [
    "cross_val_score(Knn1,X,y,cv=5, scoring='accuracy').mean()"
   ]
  },
  {
   "cell_type": "code",
   "execution_count": 155,
   "id": "5c422200",
   "metadata": {},
   "outputs": [
    {
     "data": {
      "text/plain": [
       "array([[944, 185,  58],\n",
       "       [274, 410,   3],\n",
       "       [299,  22, 110]], dtype=int64)"
      ]
     },
     "execution_count": 155,
     "metadata": {},
     "output_type": "execute_result"
    }
   ],
   "source": [
    "Knnfit = Knn1.fit(X,y)\n",
    "y_predsKN = Knnfit.predict(X)\n",
    "confusion_matrix(y, y_predsKN)"
   ]
  },
  {
   "cell_type": "markdown",
   "id": "4e6cf4ca",
   "metadata": {},
   "source": [
    "Q3\n",
    "Were your metrics better or worse than in Part One? Why? Which categories were most likely to get mixed up, according to the confusion matrices? Why?"
   ]
  },
  {
   "cell_type": "markdown",
   "id": "e326c2c6",
   "metadata": {},
   "source": [
    "The metrics were worse than in part one. This makes sense because it went from 2 possibilities, to 3 possibilities. 50 percent is the baseline in binary models but with 3 classes, the baseline is .33. Indica and sativa were most likely to get mixed up according to the matrices because across all three confusion matrices, there were high numbers of predicted indica when it was actually sativa and vice versa."
   ]
  },
  {
   "cell_type": "markdown",
   "id": "67d87335",
   "metadata": {},
   "source": [
    "## Part Three: Multiclass from Binary"
   ]
  },
  {
   "cell_type": "markdown",
   "id": "81354215",
   "metadata": {},
   "source": [
    "Consider two models designed for binary classification: SVC and Logistic Regression.\n",
    "\n",
    "## Q1\n",
    "Fit and report metrics for OvR versions of the models. That is, for each of the two model types, create three models:"
   ]
  },
  {
   "cell_type": "code",
   "execution_count": 177,
   "id": "c46a9bee",
   "metadata": {},
   "outputs": [
    {
     "data": {
      "text/html": [
       "<div>\n",
       "<style scoped>\n",
       "    .dataframe tbody tr th:only-of-type {\n",
       "        vertical-align: middle;\n",
       "    }\n",
       "\n",
       "    .dataframe tbody tr th {\n",
       "        vertical-align: top;\n",
       "    }\n",
       "\n",
       "    .dataframe thead th {\n",
       "        text-align: right;\n",
       "    }\n",
       "</style>\n",
       "<table border=\"1\" class=\"dataframe\">\n",
       "  <thead>\n",
       "    <tr style=\"text-align: right;\">\n",
       "      <th></th>\n",
       "      <th>Type</th>\n",
       "      <th>Rating</th>\n",
       "      <th>Creative</th>\n",
       "      <th>Energetic</th>\n",
       "      <th>Tingly</th>\n",
       "      <th>Euphoric</th>\n",
       "      <th>Relaxed</th>\n",
       "      <th>Aroused</th>\n",
       "      <th>Happy</th>\n",
       "      <th>Uplifted</th>\n",
       "      <th>...</th>\n",
       "      <th>Fruit</th>\n",
       "      <th>Butter</th>\n",
       "      <th>Pineapple</th>\n",
       "      <th>Tar</th>\n",
       "      <th>Rose</th>\n",
       "      <th>Plum</th>\n",
       "      <th>Pear</th>\n",
       "      <th>Type_is_hybrid</th>\n",
       "      <th>Type_is_indica</th>\n",
       "      <th>Type_is_sativa</th>\n",
       "    </tr>\n",
       "  </thead>\n",
       "  <tbody>\n",
       "    <tr>\n",
       "      <th>0</th>\n",
       "      <td>hybrid</td>\n",
       "      <td>4.0</td>\n",
       "      <td>1.0</td>\n",
       "      <td>1.0</td>\n",
       "      <td>1.0</td>\n",
       "      <td>1.0</td>\n",
       "      <td>1.0</td>\n",
       "      <td>0.0</td>\n",
       "      <td>0.0</td>\n",
       "      <td>0.0</td>\n",
       "      <td>...</td>\n",
       "      <td>0.0</td>\n",
       "      <td>0.0</td>\n",
       "      <td>0.0</td>\n",
       "      <td>0.0</td>\n",
       "      <td>0.0</td>\n",
       "      <td>0.0</td>\n",
       "      <td>0.0</td>\n",
       "      <td>1</td>\n",
       "      <td>0</td>\n",
       "      <td>0</td>\n",
       "    </tr>\n",
       "    <tr>\n",
       "      <th>1</th>\n",
       "      <td>hybrid</td>\n",
       "      <td>4.7</td>\n",
       "      <td>1.0</td>\n",
       "      <td>1.0</td>\n",
       "      <td>0.0</td>\n",
       "      <td>0.0</td>\n",
       "      <td>1.0</td>\n",
       "      <td>1.0</td>\n",
       "      <td>1.0</td>\n",
       "      <td>0.0</td>\n",
       "      <td>...</td>\n",
       "      <td>0.0</td>\n",
       "      <td>0.0</td>\n",
       "      <td>0.0</td>\n",
       "      <td>0.0</td>\n",
       "      <td>0.0</td>\n",
       "      <td>0.0</td>\n",
       "      <td>0.0</td>\n",
       "      <td>1</td>\n",
       "      <td>0</td>\n",
       "      <td>0</td>\n",
       "    </tr>\n",
       "    <tr>\n",
       "      <th>2</th>\n",
       "      <td>sativa</td>\n",
       "      <td>4.4</td>\n",
       "      <td>1.0</td>\n",
       "      <td>1.0</td>\n",
       "      <td>0.0</td>\n",
       "      <td>0.0</td>\n",
       "      <td>1.0</td>\n",
       "      <td>0.0</td>\n",
       "      <td>1.0</td>\n",
       "      <td>1.0</td>\n",
       "      <td>...</td>\n",
       "      <td>0.0</td>\n",
       "      <td>0.0</td>\n",
       "      <td>0.0</td>\n",
       "      <td>0.0</td>\n",
       "      <td>0.0</td>\n",
       "      <td>0.0</td>\n",
       "      <td>0.0</td>\n",
       "      <td>0</td>\n",
       "      <td>0</td>\n",
       "      <td>1</td>\n",
       "    </tr>\n",
       "    <tr>\n",
       "      <th>3</th>\n",
       "      <td>hybrid</td>\n",
       "      <td>4.2</td>\n",
       "      <td>1.0</td>\n",
       "      <td>0.0</td>\n",
       "      <td>1.0</td>\n",
       "      <td>0.0</td>\n",
       "      <td>1.0</td>\n",
       "      <td>0.0</td>\n",
       "      <td>0.0</td>\n",
       "      <td>1.0</td>\n",
       "      <td>...</td>\n",
       "      <td>0.0</td>\n",
       "      <td>0.0</td>\n",
       "      <td>0.0</td>\n",
       "      <td>0.0</td>\n",
       "      <td>0.0</td>\n",
       "      <td>0.0</td>\n",
       "      <td>0.0</td>\n",
       "      <td>1</td>\n",
       "      <td>0</td>\n",
       "      <td>0</td>\n",
       "    </tr>\n",
       "    <tr>\n",
       "      <th>4</th>\n",
       "      <td>hybrid</td>\n",
       "      <td>4.6</td>\n",
       "      <td>0.0</td>\n",
       "      <td>0.0</td>\n",
       "      <td>0.0</td>\n",
       "      <td>1.0</td>\n",
       "      <td>1.0</td>\n",
       "      <td>0.0</td>\n",
       "      <td>1.0</td>\n",
       "      <td>1.0</td>\n",
       "      <td>...</td>\n",
       "      <td>0.0</td>\n",
       "      <td>0.0</td>\n",
       "      <td>0.0</td>\n",
       "      <td>0.0</td>\n",
       "      <td>0.0</td>\n",
       "      <td>0.0</td>\n",
       "      <td>0.0</td>\n",
       "      <td>1</td>\n",
       "      <td>0</td>\n",
       "      <td>0</td>\n",
       "    </tr>\n",
       "  </tbody>\n",
       "</table>\n",
       "<p>5 rows × 69 columns</p>\n",
       "</div>"
      ],
      "text/plain": [
       "     Type  Rating  Creative  Energetic  Tingly  Euphoric  Relaxed  Aroused  \\\n",
       "0  hybrid     4.0       1.0        1.0     1.0       1.0      1.0      0.0   \n",
       "1  hybrid     4.7       1.0        1.0     0.0       0.0      1.0      1.0   \n",
       "2  sativa     4.4       1.0        1.0     0.0       0.0      1.0      0.0   \n",
       "3  hybrid     4.2       1.0        0.0     1.0       0.0      1.0      0.0   \n",
       "4  hybrid     4.6       0.0        0.0     0.0       1.0      1.0      0.0   \n",
       "\n",
       "   Happy  Uplifted  ...  Fruit  Butter  Pineapple  Tar  Rose  Plum  Pear  \\\n",
       "0    0.0       0.0  ...    0.0     0.0        0.0  0.0   0.0   0.0   0.0   \n",
       "1    1.0       0.0  ...    0.0     0.0        0.0  0.0   0.0   0.0   0.0   \n",
       "2    1.0       1.0  ...    0.0     0.0        0.0  0.0   0.0   0.0   0.0   \n",
       "3    0.0       1.0  ...    0.0     0.0        0.0  0.0   0.0   0.0   0.0   \n",
       "4    1.0       1.0  ...    0.0     0.0        0.0  0.0   0.0   0.0   0.0   \n",
       "\n",
       "   Type_is_hybrid  Type_is_indica  Type_is_sativa  \n",
       "0               1               0               0  \n",
       "1               1               0               0  \n",
       "2               0               0               1  \n",
       "3               1               0               0  \n",
       "4               1               0               0  \n",
       "\n",
       "[5 rows x 69 columns]"
      ]
     },
     "execution_count": 177,
     "metadata": {},
     "output_type": "execute_result"
    }
   ],
   "source": [
    "dummies = pd.get_dummies(can['Type'], prefix = \"Type_is\")\n",
    "can = can.join(dummies)\n",
    "can.head()"
   ]
  },
  {
   "cell_type": "markdown",
   "id": "935f52b0",
   "metadata": {},
   "source": [
    "\n",
    "## Indica vs. Not Indica"
   ]
  },
  {
   "cell_type": "code",
   "execution_count": 178,
   "id": "d8e4832c",
   "metadata": {},
   "outputs": [
    {
     "name": "stderr",
     "output_type": "stream",
     "text": [
      "C:\\Users\\jamla\\anaconda33\\Lib\\site-packages\\sklearn\\linear_model\\_logistic.py:460: ConvergenceWarning: lbfgs failed to converge (status=1):\n",
      "STOP: TOTAL NO. of ITERATIONS REACHED LIMIT.\n",
      "\n",
      "Increase the number of iterations (max_iter) or scale the data as shown in:\n",
      "    https://scikit-learn.org/stable/modules/preprocessing.html\n",
      "Please also refer to the documentation for alternative solver options:\n",
      "    https://scikit-learn.org/stable/modules/linear_model.html#logistic-regression\n",
      "  n_iter_i = _check_optimize_result(\n",
      "C:\\Users\\jamla\\anaconda33\\Lib\\site-packages\\sklearn\\linear_model\\_logistic.py:460: ConvergenceWarning: lbfgs failed to converge (status=1):\n",
      "STOP: TOTAL NO. of ITERATIONS REACHED LIMIT.\n",
      "\n",
      "Increase the number of iterations (max_iter) or scale the data as shown in:\n",
      "    https://scikit-learn.org/stable/modules/preprocessing.html\n",
      "Please also refer to the documentation for alternative solver options:\n",
      "    https://scikit-learn.org/stable/modules/linear_model.html#logistic-regression\n",
      "  n_iter_i = _check_optimize_result(\n"
     ]
    },
    {
     "data": {
      "text/plain": [
       "0.6369393276729307"
      ]
     },
     "execution_count": 178,
     "metadata": {},
     "output_type": "execute_result"
    }
   ],
   "source": [
    "X = can.drop(['Type', 'Type_is_hybrid', 'Type_is_indica', 'Type_is_sativa'], axis=1)\n",
    "y = can['Type_is_indica']\n",
    "\n",
    "Log0 = Pipeline(\n",
    "    [('Log0', LogisticRegression())]\n",
    ")\n",
    "\n",
    "cross_val_score(Log0, X,y, cv=5, scoring = \"f1\").mean()"
   ]
  },
  {
   "cell_type": "code",
   "execution_count": 179,
   "id": "75823b94",
   "metadata": {},
   "outputs": [
    {
     "data": {
      "text/plain": [
       "0.6520061298622245"
      ]
     },
     "execution_count": 179,
     "metadata": {},
     "output_type": "execute_result"
    }
   ],
   "source": [
    "svc = Pipeline([(\"svc\", SVC())])\n",
    "tune = {'svc__C': [.12,.1,.001,.2,.3,.4,5,.6,.7,.7,.8,.9,1,2,3,4,5,6,7,8,9,10]}\n",
    "\n",
    "gscv1 = GridSearchCV(svc, tune, cv = 5, scoring='f1')\n",
    "gscv1fit = gscv1.fit(X,y)\n",
    "svc = Pipeline([(\"svc\", SVC(C=gscv1fit.best_params_.get('svc__C')))])\n",
    "cross_val_score(svc, X, y, cv=5, scoring='f1').mean()"
   ]
  },
  {
   "cell_type": "markdown",
   "id": "ca3ea9f1",
   "metadata": {},
   "source": [
    "## Sativa vs. Not Sativa"
   ]
  },
  {
   "cell_type": "code",
   "execution_count": 180,
   "id": "623fa94b",
   "metadata": {},
   "outputs": [
    {
     "name": "stderr",
     "output_type": "stream",
     "text": [
      "C:\\Users\\jamla\\anaconda33\\Lib\\site-packages\\sklearn\\linear_model\\_logistic.py:460: ConvergenceWarning: lbfgs failed to converge (status=1):\n",
      "STOP: TOTAL NO. of ITERATIONS REACHED LIMIT.\n",
      "\n",
      "Increase the number of iterations (max_iter) or scale the data as shown in:\n",
      "    https://scikit-learn.org/stable/modules/preprocessing.html\n",
      "Please also refer to the documentation for alternative solver options:\n",
      "    https://scikit-learn.org/stable/modules/linear_model.html#logistic-regression\n",
      "  n_iter_i = _check_optimize_result(\n"
     ]
    },
    {
     "data": {
      "text/plain": [
       "0.3921532019192431"
      ]
     },
     "execution_count": 180,
     "metadata": {},
     "output_type": "execute_result"
    }
   ],
   "source": [
    "X = can.drop(['Type', 'Type_is_hybrid', 'Type_is_indica', 'Type_is_sativa'], axis=1)\n",
    "y = can['Type_is_sativa']\n",
    "\n",
    "Log0 = Pipeline(\n",
    "    [('Log0', LogisticRegression())]\n",
    ")\n",
    "\n",
    "cross_val_score(Log0, X,y, cv=5, scoring = \"f1\").mean()"
   ]
  },
  {
   "cell_type": "code",
   "execution_count": 181,
   "id": "f92eefaa",
   "metadata": {},
   "outputs": [
    {
     "data": {
      "text/plain": [
       "0.3964838735023628"
      ]
     },
     "execution_count": 181,
     "metadata": {},
     "output_type": "execute_result"
    }
   ],
   "source": [
    "svc = Pipeline([(\"svc\", SVC())])\n",
    "tune = {'svc__C': [.12,.1,.001,.2,.3,.4,5,.6,.7,.7,.8,.9,1,2,3,4,5,6,7,8,9,10]}\n",
    "\n",
    "gscv1 = GridSearchCV(svc, tune, cv = 5, scoring='f1')\n",
    "gscv1fit = gscv1.fit(X,y)\n",
    "svc = Pipeline([(\"svc\", SVC(C=gscv1fit.best_params_.get('svc__C')))])\n",
    "cross_val_score(svc, X, y, cv=5, scoring='f1').mean()"
   ]
  },
  {
   "cell_type": "markdown",
   "id": "471d6c09",
   "metadata": {},
   "source": [
    "## Hybrid vs. Not Hybrid"
   ]
  },
  {
   "cell_type": "code",
   "execution_count": 182,
   "id": "5efd35a1",
   "metadata": {},
   "outputs": [
    {
     "data": {
      "text/plain": [
       "0.645267205320214"
      ]
     },
     "execution_count": 182,
     "metadata": {},
     "output_type": "execute_result"
    }
   ],
   "source": [
    "X = can.drop(['Type', 'Type_is_hybrid', 'Type_is_indica', 'Type_is_sativa'], axis=1)\n",
    "y = can['Type_is_hybrid']\n",
    "\n",
    "Log0 = Pipeline(\n",
    "    [('Log0', LogisticRegression())]\n",
    ")\n",
    "\n",
    "cross_val_score(Log0, X,y, cv=5, scoring = \"f1\").mean()"
   ]
  },
  {
   "cell_type": "code",
   "execution_count": 183,
   "id": "99ea3268",
   "metadata": {},
   "outputs": [
    {
     "data": {
      "text/plain": [
       "0.6874795336787267"
      ]
     },
     "execution_count": 183,
     "metadata": {},
     "output_type": "execute_result"
    }
   ],
   "source": [
    "svc = Pipeline([(\"svc\", SVC())])\n",
    "tune = {'svc__C': [.12,.1,.001,.2,.3,.4,5,.6,.7,.7,.8,.9,1,2,3,4,5,6,7,8,9,10]}\n",
    "\n",
    "gscv1 = GridSearchCV(svc, tune, cv = 5, scoring='f1')\n",
    "gscv1fit = gscv1.fit(X,y)\n",
    "svc = Pipeline([(\"svc\", SVC(C=gscv1fit.best_params_.get('svc__C')))])\n",
    "cross_val_score(svc, X, y, cv=5, scoring='f1').mean()"
   ]
  },
  {
   "cell_type": "markdown",
   "id": "004c7d8c",
   "metadata": {},
   "source": [
    "## Q2\n",
    "Which of the six models did the best job distinguishing the target category from the rest? Which did the worst? Does this make intuitive sense?"
   ]
  },
  {
   "cell_type": "markdown",
   "id": "b4acaa3c",
   "metadata": {},
   "source": [
    "The model that performed the best at distinguishing the target category from the rest was the SVC distinguishing between Hybrid and not hybrid. This does not make intuitive sense because Hybrid is a blend of the other two classes which makes me think that it would be harder to distinguish. The model that did the worst job at distinguishing was the logistic model distinguishing between sativa and not sativa. This does not make intuitve sense because it its own defined category so I would have assumed that sativa and indica would have performed the best, while hybrid would perform the worst."
   ]
  },
  {
   "cell_type": "markdown",
   "id": "e9ace8e4",
   "metadata": {},
   "source": [
    "## Q3\n",
    "\n",
    "Fit and report metrics for OvO versions of the models. That is, for each of the two model types, create three models:\n"
   ]
  },
  {
   "cell_type": "code",
   "execution_count": 202,
   "id": "6a5d4a5c",
   "metadata": {},
   "outputs": [],
   "source": [
    "can = can.drop(['Type_is_hybrid', 'Type_is_indica', 'Type_is_sativa'], axis =1)"
   ]
  },
  {
   "cell_type": "markdown",
   "id": "07230150",
   "metadata": {},
   "source": [
    "## Indica vs. Sativa\n"
   ]
  },
  {
   "cell_type": "code",
   "execution_count": 203,
   "id": "a881ad23",
   "metadata": {},
   "outputs": [
    {
     "data": {
      "text/plain": [
       "0.9312181712572674"
      ]
     },
     "execution_count": 203,
     "metadata": {},
     "output_type": "execute_result"
    }
   ],
   "source": [
    "can_IS = can[(can['Type'] == 'sativa') | (can['Type'] == 'indica')]\n",
    "X = can_IS.drop(['Type'], axis = 1)\n",
    "y = can_IS['Type']\n",
    "\n",
    "Log0 = Pipeline(\n",
    "    [('Log0', LogisticRegression())]\n",
    ")\n",
    "\n",
    "cross_val_score(Log0, X,y, cv=5, scoring = \"roc_auc\").mean()"
   ]
  },
  {
   "cell_type": "code",
   "execution_count": 204,
   "id": "a70b53bf",
   "metadata": {},
   "outputs": [
    {
     "data": {
      "text/plain": [
       "0.9336773813059519"
      ]
     },
     "execution_count": 204,
     "metadata": {},
     "output_type": "execute_result"
    }
   ],
   "source": [
    "svc = Pipeline([(\"svc\", SVC())])\n",
    "tune = {'svc__C': [.12,.1,.001,.2,.3,.4,5,.6,.7,.7,.8,.9,1,2,3,4,5,6,7,8,9,10]}\n",
    "\n",
    "gscv1 = GridSearchCV(svc, tune, cv = 5, scoring='roc_auc')\n",
    "gscv1fit = gscv1.fit(X,y)\n",
    "svc = Pipeline([(\"svc\", SVC(C=gscv1fit.best_params_.get('svc__C')))])\n",
    "cross_val_score(svc, X, y, cv=5, scoring='roc_auc').mean()"
   ]
  },
  {
   "cell_type": "markdown",
   "id": "339b7693",
   "metadata": {},
   "source": [
    "## Indica vs. Hybrid"
   ]
  },
  {
   "cell_type": "code",
   "execution_count": 205,
   "id": "1111314e",
   "metadata": {},
   "outputs": [
    {
     "name": "stderr",
     "output_type": "stream",
     "text": [
      "C:\\Users\\jamla\\anaconda33\\Lib\\site-packages\\sklearn\\linear_model\\_logistic.py:460: ConvergenceWarning: lbfgs failed to converge (status=1):\n",
      "STOP: TOTAL NO. of ITERATIONS REACHED LIMIT.\n",
      "\n",
      "Increase the number of iterations (max_iter) or scale the data as shown in:\n",
      "    https://scikit-learn.org/stable/modules/preprocessing.html\n",
      "Please also refer to the documentation for alternative solver options:\n",
      "    https://scikit-learn.org/stable/modules/linear_model.html#logistic-regression\n",
      "  n_iter_i = _check_optimize_result(\n",
      "C:\\Users\\jamla\\anaconda33\\Lib\\site-packages\\sklearn\\linear_model\\_logistic.py:460: ConvergenceWarning: lbfgs failed to converge (status=1):\n",
      "STOP: TOTAL NO. of ITERATIONS REACHED LIMIT.\n",
      "\n",
      "Increase the number of iterations (max_iter) or scale the data as shown in:\n",
      "    https://scikit-learn.org/stable/modules/preprocessing.html\n",
      "Please also refer to the documentation for alternative solver options:\n",
      "    https://scikit-learn.org/stable/modules/linear_model.html#logistic-regression\n",
      "  n_iter_i = _check_optimize_result(\n",
      "C:\\Users\\jamla\\anaconda33\\Lib\\site-packages\\sklearn\\linear_model\\_logistic.py:460: ConvergenceWarning: lbfgs failed to converge (status=1):\n",
      "STOP: TOTAL NO. of ITERATIONS REACHED LIMIT.\n",
      "\n",
      "Increase the number of iterations (max_iter) or scale the data as shown in:\n",
      "    https://scikit-learn.org/stable/modules/preprocessing.html\n",
      "Please also refer to the documentation for alternative solver options:\n",
      "    https://scikit-learn.org/stable/modules/linear_model.html#logistic-regression\n",
      "  n_iter_i = _check_optimize_result(\n"
     ]
    },
    {
     "data": {
      "text/plain": [
       "0.7962437309257322"
      ]
     },
     "execution_count": 205,
     "metadata": {},
     "output_type": "execute_result"
    }
   ],
   "source": [
    "can_IH = can[(can['Type'] == 'hybrid') | (can['Type'] == 'indica')]\n",
    "X = can_IH.drop(['Type'], axis = 1)\n",
    "y = can_IH['Type']\n",
    "\n",
    "Log0 = Pipeline(\n",
    "    [('Log0', LogisticRegression())]\n",
    ")\n",
    "\n",
    "cross_val_score(Log0, X,y, cv=5, scoring = \"roc_auc\").mean()"
   ]
  },
  {
   "cell_type": "code",
   "execution_count": 206,
   "id": "d0c34daf",
   "metadata": {},
   "outputs": [
    {
     "data": {
      "text/plain": [
       "0.7973607642891916"
      ]
     },
     "execution_count": 206,
     "metadata": {},
     "output_type": "execute_result"
    }
   ],
   "source": [
    "svc = Pipeline([(\"svc\", SVC())])\n",
    "tune = {'svc__C': [.12,.1,.001,.2,.3,.4,5,.6,.7,.7,.8,.9,1,2,3,4,5,6,7,8,9,10]}\n",
    "\n",
    "gscv1 = GridSearchCV(svc, tune, cv = 5, scoring='roc_auc')\n",
    "gscv1fit = gscv1.fit(X,y)\n",
    "svc = Pipeline([(\"svc\", SVC(C=gscv1fit.best_params_.get('svc__C')))])\n",
    "cross_val_score(svc, X, y, cv=5, scoring='roc_auc').mean()"
   ]
  },
  {
   "cell_type": "markdown",
   "id": "b42fd56e",
   "metadata": {},
   "source": [
    "## Hybrid vs. Sativa"
   ]
  },
  {
   "cell_type": "code",
   "execution_count": 207,
   "id": "ecdaf6ae",
   "metadata": {},
   "outputs": [
    {
     "name": "stderr",
     "output_type": "stream",
     "text": [
      "C:\\Users\\jamla\\anaconda33\\Lib\\site-packages\\sklearn\\linear_model\\_logistic.py:460: ConvergenceWarning: lbfgs failed to converge (status=1):\n",
      "STOP: TOTAL NO. of ITERATIONS REACHED LIMIT.\n",
      "\n",
      "Increase the number of iterations (max_iter) or scale the data as shown in:\n",
      "    https://scikit-learn.org/stable/modules/preprocessing.html\n",
      "Please also refer to the documentation for alternative solver options:\n",
      "    https://scikit-learn.org/stable/modules/linear_model.html#logistic-regression\n",
      "  n_iter_i = _check_optimize_result(\n"
     ]
    },
    {
     "data": {
      "text/plain": [
       "0.7349729734181831"
      ]
     },
     "execution_count": 207,
     "metadata": {},
     "output_type": "execute_result"
    }
   ],
   "source": [
    "can_HS = can[(can['Type'] == 'hybrid') | (can['Type'] == 'sativa')]\n",
    "X = can_HS.drop(['Type'], axis = 1)\n",
    "y = can_HS['Type']\n",
    "\n",
    "Log0 = Pipeline(\n",
    "    [('Log0', LogisticRegression())]\n",
    ")\n",
    "\n",
    "cross_val_score(Log0, X,y, cv=5, scoring = \"roc_auc\").mean()"
   ]
  },
  {
   "cell_type": "code",
   "execution_count": 208,
   "id": "0d891eb1",
   "metadata": {},
   "outputs": [
    {
     "data": {
      "text/plain": [
       "0.7290285139463599"
      ]
     },
     "execution_count": 208,
     "metadata": {},
     "output_type": "execute_result"
    }
   ],
   "source": [
    "svc = Pipeline([(\"svc\", SVC())])\n",
    "tune = {'svc__C': [.12,.1,.001,.2,.3,.4,5,.6,.7,.7,.8,.9,1,2,3,4,5,6,7,8,9,10]}\n",
    "\n",
    "gscv1 = GridSearchCV(svc, tune, cv = 5, scoring='roc_auc')\n",
    "gscv1fit = gscv1.fit(X,y)\n",
    "svc = Pipeline([(\"svc\", SVC(C=gscv1fit.best_params_.get('svc__C')))])\n",
    "cross_val_score(svc, X, y, cv=5, scoring='roc_auc').mean()"
   ]
  },
  {
   "cell_type": "markdown",
   "id": "53ca93d5",
   "metadata": {},
   "source": [
    "## Q4\n",
    "Which of the six models did the best job distinguishing at differentiating the two groups? Which did the worst? Does this make intuitive sense?"
   ]
  },
  {
   "cell_type": "markdown",
   "id": "0bfb8da1",
   "metadata": {},
   "source": [
    "The model that did the best was the Indica versus Sativa svc model. This makes intuitive sense because sativa and indica are the most different so it should be the easiest to distinguish between. The model that did the worst was the svc for hybrid versus sativa. This makes the most intuitive sense because they are the most alike between the three types so it would be much harder for the model to distinguish betwee the two."
   ]
  },
  {
   "cell_type": "markdown",
   "id": "7ebf7edc",
   "metadata": {},
   "source": [
    "## Q5\n",
    "Suppose you had simply input the full data, with three classes, into the LogisticRegression function. Would this have automatically taken an “OvO” approach or an “OvR” approach?\n",
    "\n",
    "What about for SVC?\n",
    "\n",
    "Note: You do not actually have to run code here - you only need to look at sklearn’s documentation to see how these functions handle multiclass input."
   ]
  },
  {
   "cell_type": "markdown",
   "id": "605bf542",
   "metadata": {},
   "source": [
    "For the logistic Regression, it would have automatically taken an OvR approach. For the SVC, it would have automatically taken the OvO approach."
   ]
  }
 ],
 "metadata": {
  "kernelspec": {
   "display_name": "Python 3 (ipykernel)",
   "language": "python",
   "name": "python3"
  },
  "language_info": {
   "codemirror_mode": {
    "name": "ipython",
    "version": 3
   },
   "file_extension": ".py",
   "mimetype": "text/x-python",
   "name": "python",
   "nbconvert_exporter": "python",
   "pygments_lexer": "ipython3",
   "version": "3.11.4"
  }
 },
 "nbformat": 4,
 "nbformat_minor": 5
}

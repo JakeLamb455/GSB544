{
 "cells": [
  {
   "cell_type": "code",
   "execution_count": 4,
   "id": "030216be",
   "metadata": {},
   "outputs": [],
   "source": [
    "import pandas as pd\n",
    "import numpy as np\n",
    "from plotnine import *\n",
    "import pandas as pd\n",
    "import numpy as np\n",
    "from sklearn.pipeline import Pipeline\n",
    "from sklearn.compose import make_column_selector, ColumnTransformer\n",
    "from sklearn.preprocessing import StandardScaler, OneHotEncoder, PolynomialFeatures, FunctionTransformer\n",
    "from sklearn.linear_model import LinearRegression, Ridge, Lasso, ElasticNet\n",
    "from sklearn.neighbors import KNeighborsRegressor\n",
    "from sklearn.model_selection import GridSearchCV, StratifiedKFold\n",
    "from sklearn.model_selection import train_test_split, cross_val_score\n",
    "from sklearn.metrics import r2_score\n",
    "from sklearn.metrics import mean_squared_error\n",
    "from math import sqrt\n",
    "from sklearn.model_selection import cross_val_score\n",
    "import warnings\n",
    "warnings.filterwarnings('ignore')\n",
    "pd.set_option('display.float_format', '{:.4f}'.format)\n",
    "np.set_printoptions(suppress=True, precision=4)"
   ]
  },
  {
   "cell_type": "code",
   "execution_count": 7,
   "id": "80a87559",
   "metadata": {},
   "outputs": [],
   "source": [
    "completed_df = pd.read_csv(\"completed_df.csv\")"
   ]
  },
  {
   "cell_type": "code",
   "execution_count": 10,
   "id": "ba17edfb",
   "metadata": {},
   "outputs": [
    {
     "data": {
      "text/html": [
       "<div>\n",
       "<style scoped>\n",
       "    .dataframe tbody tr th:only-of-type {\n",
       "        vertical-align: middle;\n",
       "    }\n",
       "\n",
       "    .dataframe tbody tr th {\n",
       "        vertical-align: top;\n",
       "    }\n",
       "\n",
       "    .dataframe thead th {\n",
       "        text-align: right;\n",
       "    }\n",
       "</style>\n",
       "<table border=\"1\" class=\"dataframe\">\n",
       "  <thead>\n",
       "    <tr style=\"text-align: right;\">\n",
       "      <th></th>\n",
       "      <th>Unnamed: 0</th>\n",
       "      <th>Year</th>\n",
       "      <th>City</th>\n",
       "      <th>Stop Name</th>\n",
       "      <th>Stop Abbrev</th>\n",
       "      <th>Total Stops</th>\n",
       "      <th>County</th>\n",
       "      <th>Population</th>\n",
       "      <th>UniqueStopsCount</th>\n",
       "      <th>Unemployment Rate</th>\n",
       "      <th>BART_Stop</th>\n",
       "      <th>Average_Distance</th>\n",
       "    </tr>\n",
       "  </thead>\n",
       "  <tbody>\n",
       "    <tr>\n",
       "      <th>0</th>\n",
       "      <td>0</td>\n",
       "      <td>2010</td>\n",
       "      <td>Oakland</td>\n",
       "      <td>12th Street / Oakland City Center</td>\n",
       "      <td>12</td>\n",
       "      <td>3356412.0000</td>\n",
       "      <td>Alameda</td>\n",
       "      <td>1,512,986</td>\n",
       "      <td>22</td>\n",
       "      <td>11.1462</td>\n",
       "      <td>12th Street / Oakland City Center</td>\n",
       "      <td>0.2735</td>\n",
       "    </tr>\n",
       "    <tr>\n",
       "      <th>1</th>\n",
       "      <td>1</td>\n",
       "      <td>2010</td>\n",
       "      <td>Oakland</td>\n",
       "      <td>19th Street Oakland</td>\n",
       "      <td>19</td>\n",
       "      <td>2608087.0000</td>\n",
       "      <td>Alameda</td>\n",
       "      <td>1,512,986</td>\n",
       "      <td>22</td>\n",
       "      <td>11.1462</td>\n",
       "      <td>19th Street Oakland</td>\n",
       "      <td>0.2735</td>\n",
       "    </tr>\n",
       "    <tr>\n",
       "      <th>2</th>\n",
       "      <td>2</td>\n",
       "      <td>2010</td>\n",
       "      <td>Berkeley</td>\n",
       "      <td>Ashby</td>\n",
       "      <td>AS</td>\n",
       "      <td>1223515.0000</td>\n",
       "      <td>Alameda</td>\n",
       "      <td>1,512,986</td>\n",
       "      <td>22</td>\n",
       "      <td>11.1462</td>\n",
       "      <td>Ashby</td>\n",
       "      <td>788.4336</td>\n",
       "    </tr>\n",
       "    <tr>\n",
       "      <th>3</th>\n",
       "      <td>3</td>\n",
       "      <td>2010</td>\n",
       "      <td>San Leandro</td>\n",
       "      <td>Bayfair</td>\n",
       "      <td>BF</td>\n",
       "      <td>1556461.0000</td>\n",
       "      <td>Alameda</td>\n",
       "      <td>1,512,986</td>\n",
       "      <td>22</td>\n",
       "      <td>11.1462</td>\n",
       "      <td>Bayfair</td>\n",
       "      <td>3783.8326</td>\n",
       "    </tr>\n",
       "    <tr>\n",
       "      <th>4</th>\n",
       "      <td>4</td>\n",
       "      <td>2010</td>\n",
       "      <td>Berkeley</td>\n",
       "      <td>Berkeley</td>\n",
       "      <td>BK</td>\n",
       "      <td>3579577.0000</td>\n",
       "      <td>Alameda</td>\n",
       "      <td>1,512,986</td>\n",
       "      <td>22</td>\n",
       "      <td>11.1462</td>\n",
       "      <td>Berkeley</td>\n",
       "      <td>0.4966</td>\n",
       "    </tr>\n",
       "  </tbody>\n",
       "</table>\n",
       "</div>"
      ],
      "text/plain": [
       "   Unnamed: 0  Year         City                          Stop Name  \\\n",
       "0           0  2010      Oakland  12th Street / Oakland City Center   \n",
       "1           1  2010      Oakland                19th Street Oakland   \n",
       "2           2  2010     Berkeley                              Ashby   \n",
       "3           3  2010  San Leandro                            Bayfair   \n",
       "4           4  2010     Berkeley                           Berkeley   \n",
       "\n",
       "  Stop Abbrev  Total Stops   County Population  UniqueStopsCount  \\\n",
       "0          12 3356412.0000  Alameda  1,512,986                22   \n",
       "1          19 2608087.0000  Alameda  1,512,986                22   \n",
       "2          AS 1223515.0000  Alameda  1,512,986                22   \n",
       "3          BF 1556461.0000  Alameda  1,512,986                22   \n",
       "4          BK 3579577.0000  Alameda  1,512,986                22   \n",
       "\n",
       "   Unemployment Rate                          BART_Stop  Average_Distance  \n",
       "0            11.1462  12th Street / Oakland City Center            0.2735  \n",
       "1            11.1462                19th Street Oakland            0.2735  \n",
       "2            11.1462                              Ashby          788.4336  \n",
       "3            11.1462                            Bayfair         3783.8326  \n",
       "4            11.1462                           Berkeley            0.4966  "
      ]
     },
     "execution_count": 10,
     "metadata": {},
     "output_type": "execute_result"
    }
   ],
   "source": [
    "completed_df.head()"
   ]
  },
  {
   "cell_type": "code",
   "execution_count": 17,
   "id": "318fa67e",
   "metadata": {},
   "outputs": [],
   "source": [
    "completed_df['Population'] = completed_df['Population'].str.replace(',', '', regex=False)\n",
    "completed_df['Population'] = completed_df['Population'].astype('float')"
   ]
  },
  {
   "cell_type": "code",
   "execution_count": 20,
   "id": "5b9636b6",
   "metadata": {},
   "outputs": [],
   "source": []
  },
  {
   "cell_type": "code",
   "execution_count": 21,
   "id": "382d28d7",
   "metadata": {},
   "outputs": [],
   "source": [
    "X = completed_df.drop(['Unemployment Rate'], axis = 1)\n",
    "y = completed_df['Unemployment Rate']"
   ]
  },
  {
   "cell_type": "code",
   "execution_count": 50,
   "id": "26da45a7",
   "metadata": {},
   "outputs": [],
   "source": [
    "from sklearn.preprocessing import StandardScaler, OneHotEncoder, PolynomialFeatures, FunctionTransformer\n",
    "from sklearn.tree import DecisionTreeRegressor\n",
    "enc = OneHotEncoder(sparse_output = False, handle_unknown='ignore')\n",
    "ctDT = ColumnTransformer([\n",
    "    ('dummify_county', enc, ['County']),\n",
    "    (\"standardize\",StandardScaler(),['Total Stops', 'Population', \"Average_Distance\"])]\n",
    ", remainder = 'drop').set_output(transform = 'pandas')\n",
    "\n",
    "DT1 = Pipeline(\n",
    "    [('dummify_everything', ctDT),('DT1', DecisionTreeRegressor())]\n",
    ")\n",
    "neigh = {'DT1__max_depth': [2,3,4,5,6,7,8,9,10,11,12,13,14,15,16,17,18,19,20], 'DT1__min_samples_split': [2,3,4,5,6,7,8,9,10,11,12,13,14,15,16,17,18,19,20]}\n",
    "\n",
    "gscv2 = GridSearchCV(DT1, neigh, cv = 5, scoring='neg_mean_squared_error')\n",
    "gscv2fit = gscv2.fit(X,y)\n"
   ]
  },
  {
   "cell_type": "code",
   "execution_count": 51,
   "id": "23902944",
   "metadata": {},
   "outputs": [
    {
     "data": {
      "text/plain": [
       "{'DT1__max_depth': 9, 'DT1__min_samples_split': 2}"
      ]
     },
     "execution_count": 51,
     "metadata": {},
     "output_type": "execute_result"
    }
   ],
   "source": [
    "gscv2.best_params_"
   ]
  },
  {
   "cell_type": "code",
   "execution_count": 58,
   "id": "d093d61b",
   "metadata": {},
   "outputs": [
    {
     "data": {
      "text/plain": [
       "-2.5408840721902175"
      ]
     },
     "execution_count": 58,
     "metadata": {},
     "output_type": "execute_result"
    }
   ],
   "source": [
    "DT1 = Pipeline(\n",
    "    [('dummify_everything', ctDT),('DT1', DecisionTreeRegressor(max_depth = 5, min_samples_split = 2))]\n",
    ")\n",
    "cv2 = cross_val_score(DT1, X,y, cv=5, scoring = \"neg_mean_squared_error\")\n",
    "cv2.mean()"
   ]
  },
  {
   "cell_type": "code",
   "execution_count": 60,
   "id": "d9a1c472",
   "metadata": {},
   "outputs": [
    {
     "data": {
      "image/png": "[encoded data removed]",
      "text/plain": [
       "<Figure size 800x400 with 1 Axes>"
      ]
     },
     "metadata": {},
     "output_type": "display_data"
    }
   ],
   "source": [
    "import matplotlib.pyplot as plt\n",
    "from sklearn.tree import plot_tree\n",
    "\n",
    "# Assuming 'clf' is your trained decision tree classifier\n",
    "plt.figure(figsize=(8, 4))  # Set the figure size\n",
    "plot_tree(DT1.fit(X, y).named_steps['DT1'], feature_names=ctDT.fit_transform(X).columns.tolist(), filled=True)\n",
    "plt.show()"
   ]
  }
 ],
 "metadata": {
  "kernelspec": {
   "display_name": "Python 3 (ipykernel)",
   "language": "python",
   "name": "python3"
  },
  "language_info": {
   "codemirror_mode": {
    "name": "ipython",
    "version": 3
   },
   "file_extension": ".py",
   "mimetype": "text/x-python",
   "name": "python",
   "nbconvert_exporter": "python",
   "pygments_lexer": "ipython3",
   "version": "3.11.4"
  }
 },
 "nbformat": 4,
 "nbformat_minor": 5
}

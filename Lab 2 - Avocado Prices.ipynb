{
 "cells": [
  {
   "cell_type": "code",
   "execution_count": null,
   "id": "95d53d7b",
   "metadata": {},
   "outputs": [],
   "source": [
    "---\n",
    "title: 'Lab 2:Avocado'\n",
    "output: html\n",
    "theme: cosmo\n",
    "self-contained: True\n",
    "---"
   ]
  },
  {
   "cell_type": "code",
   "execution_count": 1,
   "id": "e5eb61c6",
   "metadata": {},
   "outputs": [],
   "source": [
    "import pandas as pd\n",
    "import numpy as np\n",
    "from plotnine import *"
   ]
  },
  {
   "cell_type": "code",
   "execution_count": 123,
   "id": "a030b276",
   "metadata": {
    "scrolled": false
   },
   "outputs": [
    {
     "data": {
      "text/html": [
       "<div>\n",
       "<style scoped>\n",
       "    .dataframe tbody tr th:only-of-type {\n",
       "        vertical-align: middle;\n",
       "    }\n",
       "\n",
       "    .dataframe tbody tr th {\n",
       "        vertical-align: top;\n",
       "    }\n",
       "\n",
       "    .dataframe thead th {\n",
       "        text-align: right;\n",
       "    }\n",
       "</style>\n",
       "<table border=\"1\" class=\"dataframe\">\n",
       "  <thead>\n",
       "    <tr style=\"text-align: right;\">\n",
       "      <th></th>\n",
       "      <th>date</th>\n",
       "      <th>average_price</th>\n",
       "      <th>total_volume</th>\n",
       "      <th>4046</th>\n",
       "      <th>4225</th>\n",
       "      <th>4770</th>\n",
       "      <th>total_bags</th>\n",
       "      <th>small_bags</th>\n",
       "      <th>large_bags</th>\n",
       "      <th>xlarge_bags</th>\n",
       "      <th>type</th>\n",
       "      <th>year</th>\n",
       "      <th>geography</th>\n",
       "    </tr>\n",
       "  </thead>\n",
       "  <tbody>\n",
       "    <tr>\n",
       "      <th>0</th>\n",
       "      <td>2015-01-04</td>\n",
       "      <td>1.22</td>\n",
       "      <td>40873.28</td>\n",
       "      <td>2819.50</td>\n",
       "      <td>28287.42</td>\n",
       "      <td>49.90</td>\n",
       "      <td>9716.46</td>\n",
       "      <td>9186.93</td>\n",
       "      <td>529.53</td>\n",
       "      <td>0.0</td>\n",
       "      <td>conventional</td>\n",
       "      <td>2015</td>\n",
       "      <td>Albany</td>\n",
       "    </tr>\n",
       "    <tr>\n",
       "      <th>1</th>\n",
       "      <td>2015-01-04</td>\n",
       "      <td>1.79</td>\n",
       "      <td>1373.95</td>\n",
       "      <td>57.42</td>\n",
       "      <td>153.88</td>\n",
       "      <td>0.00</td>\n",
       "      <td>1162.65</td>\n",
       "      <td>1162.65</td>\n",
       "      <td>0.00</td>\n",
       "      <td>0.0</td>\n",
       "      <td>organic</td>\n",
       "      <td>2015</td>\n",
       "      <td>Albany</td>\n",
       "    </tr>\n",
       "    <tr>\n",
       "      <th>2</th>\n",
       "      <td>2015-01-04</td>\n",
       "      <td>1.00</td>\n",
       "      <td>435021.49</td>\n",
       "      <td>364302.39</td>\n",
       "      <td>23821.16</td>\n",
       "      <td>82.15</td>\n",
       "      <td>46815.79</td>\n",
       "      <td>16707.15</td>\n",
       "      <td>30108.64</td>\n",
       "      <td>0.0</td>\n",
       "      <td>conventional</td>\n",
       "      <td>2015</td>\n",
       "      <td>Atlanta</td>\n",
       "    </tr>\n",
       "    <tr>\n",
       "      <th>3</th>\n",
       "      <td>2015-01-04</td>\n",
       "      <td>1.76</td>\n",
       "      <td>3846.69</td>\n",
       "      <td>1500.15</td>\n",
       "      <td>938.35</td>\n",
       "      <td>0.00</td>\n",
       "      <td>1408.19</td>\n",
       "      <td>1071.35</td>\n",
       "      <td>336.84</td>\n",
       "      <td>0.0</td>\n",
       "      <td>organic</td>\n",
       "      <td>2015</td>\n",
       "      <td>Atlanta</td>\n",
       "    </tr>\n",
       "    <tr>\n",
       "      <th>4</th>\n",
       "      <td>2015-01-04</td>\n",
       "      <td>1.08</td>\n",
       "      <td>788025.06</td>\n",
       "      <td>53987.31</td>\n",
       "      <td>552906.04</td>\n",
       "      <td>39995.03</td>\n",
       "      <td>141136.68</td>\n",
       "      <td>137146.07</td>\n",
       "      <td>3990.61</td>\n",
       "      <td>0.0</td>\n",
       "      <td>conventional</td>\n",
       "      <td>2015</td>\n",
       "      <td>Baltimore/Washington</td>\n",
       "    </tr>\n",
       "  </tbody>\n",
       "</table>\n",
       "</div>"
      ],
      "text/plain": [
       "         date  average_price  total_volume       4046       4225      4770  \\\n",
       "0  2015-01-04           1.22      40873.28    2819.50   28287.42     49.90   \n",
       "1  2015-01-04           1.79       1373.95      57.42     153.88      0.00   \n",
       "2  2015-01-04           1.00     435021.49  364302.39   23821.16     82.15   \n",
       "3  2015-01-04           1.76       3846.69    1500.15     938.35      0.00   \n",
       "4  2015-01-04           1.08     788025.06   53987.31  552906.04  39995.03   \n",
       "\n",
       "   total_bags  small_bags  large_bags  xlarge_bags          type  year  \\\n",
       "0     9716.46     9186.93      529.53          0.0  conventional  2015   \n",
       "1     1162.65     1162.65        0.00          0.0       organic  2015   \n",
       "2    46815.79    16707.15    30108.64          0.0  conventional  2015   \n",
       "3     1408.19     1071.35      336.84          0.0       organic  2015   \n",
       "4   141136.68   137146.07     3990.61          0.0  conventional  2015   \n",
       "\n",
       "              geography  \n",
       "0                Albany  \n",
       "1                Albany  \n",
       "2               Atlanta  \n",
       "3               Atlanta  \n",
       "4  Baltimore/Washington  "
      ]
     },
     "execution_count": 123,
     "metadata": {},
     "output_type": "execute_result"
    }
   ],
   "source": [
    "avo = pd.read_csv(\"avocado-updated-2020.csv\")\n",
    "avo.head()"
   ]
  },
  {
   "cell_type": "markdown",
   "id": "4471c071",
   "metadata": {},
   "source": [
    "Description of columns: The date column is when this observation of Avocados was observed. The AveragePrice is the average price of a single avocado. The type is the type of Avocado (conventional or organic). The year is when the observation occured. The region is the city, state, or region of the observation. Total volume is the number of avos sold in each observation. The numbered variables are the total number of Avos sold with that PLU. The bag variables are how many of each type of variable are sold."
   ]
  },
  {
   "cell_type": "code",
   "execution_count": 7,
   "id": "317419dc",
   "metadata": {},
   "outputs": [],
   "source": [
    "major_regions = ['Midsouth', 'Northeast', 'Plains', 'South Central', 'Southeast', 'West']\n",
    "avo_major_region = avo[avo['geography'].isin(major_regions)]"
   ]
  },
  {
   "cell_type": "code",
   "execution_count": 124,
   "id": "7fdecc20",
   "metadata": {},
   "outputs": [],
   "source": [
    "Non_cities = ['Midsouth', 'Northeast', 'Plains', 'South Central', 'Southeast', 'West', 'South Carolina', 'Total U.S.', 'West Tex/New Mexico', 'Northern New England', 'California', 'Great Lakes']\n",
    "avo_cities = avo[~avo['geography'].isin(Non_cities)]\n",
    "avo_cities_for_graph = avo_cities.copy()"
   ]
  },
  {
   "cell_type": "markdown",
   "id": "99819daa",
   "metadata": {},
   "source": [
    "3."
   ]
  },
  {
   "cell_type": "code",
   "execution_count": 40,
   "id": "48a98a27",
   "metadata": {},
   "outputs": [
    {
     "name": "stderr",
     "output_type": "stream",
     "text": [
      "C:\\Users\\jamla\\AppData\\Local\\Temp\\ipykernel_10756\\423719731.py:1: UserWarning: Boolean Series key will be reindexed to match DataFrame index.\n",
      "C:\\Users\\jamla\\AppData\\Local\\Temp\\ipykernel_10756\\423719731.py:2: FutureWarning: The default value of numeric_only in DataFrameGroupBy.sum is deprecated. In a future version, numeric_only will default to False. Either specify numeric_only or select only columns which should be valid for the function.\n"
     ]
    },
    {
     "data": {
      "text/plain": [
       "'Northeast'"
      ]
     },
     "execution_count": 40,
     "metadata": {},
     "output_type": "execute_result"
    }
   ],
   "source": [
    "avo_2017_org = avo_major_region[(avo['type'] == 'organic') & (avo['year'] == 2017)]\n",
    "avo_2017_org = avo_2017_org.groupby(['geography']).sum()\n",
    "avo_2017_org = avo_2017_org.sort_values('small_bags', ascending =False)\n",
    "avo_2017_org = avo_2017_org.reset_index()\n",
    "avo_2017_org['geography'][0]"
   ]
  },
  {
   "cell_type": "markdown",
   "id": "cce2072f",
   "metadata": {},
   "source": [
    "4."
   ]
  },
  {
   "cell_type": "code",
   "execution_count": 65,
   "id": "5ccb4f26",
   "metadata": {},
   "outputs": [
    {
     "name": "stderr",
     "output_type": "stream",
     "text": [
      "C:\\Users\\jamla\\AppData\\Local\\Temp\\ipykernel_10756\\2647836205.py:2: FutureWarning: Columnar iteration over characters will be deprecated in future releases.\n"
     ]
    }
   ],
   "source": [
    "#df['A'], df['B'] = df['AB'].str.split('-', n=1).str\n",
    "avo['year'], avo['month'], avo['day'] = avo['date'].str.split('-', n=2).str"
   ]
  },
  {
   "cell_type": "code",
   "execution_count": null,
   "id": "3fbee494",
   "metadata": {
    "scrolled": true
   },
   "outputs": [],
   "source": []
  },
  {
   "cell_type": "code",
   "execution_count": 66,
   "id": "1f4afc2c",
   "metadata": {},
   "outputs": [
    {
     "name": "stderr",
     "output_type": "stream",
     "text": [
      "C:\\Users\\jamla\\AppData\\Local\\Temp\\ipykernel_10756\\4254690432.py:1: FutureWarning: The default value of numeric_only in DataFrameGroupBy.mean is deprecated. In a future version, numeric_only will default to False. Either specify numeric_only or select only columns which should be valid for the function.\n"
     ]
    },
    {
     "data": {
      "text/html": [
       "<div>\n",
       "<style scoped>\n",
       "    .dataframe tbody tr th:only-of-type {\n",
       "        vertical-align: middle;\n",
       "    }\n",
       "\n",
       "    .dataframe tbody tr th {\n",
       "        vertical-align: top;\n",
       "    }\n",
       "\n",
       "    .dataframe thead th {\n",
       "        text-align: right;\n",
       "    }\n",
       "</style>\n",
       "<table border=\"1\" class=\"dataframe\">\n",
       "  <thead>\n",
       "    <tr style=\"text-align: right;\">\n",
       "      <th></th>\n",
       "      <th>average_price</th>\n",
       "      <th>total_volume</th>\n",
       "      <th>4046</th>\n",
       "      <th>4225</th>\n",
       "      <th>4770</th>\n",
       "      <th>total_bags</th>\n",
       "      <th>small_bags</th>\n",
       "      <th>large_bags</th>\n",
       "      <th>xlarge_bags</th>\n",
       "    </tr>\n",
       "    <tr>\n",
       "      <th>month</th>\n",
       "      <th></th>\n",
       "      <th></th>\n",
       "      <th></th>\n",
       "      <th></th>\n",
       "      <th></th>\n",
       "      <th></th>\n",
       "      <th></th>\n",
       "      <th></th>\n",
       "      <th></th>\n",
       "    </tr>\n",
       "  </thead>\n",
       "  <tbody>\n",
       "    <tr>\n",
       "      <th>05</th>\n",
       "      <td>1.362226</td>\n",
       "      <td>1.123632e+06</td>\n",
       "      <td>365450.569945</td>\n",
       "      <td>322915.208484</td>\n",
       "      <td>24807.403755</td>\n",
       "      <td>410266.976481</td>\n",
       "      <td>282949.842977</td>\n",
       "      <td>118736.179386</td>\n",
       "      <td>8580.955833</td>\n",
       "    </tr>\n",
       "    <tr>\n",
       "      <th>02</th>\n",
       "      <td>1.248885</td>\n",
       "      <td>1.095374e+06</td>\n",
       "      <td>356108.726586</td>\n",
       "      <td>329465.377199</td>\n",
       "      <td>27114.248681</td>\n",
       "      <td>382679.807581</td>\n",
       "      <td>257941.593086</td>\n",
       "      <td>118359.108364</td>\n",
       "      <td>6379.106130</td>\n",
       "    </tr>\n",
       "    <tr>\n",
       "      <th>06</th>\n",
       "      <td>1.403636</td>\n",
       "      <td>1.051247e+06</td>\n",
       "      <td>333553.366679</td>\n",
       "      <td>292529.670089</td>\n",
       "      <td>25541.020170</td>\n",
       "      <td>398948.428058</td>\n",
       "      <td>274579.395827</td>\n",
       "      <td>112721.230545</td>\n",
       "      <td>11647.804281</td>\n",
       "    </tr>\n",
       "    <tr>\n",
       "      <th>04</th>\n",
       "      <td>1.374765</td>\n",
       "      <td>1.016582e+06</td>\n",
       "      <td>328330.040096</td>\n",
       "      <td>288992.924466</td>\n",
       "      <td>23387.748900</td>\n",
       "      <td>375867.780659</td>\n",
       "      <td>263520.526179</td>\n",
       "      <td>104816.774014</td>\n",
       "      <td>7530.478686</td>\n",
       "    </tr>\n",
       "    <tr>\n",
       "      <th>03</th>\n",
       "      <td>1.316207</td>\n",
       "      <td>9.957150e+05</td>\n",
       "      <td>319500.287778</td>\n",
       "      <td>280341.474979</td>\n",
       "      <td>22722.835312</td>\n",
       "      <td>373146.523045</td>\n",
       "      <td>257800.970532</td>\n",
       "      <td>109003.142239</td>\n",
       "      <td>6342.410274</td>\n",
       "    </tr>\n",
       "    <tr>\n",
       "      <th>01</th>\n",
       "      <td>1.287596</td>\n",
       "      <td>9.853122e+05</td>\n",
       "      <td>308693.058179</td>\n",
       "      <td>312853.505905</td>\n",
       "      <td>22480.002184</td>\n",
       "      <td>341278.942956</td>\n",
       "      <td>234641.787819</td>\n",
       "      <td>101886.862623</td>\n",
       "      <td>4750.292514</td>\n",
       "    </tr>\n",
       "    <tr>\n",
       "      <th>07</th>\n",
       "      <td>1.457877</td>\n",
       "      <td>9.832681e+05</td>\n",
       "      <td>299886.604012</td>\n",
       "      <td>286913.961481</td>\n",
       "      <td>24286.230278</td>\n",
       "      <td>372170.486228</td>\n",
       "      <td>259734.473515</td>\n",
       "      <td>101153.085415</td>\n",
       "      <td>11282.926612</td>\n",
       "    </tr>\n",
       "    <tr>\n",
       "      <th>08</th>\n",
       "      <td>1.470107</td>\n",
       "      <td>9.499249e+05</td>\n",
       "      <td>293459.626250</td>\n",
       "      <td>268170.179452</td>\n",
       "      <td>20111.723497</td>\n",
       "      <td>368181.512073</td>\n",
       "      <td>254275.793565</td>\n",
       "      <td>104320.211189</td>\n",
       "      <td>9585.506962</td>\n",
       "    </tr>\n",
       "    <tr>\n",
       "      <th>09</th>\n",
       "      <td>1.485673</td>\n",
       "      <td>9.064773e+05</td>\n",
       "      <td>272419.824619</td>\n",
       "      <td>258556.891759</td>\n",
       "      <td>17596.858949</td>\n",
       "      <td>357901.622625</td>\n",
       "      <td>246234.611004</td>\n",
       "      <td>104358.588974</td>\n",
       "      <td>7308.422646</td>\n",
       "    </tr>\n",
       "    <tr>\n",
       "      <th>10</th>\n",
       "      <td>1.448109</td>\n",
       "      <td>8.446863e+05</td>\n",
       "      <td>242565.877753</td>\n",
       "      <td>243056.444509</td>\n",
       "      <td>16767.432696</td>\n",
       "      <td>342293.945541</td>\n",
       "      <td>230042.391036</td>\n",
       "      <td>105634.874793</td>\n",
       "      <td>6616.679712</td>\n",
       "    </tr>\n",
       "    <tr>\n",
       "      <th>11</th>\n",
       "      <td>1.361806</td>\n",
       "      <td>8.223470e+05</td>\n",
       "      <td>246689.966150</td>\n",
       "      <td>221556.799441</td>\n",
       "      <td>15296.389533</td>\n",
       "      <td>338714.741802</td>\n",
       "      <td>226836.399113</td>\n",
       "      <td>105112.286620</td>\n",
       "      <td>6766.053932</td>\n",
       "    </tr>\n",
       "    <tr>\n",
       "      <th>12</th>\n",
       "      <td>1.321063</td>\n",
       "      <td>8.076695e+05</td>\n",
       "      <td>250052.426724</td>\n",
       "      <td>243082.925115</td>\n",
       "      <td>16644.984442</td>\n",
       "      <td>297885.539673</td>\n",
       "      <td>200706.282023</td>\n",
       "      <td>91591.038147</td>\n",
       "      <td>5588.217065</td>\n",
       "    </tr>\n",
       "  </tbody>\n",
       "</table>\n",
       "</div>"
      ],
      "text/plain": [
       "       average_price  total_volume           4046           4225  \\\n",
       "month                                                              \n",
       "05          1.362226  1.123632e+06  365450.569945  322915.208484   \n",
       "02          1.248885  1.095374e+06  356108.726586  329465.377199   \n",
       "06          1.403636  1.051247e+06  333553.366679  292529.670089   \n",
       "04          1.374765  1.016582e+06  328330.040096  288992.924466   \n",
       "03          1.316207  9.957150e+05  319500.287778  280341.474979   \n",
       "01          1.287596  9.853122e+05  308693.058179  312853.505905   \n",
       "07          1.457877  9.832681e+05  299886.604012  286913.961481   \n",
       "08          1.470107  9.499249e+05  293459.626250  268170.179452   \n",
       "09          1.485673  9.064773e+05  272419.824619  258556.891759   \n",
       "10          1.448109  8.446863e+05  242565.877753  243056.444509   \n",
       "11          1.361806  8.223470e+05  246689.966150  221556.799441   \n",
       "12          1.321063  8.076695e+05  250052.426724  243082.925115   \n",
       "\n",
       "               4770     total_bags     small_bags     large_bags   xlarge_bags  \n",
       "month                                                                           \n",
       "05     24807.403755  410266.976481  282949.842977  118736.179386   8580.955833  \n",
       "02     27114.248681  382679.807581  257941.593086  118359.108364   6379.106130  \n",
       "06     25541.020170  398948.428058  274579.395827  112721.230545  11647.804281  \n",
       "04     23387.748900  375867.780659  263520.526179  104816.774014   7530.478686  \n",
       "03     22722.835312  373146.523045  257800.970532  109003.142239   6342.410274  \n",
       "01     22480.002184  341278.942956  234641.787819  101886.862623   4750.292514  \n",
       "07     24286.230278  372170.486228  259734.473515  101153.085415  11282.926612  \n",
       "08     20111.723497  368181.512073  254275.793565  104320.211189   9585.506962  \n",
       "09     17596.858949  357901.622625  246234.611004  104358.588974   7308.422646  \n",
       "10     16767.432696  342293.945541  230042.391036  105634.874793   6616.679712  \n",
       "11     15296.389533  338714.741802  226836.399113  105112.286620   6766.053932  \n",
       "12     16644.984442  297885.539673  200706.282023   91591.038147   5588.217065  "
      ]
     },
     "execution_count": 66,
     "metadata": {},
     "output_type": "execute_result"
    }
   ],
   "source": [
    "avo = avo.groupby(['month']).mean()\n",
    "avo = avo.sort_values('total_volume', ascending = False)"
   ]
  },
  {
   "cell_type": "markdown",
   "id": "cbc22a81",
   "metadata": {},
   "source": [
    "The fifth month (May) has the highest average volume of avocado sales."
   ]
  },
  {
   "cell_type": "code",
   "execution_count": null,
   "id": "35234992",
   "metadata": {},
   "outputs": [],
   "source": [
    "#Which metro area geographical regions sold the most total avocados? \n",
    "#Plot side-by-side box-plots of the total volume for only the five metro geographical regions \n",
    "#with the highest averages for the total_volume variable.\n"
   ]
  },
  {
   "cell_type": "code",
   "execution_count": 104,
   "id": "4d94f824",
   "metadata": {
    "scrolled": true
   },
   "outputs": [
    {
     "name": "stderr",
     "output_type": "stream",
     "text": [
      "C:\\Users\\jamla\\AppData\\Local\\Temp\\ipykernel_10756\\2858931656.py:1: FutureWarning: The default value of numeric_only in DataFrameGroupBy.mean is deprecated. In a future version, numeric_only will default to False. Either specify numeric_only or select only columns which should be valid for the function.\n"
     ]
    }
   ],
   "source": [
    "avo_cities = avo_cities.groupby(['geography']).mean()"
   ]
  },
  {
   "cell_type": "code",
   "execution_count": 105,
   "id": "20adbfe0",
   "metadata": {},
   "outputs": [],
   "source": [
    "avo_cities = avo_cities.reset_index()"
   ]
  },
  {
   "cell_type": "code",
   "execution_count": 106,
   "id": "33c3bae4",
   "metadata": {},
   "outputs": [],
   "source": [
    "avo_cities = avo_cities.sort_values('total_volume', ascending = False)"
   ]
  },
  {
   "cell_type": "code",
   "execution_count": 107,
   "id": "81087943",
   "metadata": {},
   "outputs": [],
   "source": [
    "avo_cities = avo_cities.reset_index()"
   ]
  },
  {
   "cell_type": "code",
   "execution_count": 108,
   "id": "aea117ca",
   "metadata": {
    "scrolled": true
   },
   "outputs": [
    {
     "data": {
      "text/plain": [
       "0         Los Angeles\n",
       "1            New York\n",
       "2    Dallas/Ft. Worth\n",
       "3             Houston\n",
       "4      Phoenix/Tucson\n",
       "Name: geography, dtype: object"
      ]
     },
     "execution_count": 108,
     "metadata": {},
     "output_type": "execute_result"
    }
   ],
   "source": [
    "avo_cities = avo_cities.loc[0:4, :]\n",
    "avo_cities['geography']"
   ]
  },
  {
   "cell_type": "code",
   "execution_count": 111,
   "id": "1b48a9a4",
   "metadata": {},
   "outputs": [],
   "source": [
    "avo_cities_for_graph = avo_cities_for_graph[avo_cities_for_graph['geography'].isin(avo_cities['geography'])]"
   ]
  },
  {
   "cell_type": "code",
   "execution_count": 112,
   "id": "57e02b25",
   "metadata": {},
   "outputs": [
    {
     "data": {
      "image/png": "[encoded data removed]",
      "text/plain": [
       "<Figure size 640x480 with 1 Axes>"
      ]
     },
     "metadata": {
      "image/png": {
       "height": 480,
       "width": 640
      }
     },
     "output_type": "display_data"
    },
    {
     "data": {
      "text/plain": [
       "<Figure Size: (640 x 480)>"
      ]
     },
     "execution_count": 112,
     "metadata": {},
     "output_type": "execute_result"
    }
   ],
   "source": [
    "(ggplot(avo_cities_for_graph, aes(x = \"geography\", y = \"total_volume\", fill = \"geography\"))\n",
    "+ geom_boxplot()\n",
    "+ labs(x = 'geography', y = 'volume'))"
   ]
  },
  {
   "cell_type": "markdown",
   "id": "8f6f8ad3",
   "metadata": {},
   "source": [
    "6."
   ]
  },
  {
   "cell_type": "code",
   "execution_count": 160,
   "id": "0912171d",
   "metadata": {},
   "outputs": [
    {
     "data": {
      "text/html": [
       "<div>\n",
       "<style scoped>\n",
       "    .dataframe tbody tr th:only-of-type {\n",
       "        vertical-align: middle;\n",
       "    }\n",
       "\n",
       "    .dataframe tbody tr th {\n",
       "        vertical-align: top;\n",
       "    }\n",
       "\n",
       "    .dataframe thead th {\n",
       "        text-align: right;\n",
       "    }\n",
       "</style>\n",
       "<table border=\"1\" class=\"dataframe\">\n",
       "  <thead>\n",
       "    <tr style=\"text-align: right;\">\n",
       "      <th></th>\n",
       "      <th>date</th>\n",
       "      <th>average_price</th>\n",
       "      <th>total_volume</th>\n",
       "      <th>4046</th>\n",
       "      <th>4225</th>\n",
       "      <th>4770</th>\n",
       "      <th>total_bags</th>\n",
       "      <th>small_bags</th>\n",
       "      <th>large_bags</th>\n",
       "      <th>xlarge_bags</th>\n",
       "      <th>type</th>\n",
       "      <th>year</th>\n",
       "      <th>geography</th>\n",
       "    </tr>\n",
       "  </thead>\n",
       "  <tbody>\n",
       "    <tr>\n",
       "      <th>44</th>\n",
       "      <td>2015-01-04</td>\n",
       "      <td>0.85</td>\n",
       "      <td>2682159.95</td>\n",
       "      <td>1837999.65</td>\n",
       "      <td>524430.47</td>\n",
       "      <td>64225.78</td>\n",
       "      <td>255504.05</td>\n",
       "      <td>215571.80</td>\n",
       "      <td>36981.72</td>\n",
       "      <td>2950.53</td>\n",
       "      <td>conventional</td>\n",
       "      <td>2015</td>\n",
       "      <td>Los Angeles</td>\n",
       "    </tr>\n",
       "    <tr>\n",
       "      <th>45</th>\n",
       "      <td>2015-01-04</td>\n",
       "      <td>1.25</td>\n",
       "      <td>54495.54</td>\n",
       "      <td>47721.51</td>\n",
       "      <td>1723.40</td>\n",
       "      <td>0.00</td>\n",
       "      <td>5050.63</td>\n",
       "      <td>5050.63</td>\n",
       "      <td>0.00</td>\n",
       "      <td>0.00</td>\n",
       "      <td>organic</td>\n",
       "      <td>2015</td>\n",
       "      <td>Los Angeles</td>\n",
       "    </tr>\n",
       "    <tr>\n",
       "      <th>80</th>\n",
       "      <td>2015-01-04</td>\n",
       "      <td>1.05</td>\n",
       "      <td>430138.88</td>\n",
       "      <td>110693.69</td>\n",
       "      <td>270107.61</td>\n",
       "      <td>9737.50</td>\n",
       "      <td>39600.08</td>\n",
       "      <td>39600.08</td>\n",
       "      <td>0.00</td>\n",
       "      <td>0.00</td>\n",
       "      <td>conventional</td>\n",
       "      <td>2015</td>\n",
       "      <td>Sacramento</td>\n",
       "    </tr>\n",
       "    <tr>\n",
       "      <th>81</th>\n",
       "      <td>2015-01-04</td>\n",
       "      <td>1.33</td>\n",
       "      <td>9213.49</td>\n",
       "      <td>3727.52</td>\n",
       "      <td>4327.52</td>\n",
       "      <td>0.00</td>\n",
       "      <td>1158.45</td>\n",
       "      <td>1158.45</td>\n",
       "      <td>0.00</td>\n",
       "      <td>0.00</td>\n",
       "      <td>organic</td>\n",
       "      <td>2015</td>\n",
       "      <td>Sacramento</td>\n",
       "    </tr>\n",
       "    <tr>\n",
       "      <th>82</th>\n",
       "      <td>2015-01-04</td>\n",
       "      <td>0.94</td>\n",
       "      <td>461607.33</td>\n",
       "      <td>244152.26</td>\n",
       "      <td>165299.33</td>\n",
       "      <td>15302.75</td>\n",
       "      <td>36852.99</td>\n",
       "      <td>30884.29</td>\n",
       "      <td>5595.00</td>\n",
       "      <td>373.70</td>\n",
       "      <td>conventional</td>\n",
       "      <td>2015</td>\n",
       "      <td>San Diego</td>\n",
       "    </tr>\n",
       "  </tbody>\n",
       "</table>\n",
       "</div>"
      ],
      "text/plain": [
       "          date  average_price  total_volume        4046       4225      4770  \\\n",
       "44  2015-01-04           0.85    2682159.95  1837999.65  524430.47  64225.78   \n",
       "45  2015-01-04           1.25      54495.54    47721.51    1723.40      0.00   \n",
       "80  2015-01-04           1.05     430138.88   110693.69  270107.61   9737.50   \n",
       "81  2015-01-04           1.33       9213.49     3727.52    4327.52      0.00   \n",
       "82  2015-01-04           0.94     461607.33   244152.26  165299.33  15302.75   \n",
       "\n",
       "    total_bags  small_bags  large_bags  xlarge_bags          type  year  \\\n",
       "44   255504.05   215571.80    36981.72      2950.53  conventional  2015   \n",
       "45     5050.63     5050.63        0.00         0.00       organic  2015   \n",
       "80    39600.08    39600.08        0.00         0.00  conventional  2015   \n",
       "81     1158.45     1158.45        0.00         0.00       organic  2015   \n",
       "82    36852.99    30884.29     5595.00       373.70  conventional  2015   \n",
       "\n",
       "      geography  \n",
       "44  Los Angeles  \n",
       "45  Los Angeles  \n",
       "80   Sacramento  \n",
       "81   Sacramento  \n",
       "82    San Diego  "
      ]
     },
     "execution_count": 160,
     "metadata": {},
     "output_type": "execute_result"
    }
   ],
   "source": [
    "cali_cities = avo[avo['geography'].isin(['Los Angeles', 'San Diego', 'Sacramento', 'San Francisco'])]"
   ]
  },
  {
   "cell_type": "code",
   "execution_count": 161,
   "id": "b488cdbe",
   "metadata": {
    "scrolled": true
   },
   "outputs": [
    {
     "name": "stderr",
     "output_type": "stream",
     "text": [
      "C:\\Users\\jamla\\AppData\\Local\\Temp\\ipykernel_10756\\3400860805.py:1: FutureWarning: The default value of numeric_only in DataFrameGroupBy.mean is deprecated. In a future version, numeric_only will default to False. Either specify numeric_only or select only columns which should be valid for the function.\n"
     ]
    }
   ],
   "source": [
    "cali_cities = cali_cities.groupby(['geography', 'type']).mean().reset_index()\n",
    "cali_for_graph = cali_cities.copy()"
   ]
  },
  {
   "cell_type": "code",
   "execution_count": 139,
   "id": "4e54cdb9",
   "metadata": {},
   "outputs": [
    {
     "data": {
      "text/html": [
       "<div>\n",
       "<style scoped>\n",
       "    .dataframe tbody tr th:only-of-type {\n",
       "        vertical-align: middle;\n",
       "    }\n",
       "\n",
       "    .dataframe tbody tr th {\n",
       "        vertical-align: top;\n",
       "    }\n",
       "\n",
       "    .dataframe thead th {\n",
       "        text-align: right;\n",
       "    }\n",
       "</style>\n",
       "<table border=\"1\" class=\"dataframe\">\n",
       "  <thead>\n",
       "    <tr style=\"text-align: right;\">\n",
       "      <th>type</th>\n",
       "      <th>conventional</th>\n",
       "      <th>organic</th>\n",
       "    </tr>\n",
       "    <tr>\n",
       "      <th>geography</th>\n",
       "      <th></th>\n",
       "      <th></th>\n",
       "    </tr>\n",
       "  </thead>\n",
       "  <tbody>\n",
       "    <tr>\n",
       "      <th>Los Angeles</th>\n",
       "      <td>1.047124</td>\n",
       "      <td>1.574902</td>\n",
       "    </tr>\n",
       "    <tr>\n",
       "      <th>Sacramento</th>\n",
       "      <td>1.295359</td>\n",
       "      <td>1.873856</td>\n",
       "    </tr>\n",
       "    <tr>\n",
       "      <th>San Diego</th>\n",
       "      <td>1.113856</td>\n",
       "      <td>1.798366</td>\n",
       "    </tr>\n",
       "    <tr>\n",
       "      <th>San Francisco</th>\n",
       "      <td>1.400490</td>\n",
       "      <td>2.119444</td>\n",
       "    </tr>\n",
       "  </tbody>\n",
       "</table>\n",
       "</div>"
      ],
      "text/plain": [
       "type           conventional   organic\n",
       "geography                            \n",
       "Los Angeles        1.047124  1.574902\n",
       "Sacramento         1.295359  1.873856\n",
       "San Diego          1.113856  1.798366\n",
       "San Francisco      1.400490  2.119444"
      ]
     },
     "execution_count": 139,
     "metadata": {},
     "output_type": "execute_result"
    }
   ],
   "source": [
    "cali_cities = cali_cities.pivot(index = \"geography\", columns = \"type\", values = \"average_price\")"
   ]
  },
  {
   "cell_type": "code",
   "execution_count": 140,
   "id": "4edcb99f",
   "metadata": {},
   "outputs": [
    {
     "data": {
      "text/html": [
       "<div>\n",
       "<style scoped>\n",
       "    .dataframe tbody tr th:only-of-type {\n",
       "        vertical-align: middle;\n",
       "    }\n",
       "\n",
       "    .dataframe tbody tr th {\n",
       "        vertical-align: top;\n",
       "    }\n",
       "\n",
       "    .dataframe thead th {\n",
       "        text-align: right;\n",
       "    }\n",
       "</style>\n",
       "<table border=\"1\" class=\"dataframe\">\n",
       "  <thead>\n",
       "    <tr style=\"text-align: right;\">\n",
       "      <th>type</th>\n",
       "      <th>conventional</th>\n",
       "      <th>organic</th>\n",
       "      <th>diff</th>\n",
       "    </tr>\n",
       "    <tr>\n",
       "      <th>geography</th>\n",
       "      <th></th>\n",
       "      <th></th>\n",
       "      <th></th>\n",
       "    </tr>\n",
       "  </thead>\n",
       "  <tbody>\n",
       "    <tr>\n",
       "      <th>Los Angeles</th>\n",
       "      <td>1.047124</td>\n",
       "      <td>1.574902</td>\n",
       "      <td>0.527778</td>\n",
       "    </tr>\n",
       "    <tr>\n",
       "      <th>Sacramento</th>\n",
       "      <td>1.295359</td>\n",
       "      <td>1.873856</td>\n",
       "      <td>0.578497</td>\n",
       "    </tr>\n",
       "    <tr>\n",
       "      <th>San Diego</th>\n",
       "      <td>1.113856</td>\n",
       "      <td>1.798366</td>\n",
       "      <td>0.684510</td>\n",
       "    </tr>\n",
       "    <tr>\n",
       "      <th>San Francisco</th>\n",
       "      <td>1.400490</td>\n",
       "      <td>2.119444</td>\n",
       "      <td>0.718954</td>\n",
       "    </tr>\n",
       "  </tbody>\n",
       "</table>\n",
       "</div>"
      ],
      "text/plain": [
       "type           conventional   organic      diff\n",
       "geography                                      \n",
       "Los Angeles        1.047124  1.574902  0.527778\n",
       "Sacramento         1.295359  1.873856  0.578497\n",
       "San Diego          1.113856  1.798366  0.684510\n",
       "San Francisco      1.400490  2.119444  0.718954"
      ]
     },
     "execution_count": 140,
     "metadata": {},
     "output_type": "execute_result"
    }
   ],
   "source": [
    "cali_cities['diff'] = cali_cities['organic'] - cali_cities['conventional']\n",
    "cali_cities"
   ]
  },
  {
   "cell_type": "code",
   "execution_count": 145,
   "id": "cfead710",
   "metadata": {},
   "outputs": [],
   "source": [
    "cali_cities = cali_cities.reset_index()"
   ]
  },
  {
   "cell_type": "markdown",
   "id": "97a64360",
   "metadata": {},
   "source": [
    "The city in CA where there is the greatest difference in price between conventional and organic avocados is San Francisco with a 72 cent difference followed by San Diego which had a 68 cent difference."
   ]
  },
  {
   "cell_type": "code",
   "execution_count": 143,
   "id": "416d9440",
   "metadata": {},
   "outputs": [
    {
     "data": {
      "text/html": [
       "<div>\n",
       "<style scoped>\n",
       "    .dataframe tbody tr th:only-of-type {\n",
       "        vertical-align: middle;\n",
       "    }\n",
       "\n",
       "    .dataframe tbody tr th {\n",
       "        vertical-align: top;\n",
       "    }\n",
       "\n",
       "    .dataframe thead th {\n",
       "        text-align: right;\n",
       "    }\n",
       "</style>\n",
       "<table border=\"1\" class=\"dataframe\">\n",
       "  <thead>\n",
       "    <tr style=\"text-align: right;\">\n",
       "      <th>type</th>\n",
       "      <th>conventional</th>\n",
       "      <th>organic</th>\n",
       "      <th>diff</th>\n",
       "    </tr>\n",
       "  </thead>\n",
       "  <tbody>\n",
       "    <tr>\n",
       "      <th>count</th>\n",
       "      <td>4.000000</td>\n",
       "      <td>4.000000</td>\n",
       "      <td>4.000000</td>\n",
       "    </tr>\n",
       "    <tr>\n",
       "      <th>mean</th>\n",
       "      <td>1.214208</td>\n",
       "      <td>1.841642</td>\n",
       "      <td>0.627435</td>\n",
       "    </tr>\n",
       "    <tr>\n",
       "      <th>std</th>\n",
       "      <td>0.162557</td>\n",
       "      <td>0.224525</td>\n",
       "      <td>0.089368</td>\n",
       "    </tr>\n",
       "    <tr>\n",
       "      <th>min</th>\n",
       "      <td>1.047124</td>\n",
       "      <td>1.574902</td>\n",
       "      <td>0.527778</td>\n",
       "    </tr>\n",
       "    <tr>\n",
       "      <th>25%</th>\n",
       "      <td>1.097173</td>\n",
       "      <td>1.742500</td>\n",
       "      <td>0.565817</td>\n",
       "    </tr>\n",
       "    <tr>\n",
       "      <th>50%</th>\n",
       "      <td>1.204608</td>\n",
       "      <td>1.836111</td>\n",
       "      <td>0.631503</td>\n",
       "    </tr>\n",
       "    <tr>\n",
       "      <th>75%</th>\n",
       "      <td>1.321642</td>\n",
       "      <td>1.935253</td>\n",
       "      <td>0.693121</td>\n",
       "    </tr>\n",
       "    <tr>\n",
       "      <th>max</th>\n",
       "      <td>1.400490</td>\n",
       "      <td>2.119444</td>\n",
       "      <td>0.718954</td>\n",
       "    </tr>\n",
       "  </tbody>\n",
       "</table>\n",
       "</div>"
      ],
      "text/plain": [
       "type   conventional   organic      diff\n",
       "count      4.000000  4.000000  4.000000\n",
       "mean       1.214208  1.841642  0.627435\n",
       "std        0.162557  0.224525  0.089368\n",
       "min        1.047124  1.574902  0.527778\n",
       "25%        1.097173  1.742500  0.565817\n",
       "50%        1.204608  1.836111  0.631503\n",
       "75%        1.321642  1.935253  0.693121\n",
       "max        1.400490  2.119444  0.718954"
      ]
     },
     "execution_count": 143,
     "metadata": {},
     "output_type": "execute_result"
    }
   ],
   "source": [
    "cali_cities.describe()"
   ]
  },
  {
   "cell_type": "code",
   "execution_count": 152,
   "id": "bf2164a9",
   "metadata": {},
   "outputs": [
    {
     "data": {
      "image/png": "[encoded data removed]",
      "text/plain": [
       "<Figure size 640x480 with 1 Axes>"
      ]
     },
     "metadata": {
      "image/png": {
       "height": 480,
       "width": 640
      }
     },
     "output_type": "display_data"
    },
    {
     "data": {
      "text/plain": [
       "<Figure Size: (640 x 480)>"
      ]
     },
     "execution_count": 152,
     "metadata": {},
     "output_type": "execute_result"
    }
   ],
   "source": [
    "(ggplot(cali_cities, aes(x = \"geography\", y = \"diff\"))\n",
    "+ geom_bar(stat = 'identity', fill = 'orange')\n",
    "+ labs(x = 'geography', y = 'Org - Conv'))"
   ]
  },
  {
   "cell_type": "code",
   "execution_count": 162,
   "id": "978666c1",
   "metadata": {},
   "outputs": [],
   "source": [
    "cali_for_graph = cali_for_graph.melt(id_vars=[\"geography\", 'type'], value_vars=['small_bags', 'large_bags', 'xlarge_bags'], var_name=\"bag_size\", value_name = 'Count')"
   ]
  },
  {
   "cell_type": "code",
   "execution_count": 198,
   "id": "1b3897db",
   "metadata": {},
   "outputs": [
    {
     "data": {
      "image/png": "[encoded data removed]",
      "text/plain": [
       "<Figure size 640x480 with 2 Axes>"
      ]
     },
     "metadata": {
      "image/png": {
       "height": 480,
       "width": 640
      }
     },
     "output_type": "display_data"
    },
    {
     "data": {
      "text/plain": [
       "<Figure Size: (640 x 480)>"
      ]
     },
     "execution_count": 198,
     "metadata": {},
     "output_type": "execute_result"
    }
   ],
   "source": [
    "from plotnine import facet_wrap\n",
    "cali_for_graph['bag_size'] = pd.Categorical(cali_for_graph['bag_size'], categories=['xlarge_bags', 'large_bags', 'small_bags'])\n",
    "(ggplot(cali_for_graph,\n",
    "aes(\n",
    "  x = \"geography\",\n",
    "y = \"Count\",\n",
    "  fill = \"bag_size\"\n",
    "))\n",
    " + theme_bw()\n",
    "+ geom_col(position = \"fill\")\n",
    "+ facet_wrap(\"type\")\n",
    " + theme(axis_text_x=element_text(angle=45, hjust=1))\n",
    " + scale_fill_manual(values={'large_bags':\"mediumseagreen\", 'small_bags':\"orangered\", 'xlarge_bags':\"mediumslateblue\"})\n",
    " + labs(x = 'Region of California', y = 'Proportion')\n",
    " \n",
    ")"
   ]
  },
  {
   "cell_type": "code",
   "execution_count": null,
   "id": "74eb75a0",
   "metadata": {},
   "outputs": [],
   "source": []
  },
  {
   "cell_type": "code",
   "execution_count": null,
   "id": "8f4b870f",
   "metadata": {},
   "outputs": [],
   "source": []
  },
  {
   "cell_type": "code",
   "execution_count": null,
   "id": "538a52ed",
   "metadata": {},
   "outputs": [],
   "source": []
  }
 ],
 "metadata": {
  "kernelspec": {
   "display_name": "Python 3 (ipykernel)",
   "language": "python",
   "name": "python3"
  },
  "language_info": {
   "codemirror_mode": {
    "name": "ipython",
    "version": 3
   },
   "file_extension": ".py",
   "mimetype": "text/x-python",
   "name": "python",
   "nbconvert_exporter": "python",
   "pygments_lexer": "ipython3",
   "version": "3.11.4"
  }
 },
 "nbformat": 4,
 "nbformat_minor": 5
}

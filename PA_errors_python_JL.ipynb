{
 "cells": [
  {
   "cell_type": "raw",
   "metadata": {
    "id": "zeL2x8-7rt2b"
   },
   "source": [
    "---\n",
    "title: 'Practice Activity: Basic Syntax'\n",
    "output: html\n",
    "---"
   ]
  },
  {
   "cell_type": "markdown",
   "metadata": {
    "id": "y9Er4271rt2c"
   },
   "source": [
    "## Overview\n",
    "\n",
    "In this PA, you will will be creating and manipulating basic objects to uncover a top secret message.\n",
    "\n",
    "### Hint 1\n",
    "\n",
    "As you work through this PA, you will encounter some code that does not work as you want it to.  Don't despair!  Errors (when R is unable to run your code) and bugs (when the code doesn't do what you hoped) are a natural part of coding.  Even the best of the best deal with these problems regularly - learning to track down the issue is a skill that you can learn and practice.\n",
    "\n",
    "Google is your friend!  If an error is confusing, copy it into Google and see what other people are saying.  If you don't know how to do something, search for it.\n",
    "\n",
    "### Hint 2\n",
    "\n",
    "Just because there is no error message doesn't mean everything went smoothly.  You should be regularly printing out your objects, to see they contain the information and format that you expect.\n",
    "\n",
    "For example, if you have an object named `my_thing`, you might first want to simply look at the object by typing its name.\n",
    "\n",
    "However, you might also want to make sure it is the right **object type** and/or the right **object structure**.\n"
   ]
  },
  {
   "cell_type": "code",
   "execution_count": 58,
   "metadata": {
    "colab": {
     "base_uri": "https://localhost:8080/",
     "height": 193
    },
    "id": "RhEul-FArt2e",
    "outputId": "301ed7cb-a9fd-42ec-891e-7259d88a31ab"
   },
   "outputs": [
    {
     "ename": "NameError",
     "evalue": "name 'my_thing' is not defined",
     "output_type": "error",
     "traceback": [
      "\u001b[1;31m---------------------------------------------------------------------------\u001b[0m",
      "\u001b[1;31mNameError\u001b[0m                                 Traceback (most recent call last)",
      "Cell \u001b[1;32mIn[58], line 1\u001b[0m\n\u001b[1;32m----> 1\u001b[0m \u001b[38;5;28mtype\u001b[39m(my_thing)\n\u001b[0;32m      2\u001b[0m \u001b[38;5;28mlen\u001b[39m(my_thing)\n",
      "\u001b[1;31mNameError\u001b[0m: name 'my_thing' is not defined"
     ]
    }
   ],
   "source": [
    "type(my_thing)\n",
    "len(my_thing)"
   ]
  },
  {
   "cell_type": "markdown",
   "metadata": {
    "id": "kL7okDE_rt2f"
   },
   "source": [
    "## Part One: Setup\n",
    "\n",
    "Each of the following code chunks will cause an error and/or do the desired task incorrectly.  Find the mistake, and correct it to complete the intended action.\n",
    "\n",
    "\n",
    "\n",
    "\n",
    "1. Create lists containing the upper case letters, lower case letters, and some punctuation marks.\n"
   ]
  },
  {
   "cell_type": "code",
   "execution_count": 59,
   "metadata": {
    "id": "kSVzwPRWrt2f"
   },
   "outputs": [],
   "source": [
    "lower_case = [\"a\", \"b\", \"c\", \"d\", \"e\", \"f\", \"g\", \"h\", \"i\", \"j\", \"k\", \"l\", \"m\", \"n\", \"o\", \"p\", \"q\", \"r\", \"s\", \"t\", \"u\", \"v\", \"w\", \"x\", \"y\", \"z\"]\n",
    "\n",
    "upper_case = [\"A\", \"B\", \"C\", \"D\", \"E\", \"F\", \"G\", \"H\" \"I\", \"J\", \"K\", \"L\", \"M\", \"N\", \"O\", \"P\", \"Q\", \"R\", \"S\", \"T\", \"U\", \"V\", \"W\", \"X\", \"Y\", \"Z\"]\n",
    "\n",
    "punctuation = [\".\", \",\", \"!\", \"?\", \"'\", '\"', \"(\", \")\", \" \", \"-\", \";\", \":\"]"
   ]
  },
  {
   "cell_type": "markdown",
   "metadata": {
    "id": "SNBm6Dmjrt2f"
   },
   "source": [
    "2. Make one long list containing all the symbols.  Find the length of this list.\n"
   ]
  },
  {
   "cell_type": "code",
   "execution_count": 60,
   "metadata": {
    "colab": {
     "base_uri": "https://localhost:8080/"
    },
    "id": "MlylJ25ort2g",
    "outputId": "9441186e-6c49-43a4-86c0-79eedf0715b6"
   },
   "outputs": [
    {
     "data": {
      "text/plain": [
       "63"
      ]
     },
     "execution_count": 60,
     "metadata": {},
     "output_type": "execute_result"
    }
   ],
   "source": [
    "all_symbols = lower_case + upper_case + punctuation\n",
    "\n",
    "len(all_symbols)"
   ]
  },
  {
   "cell_type": "markdown",
   "metadata": {
    "id": "W6FWiIokrt2g"
   },
   "source": [
    "3. Repeat the previous steps, but instead of using *list* type objects, use **numpy arrays**.  Don't forget to **import** the numpy library!\n"
   ]
  },
  {
   "cell_type": "code",
   "execution_count": 61,
   "metadata": {
    "id": "GcYcTr8Ort2g"
   },
   "outputs": [],
   "source": [
    "import numpy as np\n",
    "\n",
    "\n",
    "lower_case = np.array([\"a\", \"b\", \"c\", \"d\", \"e\", \"f\", \"g\", \"h\", \"i\", \"j\", \"k\", \"l\", \"m\", \"n\", \"o\", \"p\", \"q\", \"r\", \"s\", \"t\", \"u\", \"v\", \"w\", \"x\", \"y\", \"z\"])\n",
    "\n",
    "upper_case = np.array([\"A\", \"B\", \"C\", \"D\", \"E\", \"F\", \"G\", \"H\", \"I\", \"J\", \"K\", \"L\", \"M\", \"N\", \"O\", \"P\", \"Q\", \"R\", \"S\", \"T\", \"U\", \"V\", \"W\", \"X\", \"Y\", \"Z\"])\n",
    "\n",
    "punctuation = np.array([\".\", \",\", \"!\", \"?\", \"'\", \"\\\"\", \"(\", \")\", \" \", \"-\", \";\", \":\"])\n",
    "\n",
    "\n",
    "\n",
    "## Use np.concatenate to combine into long array\n",
    "all_symbols = np.concatenate((lower_case, upper_case, punctuation))"
   ]
  },
  {
   "cell_type": "markdown",
   "metadata": {
    "id": "NGSRfGGVrt2g"
   },
   "source": [
    "4. Make a **pandas data frame**, with one column called \"Symbol\" containing the `all_symbols` array.\n"
   ]
  },
  {
   "cell_type": "code",
   "execution_count": 62,
   "metadata": {
    "id": "UXR-ONkZrt2h"
   },
   "outputs": [
    {
     "data": {
      "text/html": [
       "<div>\n",
       "<style scoped>\n",
       "    .dataframe tbody tr th:only-of-type {\n",
       "        vertical-align: middle;\n",
       "    }\n",
       "\n",
       "    .dataframe tbody tr th {\n",
       "        vertical-align: top;\n",
       "    }\n",
       "\n",
       "    .dataframe thead th {\n",
       "        text-align: right;\n",
       "    }\n",
       "</style>\n",
       "<table border=\"1\" class=\"dataframe\">\n",
       "  <thead>\n",
       "    <tr style=\"text-align: right;\">\n",
       "      <th></th>\n",
       "      <th>Symbol</th>\n",
       "    </tr>\n",
       "  </thead>\n",
       "  <tbody>\n",
       "    <tr>\n",
       "      <th>0</th>\n",
       "      <td>a</td>\n",
       "    </tr>\n",
       "    <tr>\n",
       "      <th>1</th>\n",
       "      <td>b</td>\n",
       "    </tr>\n",
       "    <tr>\n",
       "      <th>2</th>\n",
       "      <td>c</td>\n",
       "    </tr>\n",
       "    <tr>\n",
       "      <th>3</th>\n",
       "      <td>d</td>\n",
       "    </tr>\n",
       "    <tr>\n",
       "      <th>4</th>\n",
       "      <td>e</td>\n",
       "    </tr>\n",
       "    <tr>\n",
       "      <th>...</th>\n",
       "      <td>...</td>\n",
       "    </tr>\n",
       "    <tr>\n",
       "      <th>59</th>\n",
       "      <td>)</td>\n",
       "    </tr>\n",
       "    <tr>\n",
       "      <th>60</th>\n",
       "      <td></td>\n",
       "    </tr>\n",
       "    <tr>\n",
       "      <th>61</th>\n",
       "      <td>-</td>\n",
       "    </tr>\n",
       "    <tr>\n",
       "      <th>62</th>\n",
       "      <td>;</td>\n",
       "    </tr>\n",
       "    <tr>\n",
       "      <th>63</th>\n",
       "      <td>:</td>\n",
       "    </tr>\n",
       "  </tbody>\n",
       "</table>\n",
       "<p>64 rows × 1 columns</p>\n",
       "</div>"
      ],
      "text/plain": [
       "   Symbol\n",
       "0       a\n",
       "1       b\n",
       "2       c\n",
       "3       d\n",
       "4       e\n",
       "..    ...\n",
       "59      )\n",
       "60       \n",
       "61      -\n",
       "62      ;\n",
       "63      :\n",
       "\n",
       "[64 rows x 1 columns]"
      ]
     },
     "execution_count": 62,
     "metadata": {},
     "output_type": "execute_result"
    }
   ],
   "source": [
    "import pandas as pd\n",
    "\n",
    "symbols_df = pd.DataFrame(all_symbols)\n",
    "symbols_df = symbols_df.rename(columns = {0: \"Symbol\"})\n",
    "symbols_df\n"
   ]
  },
  {
   "cell_type": "markdown",
   "metadata": {
    "id": "PoPBu06ert2h"
   },
   "source": [
    "## Part Two: Decoding the secret message.\n"
   ]
  },
  {
   "cell_type": "code",
   "execution_count": 84,
   "metadata": {
    "id": "FBDV4Xdrrt2h"
   },
   "outputs": [],
   "source": [
    "top_secret = pd.read_csv(\"https://www.dropbox.com/s/k72h1zewk4gtqep/PA_Secret_Code?dl=1\", header=None)\n",
    "top_secret = top_secret[0].to_numpy()"
   ]
  },
  {
   "cell_type": "markdown",
   "metadata": {
    "id": "UZyOtW5Grt2h"
   },
   "source": [
    "### Hint\n",
    "\n",
    "Recall that basic math operations are **vectorized**.  This means you don't have to repeat the process for each item in a list; you can apply the math to the whole thing at once.\n",
    "\n",
    "### Instructions\n",
    "\n",
    "By altering this top secret set of numbers, you will be able to create a message.  Write your own code to complete the steps below.\n",
    "\n",
    "1. Add 14 to every number.\n",
    "2. Multiply every number by 18, then subtract 257.\n",
    "3. Exponentiate every number.  (That is, do e^[number].  You may have to Google how to do this!)\n",
    "4. Square every number.\n",
    "\n",
    "**Checkpoint:** Headquarters has informed you that at this stage of decoding, there should be 352 numbers in the secret message that are below 17.  Write code to check if this is true for your data.\n",
    "\n",
    "\n",
    "5. Turn your one-dimensional array of numbers into a two-dimensional array (matrix) with 5 columns.\n",
    "6. Separately from your top secret numbers, create an array of all the even numbers between 1 and 382. Name it \"evens\". That is, \"evens\" should contain 2, 4, 6, 8 ..., 382.\n",
    "7. Subtract the \"evens\" vector from the first column of your secret message matrix.\n",
    "8. Subtract 100 from all numbers in the 18-24th rows of the 3rd column.\n",
    "9. Multiply all numbers in the 4th and 5th column by 2.\n",
    "10. Turn your matrix back into a one dimensional array.\n",
    "\n",
    "\n",
    "**Checkpoint:** Headquarters has informed you that at this stage of decoding, all numbers in indices 500 and beyond are below 100.  Write code to check if your numbers fulfill this requirement.\n",
    "\n",
    "11. Take the square root of all numbers in indices 38 to 465.\n",
    "12. Round all numbers to the nearest whole number.\n",
    "13. Replace all instances of the number 39 with 20.\n",
    "\n",
    "**Checkpoint:** Headquarters has informed you that your final message should have 344 even numbers.  Write code to check if your numbers fulfill this requirement.\n",
    "\n",
    "## Part 3: The secret message!\n",
    "\n",
    "Run the following to discover the final message!  Google the first line of this message, if you do not recognize it, to see what it is.\n"
   ]
  },
  {
   "cell_type": "code",
   "execution_count": 85,
   "metadata": {},
   "outputs": [],
   "source": [
    "top_secret = top_secret + 14\n",
    "top_secret = top_secret*18\n",
    "top_secret = top_secret - 257\n",
    "top_secret = np.exp(top_secret)\n",
    "top_secret = top_secret**2"
   ]
  },
  {
   "cell_type": "code",
   "execution_count": 86,
   "metadata": {},
   "outputs": [
    {
     "data": {
      "text/plain": [
       "352"
      ]
     },
     "execution_count": 86,
     "metadata": {},
     "output_type": "execute_result"
    }
   ],
   "source": [
    "len(top_secret[top_secret<17])"
   ]
  },
  {
   "cell_type": "code",
   "execution_count": 87,
   "metadata": {},
   "outputs": [],
   "source": [
    "top_secret = top_secret.reshape(5,-1).T\n",
    "evens = np.arange(2,384,2)\n",
    "top_secret[:,0] = top_secret[:,0]-evens\n",
    "top_secret[17:24, 2] = top_secret[17:24,2] - 100\n",
    "top_secret[:,3:5] = top_secret[:,3:5]*2\n",
    "top_secret = top_secret.T.flatten()"
   ]
  },
  {
   "cell_type": "code",
   "execution_count": 88,
   "metadata": {},
   "outputs": [
    {
     "data": {
      "text/plain": [
       "0"
      ]
     },
     "execution_count": 88,
     "metadata": {},
     "output_type": "execute_result"
    }
   ],
   "source": [
    "sum(top_secret[500:955]>=100)"
   ]
  },
  {
   "cell_type": "code",
   "execution_count": 89,
   "metadata": {},
   "outputs": [],
   "source": [
    "#first_column = top_secret[0:len(top_secret)//5]\n",
    "#second_column = top_secret[len(top_secret)//5: 2*(len(top_secret)//5)]\n",
    "#third_column = top_secret[(2*len(top_secret)//5): 3*(len(top_secret)//5)]\n",
    "#fourth_column = top_secret[(3*len(top_secret)//5): 4*(len(top_secret)//5)]\n",
    "#fifth_column = top_secret[(4*len(top_secret)//5): 5*(len(top_secret)//5)]\n",
    "\n",
    "#top_secret = np.array([first_column,second_column,third_column,fourth_column,fifth_column])"
   ]
  },
  {
   "cell_type": "code",
   "execution_count": 90,
   "metadata": {},
   "outputs": [],
   "source": [
    "#evens = np.arange(2,384,2)"
   ]
  },
  {
   "cell_type": "code",
   "execution_count": 91,
   "metadata": {},
   "outputs": [],
   "source": [
    "#first_column = first_column-evens\n",
    "#third_column[17:24] = third_column[17:24]-100\n",
    "#fourth_column = fourth_column*2\n",
    "#fifth_column = fifth_column*2\n",
    "#top_secret = np.concatenate((first_column,second_column,third_column,fourth_column,fifth_column))"
   ]
  },
  {
   "cell_type": "code",
   "execution_count": 92,
   "metadata": {},
   "outputs": [],
   "source": [
    "#top_secret[0] = top_secret[0] - evens"
   ]
  },
  {
   "cell_type": "code",
   "execution_count": 93,
   "metadata": {},
   "outputs": [],
   "source": [
    "#top_secret[2,17:24] = top_secret[2,17:24]-100"
   ]
  },
  {
   "cell_type": "code",
   "execution_count": 94,
   "metadata": {},
   "outputs": [],
   "source": [
    "#top_secret[3] = top_secret[3]*2\n",
    "#top_secret[4] = top_secret[4]*2"
   ]
  },
  {
   "cell_type": "code",
   "execution_count": 95,
   "metadata": {},
   "outputs": [],
   "source": [
    "#top_secret = np.concatenate((top_secret[0], top_secret[1], top_secret[2], top_secret[3], top_secret[4]))"
   ]
  },
  {
   "cell_type": "code",
   "execution_count": 96,
   "metadata": {},
   "outputs": [
    {
     "data": {
      "text/plain": [
       "array([5.700e+01, 4.600e+01, 2.300e+01, 1.000e+00, 1.900e+01, 6.100e+01,\n",
       "       2.000e+00, 1.800e+01, 9.000e+00, 1.200e+01, 1.200e+01, 9.000e+00,\n",
       "       7.000e+00, 5.400e+01, 6.100e+01, 1.000e+00, 1.400e+01, 4.000e+00,\n",
       "       6.100e+01, 3.900e+01, 8.000e+00, 5.000e+00, 6.100e+01, 1.900e+01,\n",
       "       1.200e+01, 9.000e+00, 3.900e+01, 8.000e+00, 2.500e+01, 6.100e+01,\n",
       "       3.900e+01, 1.500e+01, 2.200e+01, 5.000e+00, 1.900e+01, 6.100e+01,\n",
       "       6.100e+01, 3.721e+03, 9.000e+02, 8.100e+01, 1.600e+01, 3.721e+03,\n",
       "       4.900e+01, 6.250e+02, 3.240e+02, 2.500e+01, 3.721e+03, 1.000e+00,\n",
       "       1.960e+02, 1.600e+01, 3.721e+03, 4.900e+01, 8.100e+01, 1.690e+02,\n",
       "       4.000e+00, 1.440e+02, 2.500e+01, 3.721e+03, 8.100e+01, 1.960e+02,\n",
       "       3.721e+03, 1.521e+03, 6.400e+01, 2.500e+01, 3.721e+03, 5.290e+02,\n",
       "       1.000e+00, 4.000e+00, 2.500e+01, 4.096e+03, 3.721e+03, 7.290e+02,\n",
       "       1.440e+02, 1.440e+02, 3.721e+03, 1.690e+02, 8.100e+01, 1.690e+02,\n",
       "       3.610e+02, 6.250e+02, 3.721e+03, 5.290e+02, 2.500e+01, 3.240e+02,\n",
       "       2.500e+01, 3.721e+03, 1.521e+03, 6.400e+01, 2.500e+01, 3.721e+03,\n",
       "       4.000e+00, 2.250e+02, 3.240e+02, 2.250e+02, 4.900e+01, 2.250e+02,\n",
       "       4.840e+02, 2.500e+01, 3.610e+02, 2.916e+03, 3.721e+03, 3.721e+03,\n",
       "       3.721e+03, 7.290e+02, 1.960e+02, 1.600e+01, 3.721e+03, 1.521e+03,\n",
       "       6.400e+01, 2.500e+01, 3.721e+03, 1.690e+02, 2.250e+02, 1.690e+02,\n",
       "       2.500e+01, 3.721e+03, 3.240e+02, 1.000e+00, 1.521e+03, 6.400e+01,\n",
       "       3.610e+02, 3.721e+03, 2.250e+02, 4.410e+02, 1.521e+03, 4.900e+01,\n",
       "       3.240e+02, 1.000e+00, 4.000e+00, 2.500e+01, 2.809e+03, 3.721e+03,\n",
       "       3.364e+03, 7.840e+02, 2.500e+01, 5.290e+02, 1.000e+00, 3.240e+02,\n",
       "       2.500e+01, 3.721e+03, 1.521e+03, 6.400e+01, 2.500e+01, 3.721e+03,\n",
       "       1.296e+03, 1.000e+00, 4.000e+00, 4.000e+00, 2.500e+01, 3.240e+02,\n",
       "       5.290e+02, 2.250e+02, 9.000e+00, 1.210e+02, 2.916e+03, 3.721e+03,\n",
       "       1.690e+02, 6.250e+02, 3.721e+03, 3.610e+02, 2.250e+02, 1.960e+02,\n",
       "       3.025e+03, 3.721e+03, 3.721e+03, 3.721e+03, 2.116e+03, 6.400e+01,\n",
       "       2.500e+01, 3.721e+03, 1.000e+02, 1.000e+00, 5.290e+02, 3.610e+02,\n",
       "       3.721e+03, 1.521e+03, 6.400e+01, 1.000e+00, 1.521e+03, 3.721e+03,\n",
       "       4.000e+00, 8.100e+01, 1.521e+03, 2.500e+01, 2.916e+03, 3.721e+03,\n",
       "       1.521e+03, 6.400e+01, 2.500e+01, 3.721e+03, 9.000e+00, 1.440e+02,\n",
       "       1.000e+00, 5.290e+02, 3.610e+02, 3.721e+03, 1.521e+03, 6.400e+01,\n",
       "       1.000e+00, 1.521e+03, 3.721e+03, 9.000e+00, 1.000e+00, 1.521e+03,\n",
       "       9.000e+00, 6.400e+01, 3.025e+03, 3.721e+03, 7.840e+02, 2.500e+01,\n",
       "       5.290e+02, 1.000e+00, 3.240e+02, 2.500e+01, 3.721e+03, 1.521e+03,\n",
       "       6.400e+01, 2.500e+01, 3.721e+03, 1.296e+03, 4.410e+02, 4.000e+00,\n",
       "       1.000e+02, 4.410e+02, 4.000e+00, 3.721e+03, 4.000e+00, 8.100e+01,\n",
       "       3.240e+02, 1.600e+01, 2.916e+03, 3.721e+03, 1.000e+00, 1.960e+02,\n",
       "       1.600e+01, 3.721e+03, 3.610e+02, 6.400e+01, 4.410e+02, 1.960e+02,\n",
       "       3.721e+03, 3.721e+03, 3.721e+03, 2.116e+03, 6.400e+01, 2.500e+01,\n",
       "       3.721e+03, 3.600e+01, 3.240e+02, 4.410e+02, 1.690e+02, 8.100e+01,\n",
       "       2.250e+02, 4.410e+02, 3.610e+02, 3.721e+03, 7.840e+02, 1.000e+00,\n",
       "       1.960e+02, 1.600e+01, 2.500e+01, 3.240e+02, 3.610e+02, 1.960e+02,\n",
       "       1.000e+00, 1.521e+03, 9.000e+00, 6.400e+01, 3.025e+03, 3.364e+03,\n",
       "       3.721e+03, 1.156e+03, 2.500e+01, 3.721e+03, 1.521e+03, 2.250e+02,\n",
       "       2.250e+02, 1.210e+02, 3.721e+03, 6.400e+01, 8.100e+01, 3.610e+02,\n",
       "       3.721e+03, 4.840e+02, 2.250e+02, 3.240e+02, 2.560e+02, 1.000e+00,\n",
       "       1.440e+02, 3.721e+03, 3.610e+02, 5.290e+02, 2.250e+02, 3.240e+02,\n",
       "       1.600e+01, 3.721e+03, 8.100e+01, 1.960e+02, 3.721e+03, 6.400e+01,\n",
       "       1.000e+00, 1.960e+02, 1.600e+01, 3.969e+03, 3.721e+03, 3.721e+03,\n",
       "       3.721e+03, 1.444e+03, 2.250e+02, 1.960e+02, 4.900e+01, 3.721e+03,\n",
       "       1.521e+03, 8.100e+01, 1.690e+02, 2.500e+01, 3.721e+03, 1.521e+03,\n",
       "       6.400e+01, 2.500e+01, 3.721e+03, 1.690e+02, 1.000e+00, 1.960e+02,\n",
       "       5.760e+02, 2.250e+02, 1.690e+02, 2.500e+01, 3.721e+03, 3.600e+01,\n",
       "       2.250e+02, 2.500e+01, 3.721e+03, 6.400e+01, 2.500e+01, 3.721e+03,\n",
       "       3.610e+02, 2.250e+02, 4.410e+02, 4.900e+01, 6.400e+01, 1.521e+03,\n",
       "       3.844e+03, 3.721e+03, 2.025e+03, 2.250e+02, 3.721e+03, 3.240e+02,\n",
       "       2.500e+01, 3.610e+02, 1.521e+03, 2.500e+01, 1.600e+01, 3.721e+03,\n",
       "       6.400e+01, 2.500e+01, 3.721e+03, 4.000e+00, 6.250e+02, 3.721e+03,\n",
       "       1.521e+03, 6.400e+01, 2.500e+01, 3.721e+03, 2.116e+03, 4.410e+02,\n",
       "       1.690e+02, 1.521e+03, 4.410e+02, 1.690e+02, 3.721e+03, 1.521e+03,\n",
       "       3.240e+02, 2.500e+01, 2.500e+01, 3.721e+03, 3.721e+03, 3.721e+03,\n",
       "       7.290e+02, 1.960e+02, 1.600e+01, 3.721e+03, 3.610e+02, 1.521e+03,\n",
       "       2.250e+02, 2.250e+02, 1.600e+01, 3.721e+03, 1.000e+00, 5.290e+02,\n",
       "       6.400e+01, 8.100e+01, 1.440e+02, 2.500e+01, 3.721e+03, 8.100e+01,\n",
       "       1.960e+02, 3.721e+03, 1.521e+03, 6.400e+01, 2.250e+02, 4.410e+02,\n",
       "       4.900e+01, 6.400e+01, 1.521e+03, 2.809e+03, 3.721e+03, 7.290e+02,\n",
       "       1.960e+02, 1.600e+01, 2.916e+03, 3.721e+03, 1.000e+00, 3.610e+02,\n",
       "       3.721e+03, 8.100e+01, 1.960e+02, 3.721e+03, 4.410e+02, 3.600e+01,\n",
       "       3.600e+01, 8.100e+01, 3.610e+02, 6.400e+01, 3.721e+03, 1.521e+03,\n",
       "       6.400e+01, 2.250e+02, 4.410e+02, 4.900e+01, 6.400e+01, 1.521e+03,\n",
       "       3.721e+03, 6.400e+01, 2.500e+01, 3.721e+03, 3.610e+02, 1.521e+03,\n",
       "       2.250e+02, 2.250e+02, 1.600e+01, 2.916e+03, 3.721e+03, 3.721e+03,\n",
       "       3.721e+03, 2.116e+03, 6.400e+01, 2.500e+01, 3.721e+03, 1.296e+03,\n",
       "       1.000e+00, 4.000e+00, 4.000e+00, 2.500e+01, 3.240e+02, 5.290e+02,\n",
       "       2.250e+02, 9.000e+00, 1.210e+02, 2.916e+03, 3.721e+03, 5.290e+02,\n",
       "       8.100e+01, 1.521e+03, 6.400e+01, 6.100e+01, 5.000e+00, 2.500e+01,\n",
       "       5.000e+00, 1.900e+01, 6.100e+01, 1.500e+01, 6.000e+00, 6.100e+01,\n",
       "       6.000e+00, 1.200e+01, 1.000e+00, 1.300e+01, 5.000e+00, 5.400e+01,\n",
       "       6.100e+01, 2.900e+01, 1.000e+00, 1.300e+01, 5.000e+00, 6.100e+01,\n",
       "       2.300e+01, 8.000e+00, 9.000e+00, 6.000e+00, 6.000e+00, 1.200e+01,\n",
       "       9.000e+00, 1.400e+01, 7.000e+00, 6.100e+01, 3.900e+01, 8.000e+00,\n",
       "       1.800e+01, 1.500e+01, 2.100e+01, 7.000e+00, 8.000e+00, 6.100e+01,\n",
       "       3.900e+01, 8.000e+00, 5.000e+00, 6.100e+01, 3.900e+01, 2.100e+01,\n",
       "       1.200e+01, 7.000e+00, 5.000e+00, 2.500e+01, 6.100e+01, 2.300e+01,\n",
       "       1.500e+01, 1.500e+01, 4.000e+00, 5.400e+01, 6.100e+01, 6.100e+01,\n",
       "       6.100e+01, 2.700e+01, 1.400e+01, 4.000e+00, 6.100e+01, 2.000e+00,\n",
       "       2.100e+01, 1.800e+01, 2.000e+00, 1.200e+01, 5.000e+00, 4.000e+00,\n",
       "       6.100e+01, 1.000e+00, 1.900e+01, 6.100e+01, 9.000e+00, 3.900e+01,\n",
       "       6.100e+01, 3.000e+00, 1.000e+00, 1.300e+01, 5.000e+00, 5.500e+01,\n",
       "       6.100e+01, 4.100e+01, 1.400e+01, 5.000e+00, 5.400e+01, 6.100e+01,\n",
       "       3.900e+01, 2.300e+01, 1.500e+01, 5.500e+01, 6.100e+01, 4.100e+01,\n",
       "       1.400e+01, 5.000e+00, 5.400e+01, 6.100e+01, 3.900e+01, 2.300e+01,\n",
       "       1.500e+01, 5.500e+01, 6.100e+01, 2.700e+01, 1.400e+01, 4.000e+00,\n",
       "       6.100e+01, 3.900e+01, 8.000e+00, 1.800e+01, 1.500e+01, 2.100e+01,\n",
       "       7.000e+00, 8.000e+00, 6.100e+01, 1.000e+00, 1.400e+01, 4.000e+00,\n",
       "       6.100e+01, 3.900e+01, 8.000e+00, 1.800e+01, 1.500e+01, 2.100e+01,\n",
       "       7.000e+00, 8.000e+00, 6.100e+01, 6.100e+01, 6.100e+01, 4.600e+01,\n",
       "       8.000e+00, 5.000e+00, 6.100e+01, 2.200e+01, 1.500e+01, 1.800e+01,\n",
       "       1.600e+01, 1.000e+00, 1.200e+01, 6.100e+01, 2.000e+00, 1.200e+01,\n",
       "       1.000e+00, 4.000e+00, 5.000e+00, 6.100e+01, 2.300e+01, 5.000e+00,\n",
       "       1.400e+01, 3.900e+01, 6.100e+01, 1.900e+01, 1.400e+01, 9.000e+00,\n",
       "       3.000e+00, 1.100e+01, 5.000e+00, 1.800e+01, 6.200e+01, 1.900e+01,\n",
       "       1.400e+01, 1.000e+00, 3.000e+00, 1.100e+01, 5.500e+01, 6.100e+01,\n",
       "       3.400e+01, 5.000e+00, 6.100e+01, 1.200e+01, 5.000e+00, 6.000e+00,\n",
       "       3.900e+01, 6.100e+01, 9.000e+00, 3.900e+01, 6.100e+01, 4.000e+00,\n",
       "       5.000e+00, 1.000e+00, 4.000e+00, 5.400e+01, 6.100e+01, 1.000e+00,\n",
       "       1.400e+01, 4.000e+00, 6.100e+01, 2.300e+01, 9.000e+00, 3.900e+01,\n",
       "       8.000e+00, 6.100e+01, 9.000e+00, 3.900e+01, 1.900e+01, 6.100e+01,\n",
       "       8.000e+00, 5.000e+00, 1.000e+00, 4.000e+00, 6.100e+01, 6.100e+01,\n",
       "       6.100e+01, 3.400e+01, 5.000e+00, 6.100e+01, 2.300e+01, 5.000e+00,\n",
       "       1.400e+01, 3.900e+01, 6.100e+01, 7.000e+00, 1.000e+00, 1.200e+01,\n",
       "       2.100e+01, 1.300e+01, 1.600e+01, 8.000e+00, 9.000e+00, 1.400e+01,\n",
       "       7.000e+00, 6.100e+01, 2.000e+00, 1.000e+00, 3.000e+00, 1.100e+01,\n",
       "       5.300e+01, 6.100e+01, 5.800e+01, 2.700e+01, 1.400e+01, 4.000e+00,\n",
       "       6.100e+01, 8.000e+00, 1.000e+00, 1.900e+01, 3.900e+01, 6.100e+01,\n",
       "       3.900e+01, 8.000e+00, 1.500e+01, 2.100e+01, 6.100e+01, 1.900e+01,\n",
       "       1.200e+01, 1.000e+00, 9.000e+00, 1.400e+01, 6.100e+01, 3.900e+01,\n",
       "       8.000e+00, 5.000e+00, 6.100e+01, 3.600e+01, 1.000e+00, 2.000e+00,\n",
       "       2.000e+00, 5.000e+00, 1.800e+01, 2.300e+01, 1.500e+01, 3.000e+00,\n",
       "       1.100e+01, 5.600e+01, 6.100e+01, 6.100e+01, 6.100e+01, 2.900e+01,\n",
       "       1.500e+01, 1.300e+01, 5.000e+00, 6.100e+01, 3.900e+01, 1.500e+01,\n",
       "       6.100e+01, 1.300e+01, 2.500e+01, 6.100e+01, 1.000e+00, 1.800e+01,\n",
       "       1.300e+01, 1.900e+01, 5.400e+01, 6.100e+01, 1.300e+01, 2.500e+01,\n",
       "       6.100e+01, 2.000e+00, 5.000e+00, 1.000e+00, 1.300e+01, 9.000e+00,\n",
       "       1.900e+01, 8.000e+00, 6.100e+01, 2.000e+00, 1.500e+01, 2.500e+01,\n",
       "       5.500e+01, 6.100e+01, 4.100e+01, 6.100e+01, 6.000e+00, 1.800e+01,\n",
       "       1.000e+00, 2.000e+00, 1.000e+01, 1.500e+01, 2.100e+01, 1.900e+01,\n",
       "       6.100e+01, 4.000e+00, 1.000e+00, 2.500e+01, 5.500e+01, 6.100e+01,\n",
       "       2.900e+01, 1.000e+00, 1.200e+01, 1.200e+01, 1.500e+01, 1.500e+01,\n",
       "       8.000e+00, 5.500e+01, 6.100e+01, 2.900e+01, 1.000e+00, 1.200e+01,\n",
       "       1.200e+01, 1.000e+00, 2.500e+01, 5.500e+01, 5.800e+01, 6.100e+01,\n",
       "       6.100e+01, 6.100e+01, 3.400e+01, 5.000e+00, 6.100e+01, 3.000e+00,\n",
       "       8.000e+00, 1.500e+01, 1.800e+01, 3.900e+01, 1.200e+01, 5.000e+00,\n",
       "       4.000e+00, 6.100e+01, 9.000e+00, 1.400e+01, 6.100e+01, 8.000e+00,\n",
       "       9.000e+00, 1.900e+01, 6.100e+01, 1.000e+01, 1.500e+01, 2.500e+01,\n",
       "       5.300e+01, 6.100e+01, 5.700e+01, 4.600e+01, 2.300e+01, 1.000e+00,\n",
       "       1.900e+01, 6.100e+01, 2.000e+00, 1.800e+01, 9.000e+00, 1.200e+01,\n",
       "       1.200e+01, 9.000e+00, 7.000e+00, 5.400e+01, 6.100e+01, 1.000e+00,\n",
       "       1.400e+01, 4.000e+00, 6.100e+01, 3.900e+01, 8.000e+00, 5.000e+00,\n",
       "       6.100e+01, 1.900e+01, 1.200e+01, 9.000e+00, 3.900e+01, 8.000e+00,\n",
       "       2.500e+01, 6.100e+01, 3.900e+01, 1.500e+01, 2.200e+01, 5.000e+00,\n",
       "       1.900e+01, 6.100e+01, 6.100e+01, 6.100e+01, 3.000e+01, 9.000e+00,\n",
       "       4.000e+00, 6.100e+01, 7.000e+00, 2.500e+01, 1.800e+01, 5.000e+00,\n",
       "       6.100e+01, 1.000e+00, 1.400e+01, 4.000e+00, 6.100e+01, 7.000e+00,\n",
       "       9.000e+00, 1.300e+01, 2.000e+00, 1.200e+01, 5.000e+00, 6.100e+01,\n",
       "       9.000e+00, 1.400e+01, 6.100e+01, 3.900e+01, 8.000e+00, 5.000e+00,\n",
       "       6.100e+01, 2.300e+01, 1.000e+00, 2.000e+00, 5.000e+00, 6.400e+01,\n",
       "       6.100e+01, 2.700e+01, 1.200e+01, 1.200e+01, 6.100e+01, 1.300e+01,\n",
       "       9.000e+00, 1.300e+01, 1.900e+01, 2.500e+01, 6.100e+01, 2.300e+01,\n",
       "       5.000e+00, 1.800e+01, 5.000e+00, 6.100e+01, 3.900e+01, 8.000e+00,\n",
       "       5.000e+00, 6.100e+01, 2.000e+00, 1.500e+01, 1.800e+01, 1.500e+01,\n",
       "       7.000e+00, 1.500e+01, 2.200e+01, 5.000e+00, 1.900e+01, 5.400e+01,\n",
       "       6.100e+01, 6.100e+01, 6.100e+01, 2.700e+01, 1.400e+01, 4.000e+00,\n",
       "       6.100e+01, 3.900e+01, 8.000e+00, 5.000e+00, 6.100e+01, 1.300e+01,\n",
       "       1.500e+01, 1.300e+01, 5.000e+00, 6.100e+01, 1.800e+01, 1.000e+00,\n",
       "       3.900e+01, 8.000e+00, 1.900e+01, 6.100e+01, 1.500e+01, 2.100e+01,\n",
       "       3.900e+01, 7.000e+00, 1.800e+01, 1.000e+00, 2.000e+00, 5.000e+00,\n",
       "       5.300e+01])"
      ]
     },
     "execution_count": 96,
     "metadata": {},
     "output_type": "execute_result"
    }
   ],
   "source": [
    "top_secret"
   ]
  },
  {
   "cell_type": "code",
   "execution_count": 97,
   "metadata": {},
   "outputs": [
    {
     "data": {
      "text/plain": [
       "array([57., 46., 23.,  1., 19., 61.,  2., 18.,  9., 12., 12.,  9.,  7.,\n",
       "       54., 61.,  1., 14.,  4., 61., 39.,  8.,  5., 61., 19., 12.,  9.,\n",
       "       39.,  8., 25., 61., 39., 15., 22.,  5., 19., 61., 61., 61., 30.,\n",
       "        9.,  4., 61.,  7., 25., 18.,  5., 61.,  1., 14.,  4., 61.,  7.,\n",
       "        9., 13.,  2., 12.,  5., 61.,  9., 14., 61., 39.,  8.,  5., 61.,\n",
       "       23.,  1.,  2.,  5., 64., 61., 27., 12., 12., 61., 13.,  9., 13.,\n",
       "       19., 25., 61., 23.,  5., 18.,  5., 61., 39.,  8.,  5., 61.,  2.,\n",
       "       15., 18., 15.,  7., 15., 22.,  5., 19., 54., 61., 61., 61., 27.,\n",
       "       14.,  4., 61., 39.,  8.,  5., 61., 13., 15., 13.,  5., 61., 18.,\n",
       "        1., 39.,  8., 19., 61., 15., 21., 39.,  7., 18.,  1.,  2.,  5.,\n",
       "       53., 61., 58., 28.,  5., 23.,  1., 18.,  5., 61., 39.,  8.,  5.,\n",
       "       61., 36.,  1.,  2.,  2.,  5., 18., 23., 15.,  3., 11., 54., 61.,\n",
       "       13., 25., 61., 19., 15., 14., 55., 61., 61., 61., 46.,  8.,  5.,\n",
       "       61., 10.,  1., 23., 19., 61., 39.,  8.,  1., 39., 61.,  2.,  9.,\n",
       "       39.,  5., 54., 61., 39.,  8.,  5., 61.,  3., 12.,  1., 23., 19.,\n",
       "       61., 39.,  8.,  1., 39., 61.,  3.,  1., 39.,  3.,  8., 55., 61.,\n",
       "       28.,  5., 23.,  1., 18.,  5., 61., 39.,  8.,  5., 61., 36., 21.,\n",
       "        2., 10., 21.,  2., 61.,  2.,  9., 18.,  4., 54., 61.,  1., 14.,\n",
       "        4., 61., 19.,  8., 21., 14., 61., 61., 61., 46.,  8.,  5., 61.,\n",
       "        6., 18., 21., 13.,  9., 15., 21., 19., 61., 28.,  1., 14.,  4.,\n",
       "        5., 18., 19., 14.,  1., 39.,  3.,  8., 55., 58., 61., 34.,  5.,\n",
       "       61., 39., 15., 15., 11., 61.,  8.,  9., 19., 61., 22., 15., 18.,\n",
       "       16.,  1., 12., 61., 19., 23., 15., 18.,  4., 61.,  9., 14., 61.,\n",
       "        8.,  1., 14.,  4., 63., 61., 61., 61., 38., 15., 14.,  7., 61.,\n",
       "       39.,  9., 13.,  5., 61., 39.,  8.,  5., 61., 13.,  1., 14., 24.,\n",
       "       15., 13.,  5., 61.,  6., 15.,  5., 61.,  8.,  5., 61., 19., 15.,\n",
       "       21.,  7.,  8., 39., 62., 61., 45., 15., 61., 18.,  5., 19., 39.,\n",
       "        5.,  4., 61.,  8.,  5., 61.,  2., 25., 61., 39.,  8.,  5., 61.,\n",
       "       46., 21., 13., 39., 21., 13., 61., 39., 18.,  5.,  5., 61., 61.,\n",
       "       61., 27., 14.,  4., 61., 19., 39., 15., 15.,  4., 61.,  1., 23.,\n",
       "        8.,  9., 12.,  5., 61.,  9., 14., 61., 39.,  8., 15., 21.,  7.,\n",
       "        8., 39., 53., 61., 27., 14.,  4., 54., 61.,  1., 19., 61.,  9.,\n",
       "       14., 61., 21.,  6.,  6.,  9., 19.,  8., 61., 39.,  8., 15., 21.,\n",
       "        7.,  8., 39., 61.,  8.,  5., 61., 19., 39., 15., 15.,  4., 54.,\n",
       "       61., 61., 61., 46.,  8.,  5., 61., 36.,  1.,  2.,  2.,  5., 18.,\n",
       "       23., 15.,  3., 11., 54., 61., 23.,  9., 39.,  8., 61.,  5., 25.,\n",
       "        5., 19., 61., 15.,  6., 61.,  6., 12.,  1., 13.,  5., 54., 61.,\n",
       "       29.,  1., 13.,  5., 61., 23.,  8.,  9.,  6.,  6., 12.,  9., 14.,\n",
       "        7., 61., 39.,  8., 18., 15., 21.,  7.,  8., 61., 39.,  8.,  5.,\n",
       "       61., 39., 21., 12.,  7.,  5., 25., 61., 23., 15., 15.,  4., 54.,\n",
       "       61., 61., 61., 27., 14.,  4., 61.,  2., 21., 18.,  2., 12.,  5.,\n",
       "        4., 61.,  1., 19., 61.,  9., 39., 61.,  3.,  1., 13.,  5., 55.,\n",
       "       61., 41., 14.,  5., 54., 61., 39., 23., 15., 55., 61., 41., 14.,\n",
       "        5., 54., 61., 39., 23., 15., 55., 61., 27., 14.,  4., 61., 39.,\n",
       "        8., 18., 15., 21.,  7.,  8., 61.,  1., 14.,  4., 61., 39.,  8.,\n",
       "       18., 15., 21.,  7.,  8., 61., 61., 61., 46.,  8.,  5., 61., 22.,\n",
       "       15., 18., 16.,  1., 12., 61.,  2., 12.,  1.,  4.,  5., 61., 23.,\n",
       "        5., 14., 39., 61., 19., 14.,  9.,  3., 11.,  5., 18., 62., 19.,\n",
       "       14.,  1.,  3., 11., 55., 61., 34.,  5., 61., 12.,  5.,  6., 39.,\n",
       "       61.,  9., 39., 61.,  4.,  5.,  1.,  4., 54., 61.,  1., 14.,  4.,\n",
       "       61., 23.,  9., 39.,  8., 61.,  9., 39., 19., 61.,  8.,  5.,  1.,\n",
       "        4., 61., 61., 61., 34.,  5., 61., 23.,  5., 14., 39., 61.,  7.,\n",
       "        1., 12., 21., 13., 16.,  8.,  9., 14.,  7., 61.,  2.,  1.,  3.,\n",
       "       11., 53., 61., 58., 27., 14.,  4., 61.,  8.,  1., 19., 39., 61.,\n",
       "       39.,  8., 15., 21., 61., 19., 12.,  1.,  9., 14., 61., 39.,  8.,\n",
       "        5., 61., 36.,  1.,  2.,  2.,  5., 18., 23., 15.,  3., 11., 56.,\n",
       "       61., 61., 61., 29., 15., 13.,  5., 61., 39., 15., 61., 13., 25.,\n",
       "       61.,  1., 18., 13., 19., 54., 61., 13., 25., 61.,  2.,  5.,  1.,\n",
       "       13.,  9., 19.,  8., 61.,  2., 15., 25., 55., 61., 41., 61.,  6.,\n",
       "       18.,  1.,  2., 10., 15., 21., 19., 61.,  4.,  1., 25., 55., 61.,\n",
       "       29.,  1., 12., 12., 15., 15.,  8., 55., 61., 29.,  1., 12., 12.,\n",
       "        1., 25., 55., 58., 61., 61., 61., 34.,  5., 61.,  3.,  8., 15.,\n",
       "       18., 39., 12.,  5.,  4., 61.,  9., 14., 61.,  8.,  9., 19., 61.,\n",
       "       10., 15., 25., 53., 61., 57., 46., 23.,  1., 19., 61.,  2., 18.,\n",
       "        9., 12., 12.,  9.,  7., 54., 61.,  1., 14.,  4., 61., 39.,  8.,\n",
       "        5., 61., 19., 12.,  9., 39.,  8., 25., 61., 39., 15., 22.,  5.,\n",
       "       19., 61., 61., 61., 30.,  9.,  4., 61.,  7., 25., 18.,  5., 61.,\n",
       "        1., 14.,  4., 61.,  7.,  9., 13.,  2., 12.,  5., 61.,  9., 14.,\n",
       "       61., 39.,  8.,  5., 61., 23.,  1.,  2.,  5., 64., 61., 27., 12.,\n",
       "       12., 61., 13.,  9., 13., 19., 25., 61., 23.,  5., 18.,  5., 61.,\n",
       "       39.,  8.,  5., 61.,  2., 15., 18., 15.,  7., 15., 22.,  5., 19.,\n",
       "       54., 61., 61., 61., 27., 14.,  4., 61., 39.,  8.,  5., 61., 13.,\n",
       "       15., 13.,  5., 61., 18.,  1., 39.,  8., 19., 61., 15., 21., 39.,\n",
       "        7., 18.,  1.,  2.,  5., 53.])"
      ]
     },
     "execution_count": 97,
     "metadata": {},
     "output_type": "execute_result"
    }
   ],
   "source": [
    "#Take the square root of all numbers in indices 38 to 465.\n",
    "#Round all numbers to the nearest whole number.\n",
    "#Replace all instances of the number 39 with 20.\n",
    "\n",
    "top_secret[37:465] = top_secret[37:465]**(1/2)\n",
    "top_secret\n"
   ]
  },
  {
   "cell_type": "code",
   "execution_count": 98,
   "metadata": {},
   "outputs": [],
   "source": [
    "top_secret = np.round(top_secret)"
   ]
  },
  {
   "cell_type": "code",
   "execution_count": 99,
   "metadata": {},
   "outputs": [],
   "source": [
    "top_secret[top_secret == 39] = 20"
   ]
  },
  {
   "cell_type": "code",
   "execution_count": 100,
   "metadata": {},
   "outputs": [
    {
     "data": {
      "text/plain": [
       "344"
      ]
     },
     "execution_count": 100,
     "metadata": {},
     "output_type": "execute_result"
    }
   ],
   "source": [
    "len(top_secret[top_secret%2 == 0])"
   ]
  },
  {
   "cell_type": "code",
   "execution_count": 101,
   "metadata": {
    "scrolled": true
   },
   "outputs": [
    {
     "data": {
      "text/plain": [
       "955"
      ]
     },
     "execution_count": 101,
     "metadata": {},
     "output_type": "execute_result"
    }
   ],
   "source": [
    "len(top_secret)"
   ]
  },
  {
   "cell_type": "code",
   "execution_count": 102,
   "metadata": {},
   "outputs": [],
   "source": [
    "top_secret=top_secret-1"
   ]
  },
  {
   "cell_type": "code",
   "execution_count": 103,
   "metadata": {},
   "outputs": [
    {
     "data": {
      "text/plain": [
       "array([56., 45., 22.,  0., 18., 60.,  1., 17.,  8., 11., 11.,  8.,  6.,\n",
       "       53., 60.,  0., 13.,  3., 60., 19.,  7.,  4., 60., 18., 11.,  8.,\n",
       "       19.,  7., 24., 60., 19., 14., 21.,  4., 18., 60., 60., 60., 29.,\n",
       "        8.,  3., 60.,  6., 24., 17.,  4., 60.,  0., 13.,  3., 60.,  6.,\n",
       "        8., 12.,  1., 11.,  4., 60.,  8., 13., 60., 19.,  7.,  4., 60.,\n",
       "       22.,  0.,  1.,  4., 63., 60., 26., 11., 11., 60., 12.,  8., 12.,\n",
       "       18., 24., 60., 22.,  4., 17.,  4., 60., 19.,  7.,  4., 60.,  1.,\n",
       "       14., 17., 14.,  6., 14., 21.,  4., 18., 53., 60., 60., 60., 26.,\n",
       "       13.,  3., 60., 19.,  7.,  4., 60., 12., 14., 12.,  4., 60., 17.,\n",
       "        0., 19.,  7., 18., 60., 14., 20., 19.,  6., 17.,  0.,  1.,  4.,\n",
       "       52., 60., 57., 27.,  4., 22.,  0., 17.,  4., 60., 19.,  7.,  4.,\n",
       "       60., 35.,  0.,  1.,  1.,  4., 17., 22., 14.,  2., 10., 53., 60.,\n",
       "       12., 24., 60., 18., 14., 13., 54., 60., 60., 60., 45.,  7.,  4.,\n",
       "       60.,  9.,  0., 22., 18., 60., 19.,  7.,  0., 19., 60.,  1.,  8.,\n",
       "       19.,  4., 53., 60., 19.,  7.,  4., 60.,  2., 11.,  0., 22., 18.,\n",
       "       60., 19.,  7.,  0., 19., 60.,  2.,  0., 19.,  2.,  7., 54., 60.,\n",
       "       27.,  4., 22.,  0., 17.,  4., 60., 19.,  7.,  4., 60., 35., 20.,\n",
       "        1.,  9., 20.,  1., 60.,  1.,  8., 17.,  3., 53., 60.,  0., 13.,\n",
       "        3., 60., 18.,  7., 20., 13., 60., 60., 60., 45.,  7.,  4., 60.,\n",
       "        5., 17., 20., 12.,  8., 14., 20., 18., 60., 27.,  0., 13.,  3.,\n",
       "        4., 17., 18., 13.,  0., 19.,  2.,  7., 54., 57., 60., 33.,  4.,\n",
       "       60., 19., 14., 14., 10., 60.,  7.,  8., 18., 60., 21., 14., 17.,\n",
       "       15.,  0., 11., 60., 18., 22., 14., 17.,  3., 60.,  8., 13., 60.,\n",
       "        7.,  0., 13.,  3., 62., 60., 60., 60., 37., 14., 13.,  6., 60.,\n",
       "       19.,  8., 12.,  4., 60., 19.,  7.,  4., 60., 12.,  0., 13., 23.,\n",
       "       14., 12.,  4., 60.,  5., 14.,  4., 60.,  7.,  4., 60., 18., 14.,\n",
       "       20.,  6.,  7., 19., 61., 60., 44., 14., 60., 17.,  4., 18., 19.,\n",
       "        4.,  3., 60.,  7.,  4., 60.,  1., 24., 60., 19.,  7.,  4., 60.,\n",
       "       45., 20., 12., 19., 20., 12., 60., 19., 17.,  4.,  4., 60., 60.,\n",
       "       60., 26., 13.,  3., 60., 18., 19., 14., 14.,  3., 60.,  0., 22.,\n",
       "        7.,  8., 11.,  4., 60.,  8., 13., 60., 19.,  7., 14., 20.,  6.,\n",
       "        7., 19., 52., 60., 26., 13.,  3., 53., 60.,  0., 18., 60.,  8.,\n",
       "       13., 60., 20.,  5.,  5.,  8., 18.,  7., 60., 19.,  7., 14., 20.,\n",
       "        6.,  7., 19., 60.,  7.,  4., 60., 18., 19., 14., 14.,  3., 53.,\n",
       "       60., 60., 60., 45.,  7.,  4., 60., 35.,  0.,  1.,  1.,  4., 17.,\n",
       "       22., 14.,  2., 10., 53., 60., 22.,  8., 19.,  7., 60.,  4., 24.,\n",
       "        4., 18., 60., 14.,  5., 60.,  5., 11.,  0., 12.,  4., 53., 60.,\n",
       "       28.,  0., 12.,  4., 60., 22.,  7.,  8.,  5.,  5., 11.,  8., 13.,\n",
       "        6., 60., 19.,  7., 17., 14., 20.,  6.,  7., 60., 19.,  7.,  4.,\n",
       "       60., 19., 20., 11.,  6.,  4., 24., 60., 22., 14., 14.,  3., 53.,\n",
       "       60., 60., 60., 26., 13.,  3., 60.,  1., 20., 17.,  1., 11.,  4.,\n",
       "        3., 60.,  0., 18., 60.,  8., 19., 60.,  2.,  0., 12.,  4., 54.,\n",
       "       60., 40., 13.,  4., 53., 60., 19., 22., 14., 54., 60., 40., 13.,\n",
       "        4., 53., 60., 19., 22., 14., 54., 60., 26., 13.,  3., 60., 19.,\n",
       "        7., 17., 14., 20.,  6.,  7., 60.,  0., 13.,  3., 60., 19.,  7.,\n",
       "       17., 14., 20.,  6.,  7., 60., 60., 60., 45.,  7.,  4., 60., 21.,\n",
       "       14., 17., 15.,  0., 11., 60.,  1., 11.,  0.,  3.,  4., 60., 22.,\n",
       "        4., 13., 19., 60., 18., 13.,  8.,  2., 10.,  4., 17., 61., 18.,\n",
       "       13.,  0.,  2., 10., 54., 60., 33.,  4., 60., 11.,  4.,  5., 19.,\n",
       "       60.,  8., 19., 60.,  3.,  4.,  0.,  3., 53., 60.,  0., 13.,  3.,\n",
       "       60., 22.,  8., 19.,  7., 60.,  8., 19., 18., 60.,  7.,  4.,  0.,\n",
       "        3., 60., 60., 60., 33.,  4., 60., 22.,  4., 13., 19., 60.,  6.,\n",
       "        0., 11., 20., 12., 15.,  7.,  8., 13.,  6., 60.,  1.,  0.,  2.,\n",
       "       10., 52., 60., 57., 26., 13.,  3., 60.,  7.,  0., 18., 19., 60.,\n",
       "       19.,  7., 14., 20., 60., 18., 11.,  0.,  8., 13., 60., 19.,  7.,\n",
       "        4., 60., 35.,  0.,  1.,  1.,  4., 17., 22., 14.,  2., 10., 55.,\n",
       "       60., 60., 60., 28., 14., 12.,  4., 60., 19., 14., 60., 12., 24.,\n",
       "       60.,  0., 17., 12., 18., 53., 60., 12., 24., 60.,  1.,  4.,  0.,\n",
       "       12.,  8., 18.,  7., 60.,  1., 14., 24., 54., 60., 40., 60.,  5.,\n",
       "       17.,  0.,  1.,  9., 14., 20., 18., 60.,  3.,  0., 24., 54., 60.,\n",
       "       28.,  0., 11., 11., 14., 14.,  7., 54., 60., 28.,  0., 11., 11.,\n",
       "        0., 24., 54., 57., 60., 60., 60., 33.,  4., 60.,  2.,  7., 14.,\n",
       "       17., 19., 11.,  4.,  3., 60.,  8., 13., 60.,  7.,  8., 18., 60.,\n",
       "        9., 14., 24., 52., 60., 56., 45., 22.,  0., 18., 60.,  1., 17.,\n",
       "        8., 11., 11.,  8.,  6., 53., 60.,  0., 13.,  3., 60., 19.,  7.,\n",
       "        4., 60., 18., 11.,  8., 19.,  7., 24., 60., 19., 14., 21.,  4.,\n",
       "       18., 60., 60., 60., 29.,  8.,  3., 60.,  6., 24., 17.,  4., 60.,\n",
       "        0., 13.,  3., 60.,  6.,  8., 12.,  1., 11.,  4., 60.,  8., 13.,\n",
       "       60., 19.,  7.,  4., 60., 22.,  0.,  1.,  4., 63., 60., 26., 11.,\n",
       "       11., 60., 12.,  8., 12., 18., 24., 60., 22.,  4., 17.,  4., 60.,\n",
       "       19.,  7.,  4., 60.,  1., 14., 17., 14.,  6., 14., 21.,  4., 18.,\n",
       "       53., 60., 60., 60., 26., 13.,  3., 60., 19.,  7.,  4., 60., 12.,\n",
       "       14., 12.,  4., 60., 17.,  0., 19.,  7., 18., 60., 14., 20., 19.,\n",
       "        6., 17.,  0.,  1.,  4., 52.])"
      ]
     },
     "execution_count": 103,
     "metadata": {},
     "output_type": "execute_result"
    }
   ],
   "source": [
    "top_secret"
   ]
  },
  {
   "cell_type": "code",
   "execution_count": null,
   "metadata": {},
   "outputs": [],
   "source": []
  },
  {
   "cell_type": "code",
   "execution_count": 104,
   "metadata": {
    "id": "6J1Hyl-Krt2h",
    "scrolled": true
   },
   "outputs": [
    {
     "data": {
      "text/plain": [
       "'\\'Twas brillig, and the slithy toves   Did gyre and gimble in the wabe: All mimsy were the borogoves,   And the mome raths outgrabe. \"Beware the Jabberwock, my son!   The jaws that bite, the claws that catch! Beware the Jubjub bird, and shun   The frumious Bandersnatch!\" He took his vorpal sword in hand;   Long time the manxome foe he sought- So rested he by the Tumtum tree   And stood awhile in thought. And, as in uffish thought he stood,   The Jabberwock, with eyes of flame, Came whiffling through the tulgey wood,   And burbled as it came! One, two! One, two! And through and through   The vorpal blade went snicker-snack! He left it dead, and with its head   He went galumphing back. \"And hast thou slain the Jabberwock?   Come to my arms, my beamish boy! O frabjous day! Callooh! Callay!\"   He chortled in his joy. \\'Twas brillig, and the slithy toves   Did gyre and gimble in the wabe: All mimsy were the borogoves,   And the mome raths outgrabe.'"
      ]
     },
     "execution_count": 104,
     "metadata": {},
     "output_type": "execute_result"
    }
   ],
   "source": [
    "''.join(map(str, symbols_df.loc[top_secret]['Symbol']))"
   ]
  },
  {
   "cell_type": "code",
   "execution_count": 122,
   "metadata": {},
   "outputs": [
    {
     "ename": "AttributeError",
     "evalue": "'numpy.ndarray' object has no attribute 'index'",
     "output_type": "error",
     "traceback": [
      "\u001b[1;31m---------------------------------------------------------------------------\u001b[0m",
      "\u001b[1;31mAttributeError\u001b[0m                            Traceback (most recent call last)",
      "Cell \u001b[1;32mIn[122], line 1\u001b[0m\n\u001b[1;32m----> 1\u001b[0m top_secret\u001b[38;5;241m.\u001b[39mindex()\n",
      "\u001b[1;31mAttributeError\u001b[0m: 'numpy.ndarray' object has no attribute 'index'"
     ]
    }
   ],
   "source": [
    "top_secret"
   ]
  },
  {
   "cell_type": "code",
   "execution_count": 49,
   "metadata": {},
   "outputs": [
    {
     "data": {
      "text/plain": [
       "64"
      ]
     },
     "execution_count": 49,
     "metadata": {},
     "output_type": "execute_result"
    }
   ],
   "source": []
  }
 ],
 "metadata": {
  "colab": {
   "provenance": []
  },
  "kernelspec": {
   "display_name": "Python 3 (ipykernel)",
   "language": "python",
   "name": "python3"
  },
  "language_info": {
   "codemirror_mode": {
    "name": "ipython",
    "version": 3
   },
   "file_extension": ".py",
   "mimetype": "text/x-python",
   "name": "python",
   "nbconvert_exporter": "python",
   "pygments_lexer": "ipython3",
   "version": "3.11.4"
  }
 },
 "nbformat": 4,
 "nbformat_minor": 1
}

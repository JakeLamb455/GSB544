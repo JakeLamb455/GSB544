{
 "cells": [
  {
   "cell_type": "code",
   "execution_count": 1,
   "id": "c25f49d4",
   "metadata": {},
   "outputs": [],
   "source": [
    "import requests\n",
    "from bs4 import BeautifulSoup\n",
    "def scrape_month_temp(month = None):\n",
    "    \n",
    "    my_url = \"https://www.extremeweatherwatch.com/us-state-averages\" + \"/month-\" + month\n",
    "    response = requests.get(my_url)\n",
    "    soup = BeautifulSoup(response.content, \"html.parser\")\n",
    "    \n",
    "    rows = []\n",
    "    for i in soup.find_all(\"tr\")[1:]:\n",
    "        name = i.find('a').text\n",
    "        term = i.find('td', class_= \"temp50 text-center\").text\n",
    "        term2 = i.find('td', class_= \"temp30 text-center\").text\n",
    "        rows.append({\"State\": name, \"High Temp\": term, \"Low Temp\": term2})\n",
    "    return pd.DataFrame(rows)\n"
   ]
  },
  {
   "cell_type": "code",
   "execution_count": 6,
   "id": "57d30cbd",
   "metadata": {},
   "outputs": [],
   "source": [
    "import pandas as pd\n",
    "def scrape_month_temp(month=None):\n",
    "    my_url = \"https://www.extremeweatherwatch.com/us-state-averages/month-\" + month\n",
    "    response = requests.get(my_url)\n",
    "    soup = BeautifulSoup(response.content, \"html.parser\")\n",
    "\n",
    "    rows = []\n",
    "    for i in soup.find_all(\"tr\")[1:]:\n",
    "        name_elem = i.find('a')\n",
    "        temp50_elem = i.find('td', class_=\"temp50 text-center\")\n",
    "        temp30_elem = i.find('td', class_=\"temp30 text-center\")\n",
    "\n",
    "        if name_elem and temp50_elem and temp30_elem:\n",
    "            name = name_elem.text\n",
    "            term = temp50_elem.text\n",
    "            term2 = temp30_elem.text\n",
    "            rows.append({\"State\": name, \"High Temp\": term, \"Low Temp\": term2})\n",
    "\n",
    "    return pd.DataFrame(rows)\n",
    "\n",
    "# Example usage\n",
    "\n",
    "\n"
   ]
  },
  {
   "cell_type": "code",
   "execution_count": 7,
   "id": "c22109e1",
   "metadata": {},
   "outputs": [
    {
     "name": "stdout",
     "output_type": "stream",
     "text": [
      "            State High Temp Low Temp\n",
      "0         Alabama      56.1     34.5\n",
      "1         Arizona      55.7     30.6\n",
      "2        Arkansas      50.0     30.5\n",
      "3      California      54.6     35.0\n",
      "4         Georgia      57.8     35.6\n",
      "5     Mississippi      56.0     35.2\n",
      "6  North Carolina      51.3     30.3\n",
      "7  South Carolina      56.4     34.3\n",
      "8           Texas      59.5     34.8\n"
     ]
    }
   ],
   "source": [
    "df = scrape_month_temp('january')\n",
    "print(df)"
   ]
  },
  {
   "cell_type": "code",
   "execution_count": null,
   "id": "8725f247",
   "metadata": {},
   "outputs": [],
   "source": []
  }
 ],
 "metadata": {
  "kernelspec": {
   "display_name": "Python 3 (ipykernel)",
   "language": "python",
   "name": "python3"
  },
  "language_info": {
   "codemirror_mode": {
    "name": "ipython",
    "version": 3
   },
   "file_extension": ".py",
   "mimetype": "text/x-python",
   "name": "python",
   "nbconvert_exporter": "python",
   "pygments_lexer": "ipython3",
   "version": "3.11.4"
  }
 },
 "nbformat": 4,
 "nbformat_minor": 5
}

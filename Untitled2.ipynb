{
 "cells": [
  {
   "cell_type": "code",
   "execution_count": 1,
   "id": "8b670bb8",
   "metadata": {},
   "outputs": [],
   "source": [
    "import numpy as np"
   ]
  },
  {
   "cell_type": "code",
   "execution_count": 2,
   "id": "c820132b",
   "metadata": {},
   "outputs": [],
   "source": [
    "def sing_verse(num):\n",
    "    return str(num) + \" bottles of beer on the wall \\n\" + str(num) + \" bottles of beer \\n\" + \" take one down, pass it around,\\n\" + str(num-1) + \" bottles of beer on the wall\" "
   ]
  },
  {
   "cell_type": "code",
   "execution_count": 13,
   "id": "d15eb289",
   "metadata": {},
   "outputs": [
    {
     "name": "stdout",
     "output_type": "stream",
     "text": [
      "100 bottles of beer on the wall \n",
      "100 bottles of beer \n",
      " take one down, pass it around,\n",
      "99 bottles of beer on the wall99 bottles of beer on the wall \n",
      "99 bottles of beer \n",
      " take one down, pass it around,\n",
      "98 bottles of beer on the wall98 bottles of beer on the wall \n",
      "98 bottles of beer \n",
      " take one down, pass it around,\n",
      "97 bottles of beer on the wall\n"
     ]
    }
   ],
   "source": [
    "song = ''\n",
    "for i in range(100,97,-1):\n",
    "    song = song + sing_verse(i)\n",
    "    \n",
    "print(song)"
   ]
  },
  {
   "cell_type": "code",
   "execution_count": 34,
   "id": "a735c2ed",
   "metadata": {},
   "outputs": [],
   "source": [
    "def sqrt_pos_vec(vec):\n",
    "    is_pos = vec > 0\n",
    "\n",
    "    vec[is_pos] = np.sqrt(vec[is_pos])\n",
    "\n",
    "    return vec"
   ]
  },
  {
   "cell_type": "code",
   "execution_count": 35,
   "id": "23dd348d",
   "metadata": {},
   "outputs": [],
   "source": [
    "a_vec = [-2, 1, -3, -9, 7]"
   ]
  },
  {
   "cell_type": "code",
   "execution_count": 36,
   "id": "f931cbd4",
   "metadata": {},
   "outputs": [
    {
     "ename": "TypeError",
     "evalue": "'>' not supported between instances of 'list' and 'int'",
     "output_type": "error",
     "traceback": [
      "\u001b[1;31m---------------------------------------------------------------------------\u001b[0m",
      "\u001b[1;31mTypeError\u001b[0m                                 Traceback (most recent call last)",
      "Cell \u001b[1;32mIn[36], line 1\u001b[0m\n\u001b[1;32m----> 1\u001b[0m sqrt_pos_vec(a_vec)\n",
      "Cell \u001b[1;32mIn[34], line 2\u001b[0m, in \u001b[0;36msqrt_pos_vec\u001b[1;34m(vec)\u001b[0m\n\u001b[0;32m      1\u001b[0m \u001b[38;5;28;01mdef\u001b[39;00m \u001b[38;5;21msqrt_pos_vec\u001b[39m(vec):\n\u001b[1;32m----> 2\u001b[0m     is_pos \u001b[38;5;241m=\u001b[39m vec \u001b[38;5;241m>\u001b[39m \u001b[38;5;241m0\u001b[39m\n\u001b[0;32m      4\u001b[0m     vec[is_pos] \u001b[38;5;241m=\u001b[39m np\u001b[38;5;241m.\u001b[39msqrt(vec[is_pos])\n\u001b[0;32m      6\u001b[0m     \u001b[38;5;28;01mreturn\u001b[39;00m vec\n",
      "\u001b[1;31mTypeError\u001b[0m: '>' not supported between instances of 'list' and 'int'"
     ]
    }
   ],
   "source": [
    "sqrt_pos_vec(a_vec)"
   ]
  },
  {
   "cell_type": "code",
   "execution_count": 26,
   "id": "944f2b10",
   "metadata": {},
   "outputs": [],
   "source": [
    "def sqrt_pos_non_vec(val):\n",
    "    if val > 0:\n",
    "        val = np.sqrt(val)\n",
    "    return val\n"
   ]
  },
  {
   "cell_type": "code",
   "execution_count": 27,
   "id": "39f2ef96",
   "metadata": {},
   "outputs": [
    {
     "data": {
      "text/plain": [
       "2.23606797749979"
      ]
     },
     "execution_count": 27,
     "metadata": {},
     "output_type": "execute_result"
    }
   ],
   "source": [
    "sqrt_pos_non_vec(5)"
   ]
  },
  {
   "cell_type": "code",
   "execution_count": 37,
   "id": "ccd42a23",
   "metadata": {},
   "outputs": [],
   "source": [
    "def sing_verse_2(num, drink):\n",
    "  song = str(num) + \" bottles of \" + drink + \" on the wall \\n\"\n",
    "  song = song + str(num) + \" bottles of \" + drink + \"\\n\" \n",
    "  song = song + \" take one down, pass it around, \\n\"\n",
    "  song = song + str(num-1) + \" bottles of \" + drink + \" on the wall \\n\"\n",
    "  \n",
    "  return song"
   ]
  },
  {
   "cell_type": "code",
   "execution_count": null,
   "id": "f738de2f",
   "metadata": {},
   "outputs": [],
   "source": []
  },
  {
   "cell_type": "code",
   "execution_count": null,
   "id": "9331db69",
   "metadata": {},
   "outputs": [],
   "source": []
  }
 ],
 "metadata": {
  "kernelspec": {
   "display_name": "Python 3 (ipykernel)",
   "language": "python",
   "name": "python3"
  },
  "language_info": {
   "codemirror_mode": {
    "name": "ipython",
    "version": 3
   },
   "file_extension": ".py",
   "mimetype": "text/x-python",
   "name": "python",
   "nbconvert_exporter": "python",
   "pygments_lexer": "ipython3",
   "version": "3.11.4"
  }
 },
 "nbformat": 4,
 "nbformat_minor": 5
}

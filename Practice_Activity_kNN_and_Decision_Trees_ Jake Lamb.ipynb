{
 "cells": [
  {
   "cell_type": "raw",
   "metadata": {},
   "source": [
    "---\n",
    "title: 'Practice Activity kNN and Decision Trees'\n",
    "output: html\n",
    "self-contained: True\n",
    "---"
   ]
  },
  {
   "cell_type": "markdown",
   "metadata": {
    "id": "VeAOZxOcM0Vi"
   },
   "source": [
    "# Palmer Penguins Modeling\n",
    "\n",
    "Import the Palmer Penguins dataset and print out the first few rows.\n",
    "\n",
    "Suppose we want to predict `bill_depth_mm` using the other variables in the dataset.\n",
    "\n",
    "**Dummify** all variables that require this."
   ]
  },
  {
   "cell_type": "code",
   "execution_count": 2,
   "metadata": {
    "id": "ZX0htugC7W15"
   },
   "outputs": [],
   "source": [
    "from palmerpenguins import load_penguins\n",
    "import pandas as pd\n",
    "from sklearn.pipeline import Pipeline\n",
    "from sklearn.preprocessing import OneHotEncoder\n",
    "from sklearn.compose import ColumnTransformer\n",
    "from sklearn.metrics import mean_squared_error\n",
    "from sklearn.model_selection import train_test_split\n",
    "from sklearn.linear_model import LinearRegression\n",
    "from sklearn.metrics import r2_score\n",
    "from sklearn.metrics import mean_squared_error\n",
    "from sklearn.neighbors import KNeighborsRegressor\n",
    "from sklearn.tree import DecisionTreeRegressor\n",
    "from sklearn.preprocessing import StandardScaler, OneHotEncoder, PolynomialFeatures, FunctionTransformer"
   ]
  },
  {
   "cell_type": "code",
   "execution_count": 3,
   "metadata": {
    "colab": {
     "base_uri": "https://localhost:8080/",
     "height": 206
    },
    "id": "oxcJP96T7Zim",
    "outputId": "c237cad5-e28f-4675-9456-6bb05968513d"
   },
   "outputs": [
    {
     "data": {
      "text/html": [
       "<div>\n",
       "<style scoped>\n",
       "    .dataframe tbody tr th:only-of-type {\n",
       "        vertical-align: middle;\n",
       "    }\n",
       "\n",
       "    .dataframe tbody tr th {\n",
       "        vertical-align: top;\n",
       "    }\n",
       "\n",
       "    .dataframe thead th {\n",
       "        text-align: right;\n",
       "    }\n",
       "</style>\n",
       "<table border=\"1\" class=\"dataframe\">\n",
       "  <thead>\n",
       "    <tr style=\"text-align: right;\">\n",
       "      <th></th>\n",
       "      <th>species</th>\n",
       "      <th>island</th>\n",
       "      <th>bill_length_mm</th>\n",
       "      <th>bill_depth_mm</th>\n",
       "      <th>flipper_length_mm</th>\n",
       "      <th>body_mass_g</th>\n",
       "      <th>sex</th>\n",
       "      <th>year</th>\n",
       "    </tr>\n",
       "  </thead>\n",
       "  <tbody>\n",
       "    <tr>\n",
       "      <th>0</th>\n",
       "      <td>Adelie</td>\n",
       "      <td>Torgersen</td>\n",
       "      <td>39.1</td>\n",
       "      <td>18.7</td>\n",
       "      <td>181.0</td>\n",
       "      <td>3750.0</td>\n",
       "      <td>male</td>\n",
       "      <td>2007</td>\n",
       "    </tr>\n",
       "    <tr>\n",
       "      <th>1</th>\n",
       "      <td>Adelie</td>\n",
       "      <td>Torgersen</td>\n",
       "      <td>39.5</td>\n",
       "      <td>17.4</td>\n",
       "      <td>186.0</td>\n",
       "      <td>3800.0</td>\n",
       "      <td>female</td>\n",
       "      <td>2007</td>\n",
       "    </tr>\n",
       "    <tr>\n",
       "      <th>2</th>\n",
       "      <td>Adelie</td>\n",
       "      <td>Torgersen</td>\n",
       "      <td>40.3</td>\n",
       "      <td>18.0</td>\n",
       "      <td>195.0</td>\n",
       "      <td>3250.0</td>\n",
       "      <td>female</td>\n",
       "      <td>2007</td>\n",
       "    </tr>\n",
       "    <tr>\n",
       "      <th>4</th>\n",
       "      <td>Adelie</td>\n",
       "      <td>Torgersen</td>\n",
       "      <td>36.7</td>\n",
       "      <td>19.3</td>\n",
       "      <td>193.0</td>\n",
       "      <td>3450.0</td>\n",
       "      <td>female</td>\n",
       "      <td>2007</td>\n",
       "    </tr>\n",
       "    <tr>\n",
       "      <th>5</th>\n",
       "      <td>Adelie</td>\n",
       "      <td>Torgersen</td>\n",
       "      <td>39.3</td>\n",
       "      <td>20.6</td>\n",
       "      <td>190.0</td>\n",
       "      <td>3650.0</td>\n",
       "      <td>male</td>\n",
       "      <td>2007</td>\n",
       "    </tr>\n",
       "  </tbody>\n",
       "</table>\n",
       "</div>"
      ],
      "text/plain": [
       "  species     island  bill_length_mm  bill_depth_mm  flipper_length_mm  \\\n",
       "0  Adelie  Torgersen            39.1           18.7              181.0   \n",
       "1  Adelie  Torgersen            39.5           17.4              186.0   \n",
       "2  Adelie  Torgersen            40.3           18.0              195.0   \n",
       "4  Adelie  Torgersen            36.7           19.3              193.0   \n",
       "5  Adelie  Torgersen            39.3           20.6              190.0   \n",
       "\n",
       "   body_mass_g     sex  year  \n",
       "0       3750.0    male  2007  \n",
       "1       3800.0  female  2007  \n",
       "2       3250.0  female  2007  \n",
       "4       3450.0  female  2007  \n",
       "5       3650.0    male  2007  "
      ]
     },
     "execution_count": 3,
     "metadata": {},
     "output_type": "execute_result"
    }
   ],
   "source": [
    "penguins = load_penguins()\n",
    "penguins = penguins.dropna()\n",
    "penguins.head()"
   ]
  },
  {
   "cell_type": "markdown",
   "metadata": {
    "id": "CXmaqajAchqz"
   },
   "source": [
    "Let's use the other variables to predict `bill_depth_mm`. Prepare your data and fit the following models on the entire dataset:\n",
    "\n",
    "* Your best multiple linear regression model from before\n",
    "* Two kNN models (for different values of K)\n",
    "* A decision tree model\n",
    "\n",
    "Create a plot like the right plot of Fig 1. in our `Model Validation` chapter with the training and test error plotted for each of your four models.\n",
    "\n",
    "Which of your models was best?"
   ]
  },
  {
   "cell_type": "code",
   "execution_count": 4,
   "metadata": {
    "id": "oe3BIkNHEMJy"
   },
   "outputs": [],
   "source": [
    "X = penguins.drop('bill_depth_mm', axis = 1)\n",
    "y = penguins['bill_depth_mm']\n",
    "\n",
    "X_train, X_test, y_train, y_test = train_test_split(X,y, test_size = .25)"
   ]
  },
  {
   "cell_type": "code",
   "execution_count": 5,
   "metadata": {
    "id": "R3MYBNQmcyld"
   },
   "outputs": [],
   "source": [
    "lr = LinearRegression()\n",
    "enc = OneHotEncoder()\n",
    "ct = ColumnTransformer([('dummify_s', enc, ['species']),\n",
    "                       ('dummify_x', enc, ['sex']),\n",
    "                        ('standardize_all', StandardScaler(), ['flipper_length_mm', \"body_mass_g\", \"bill_length_mm\"])],\n",
    "                       remainder = 'drop'\n",
    "                       )\n",
    "OLS1 = Pipeline(\n",
    "    [('dummify_everything', ct),('OLS', lr)]\n",
    ")"
   ]
  },
  {
   "cell_type": "code",
   "execution_count": 6,
   "metadata": {
    "id": "hbGCdUHOE-4J"
   },
   "outputs": [],
   "source": [
    "OLS1fit = OLS1.fit(X_train, y_train)"
   ]
  },
  {
   "cell_type": "code",
   "execution_count": 7,
   "metadata": {
    "colab": {
     "base_uri": "https://localhost:8080/"
    },
    "id": "uROUDXhZHZ9V",
    "outputId": "815bef47-2b10-4480-ee5c-9ea0029497a3"
   },
   "outputs": [
    {
     "data": {
      "text/plain": [
       "0.5678480673399983"
      ]
     },
     "execution_count": 7,
     "metadata": {},
     "output_type": "execute_result"
    }
   ],
   "source": [
    "OLS1Trpreds = OLS1fit.predict(X_train)\n",
    "MSETrOLS = mean_squared_error(OLS1Trpreds, y_train)\n",
    "MSETrOLS"
   ]
  },
  {
   "cell_type": "code",
   "execution_count": 8,
   "metadata": {
    "colab": {
     "base_uri": "https://localhost:8080/"
    },
    "id": "TowOsD1eJS3C",
    "outputId": "5a9775d2-d67c-49ab-d6f1-8febd2d06fe1"
   },
   "outputs": [
    {
     "data": {
      "text/plain": [
       "0.7766382419399442"
      ]
     },
     "execution_count": 8,
     "metadata": {},
     "output_type": "execute_result"
    }
   ],
   "source": [
    "OLS1Tepreds = OLS1fit.predict(X_test)\n",
    "MSETeOLS = mean_squared_error(OLS1Tepreds, y_test)\n",
    "MSETeOLS"
   ]
  },
  {
   "cell_type": "code",
   "execution_count": 9,
   "metadata": {
    "id": "5qt23h08Jl5u"
   },
   "outputs": [],
   "source": [
    "lr = LinearRegression()\n",
    "enc = OneHotEncoder()\n",
    "ct = ColumnTransformer([('dummify_s', enc, ['species']),\n",
    "                       ('dummify_x', enc, ['sex']),\n",
    "                        ('standardize_all', StandardScaler(), ['flipper_length_mm', \"body_mass_g\", \"bill_length_mm\"])],\n",
    "                       remainder = 'drop'\n",
    "                       )\n",
    "KNN5 = Pipeline(\n",
    "    [('dummify_everything', ct),('KNN5', KNeighborsRegressor(5))]\n",
    ")"
   ]
  },
  {
   "cell_type": "code",
   "execution_count": 10,
   "metadata": {
    "id": "z_aTJyCDKdm_"
   },
   "outputs": [],
   "source": [
    "KNN5fit = KNN5.fit(X_train, y_train)"
   ]
  },
  {
   "cell_type": "code",
   "execution_count": 11,
   "metadata": {
    "colab": {
     "base_uri": "https://localhost:8080/"
    },
    "id": "CgD5HnVXKuEp",
    "outputId": "ff727d44-186c-47ee-b15f-a7797e0d4d2f"
   },
   "outputs": [
    {
     "data": {
      "text/plain": [
       "0.42700722891566223"
      ]
     },
     "execution_count": 11,
     "metadata": {},
     "output_type": "execute_result"
    }
   ],
   "source": [
    "KNN5Trpreds = KNN5fit.predict(X_train)\n",
    "MSETrKNN5 = mean_squared_error(KNN5Trpreds, y_train)\n",
    "MSETrKNN5"
   ]
  },
  {
   "cell_type": "code",
   "execution_count": 12,
   "metadata": {
    "colab": {
     "base_uri": "https://localhost:8080/"
    },
    "id": "BD3LnoMKK4m3",
    "outputId": "d34dd33e-0f2a-438e-a014-fd365bd7cdf0"
   },
   "outputs": [
    {
     "data": {
      "text/plain": [
       "0.8736904761904769"
      ]
     },
     "execution_count": 12,
     "metadata": {},
     "output_type": "execute_result"
    }
   ],
   "source": [
    "KNN5Tepreds = KNN5fit.predict(X_test)\n",
    "MSETeKNN5 = mean_squared_error(KNN5Tepreds, y_test)\n",
    "MSETeKNN5"
   ]
  },
  {
   "cell_type": "code",
   "execution_count": 13,
   "metadata": {
    "id": "TPjFw0ejLDXo"
   },
   "outputs": [],
   "source": [
    "lr = LinearRegression()\n",
    "enc = OneHotEncoder()\n",
    "ct = ColumnTransformer([('dummify_s', enc, ['species']),\n",
    "                       ('dummify_x', enc, ['sex']),\n",
    "                        ('standardize_all', StandardScaler(), ['flipper_length_mm', \"body_mass_g\", \"bill_length_mm\"])],\n",
    "                       remainder = 'drop'\n",
    "                       )\n",
    "KNN15 = Pipeline(\n",
    "    [('dummify_everything', ct),('KNN5', KNeighborsRegressor(15))]\n",
    ")"
   ]
  },
  {
   "cell_type": "code",
   "execution_count": 14,
   "metadata": {
    "id": "AJFXSUhNLTN6"
   },
   "outputs": [],
   "source": [
    "KNN15fit = KNN15.fit(X_train, y_train)"
   ]
  },
  {
   "cell_type": "code",
   "execution_count": 15,
   "metadata": {
    "colab": {
     "base_uri": "https://localhost:8080/"
    },
    "id": "6CIgnrrLLXLO",
    "outputId": "be4923b3-4b38-41de-f5d3-9824f8fb5500"
   },
   "outputs": [
    {
     "data": {
      "text/plain": [
       "0.5465245872378401"
      ]
     },
     "execution_count": 15,
     "metadata": {},
     "output_type": "execute_result"
    }
   ],
   "source": [
    "KNN15Trpreds = KNN15fit.predict(X_train)\n",
    "MSETrKNN15 = mean_squared_error(KNN15Trpreds, y_train)\n",
    "MSETrKNN15"
   ]
  },
  {
   "cell_type": "code",
   "execution_count": 16,
   "metadata": {
    "colab": {
     "base_uri": "https://localhost:8080/"
    },
    "id": "_ju7DgLQLc4N",
    "outputId": "99d5102a-d1c3-404a-c70b-643f583f9336"
   },
   "outputs": [
    {
     "data": {
      "text/plain": [
       "0.784224338624339"
      ]
     },
     "execution_count": 16,
     "metadata": {},
     "output_type": "execute_result"
    }
   ],
   "source": [
    "KNN15Tepreds = KNN15fit.predict(X_test)\n",
    "MSETeKNN15 = mean_squared_error(KNN15Tepreds, y_test)\n",
    "MSETeKNN15"
   ]
  },
  {
   "cell_type": "code",
   "execution_count": 17,
   "metadata": {
    "id": "U5HgBs0WLnAn"
   },
   "outputs": [],
   "source": [
    "lr = LinearRegression()\n",
    "enc = OneHotEncoder()\n",
    "ct = ColumnTransformer([('dummify_s', enc, ['species']),\n",
    "                       ('dummify_x', enc, ['sex']),\n",
    "                        ('standardize_all', StandardScaler(), ['flipper_length_mm', \"body_mass_g\", \"bill_length_mm\"])],\n",
    "                       remainder = 'drop'\n",
    "                       )\n",
    "DT = Pipeline(\n",
    "    [('dummify_everything', ct),('DecisionTree', DecisionTreeRegressor(min_samples_leaf = 5))]\n",
    ")"
   ]
  },
  {
   "cell_type": "code",
   "execution_count": null,
   "metadata": {
    "colab": {
     "base_uri": "https://localhost:8080/",
     "height": 188
    },
    "id": "RSfUAFiHMaAF",
    "outputId": "e1dfda69-3a99-4c9d-a2dc-49b63dbb8a8d"
   },
   "outputs": [],
   "source": []
  },
  {
   "cell_type": "code",
   "execution_count": 18,
   "metadata": {
    "id": "fBD0rZ9hMvbS"
   },
   "outputs": [],
   "source": [
    "DTfit = DT.fit(X_train, y_train)"
   ]
  },
  {
   "cell_type": "code",
   "execution_count": 19,
   "metadata": {
    "colab": {
     "base_uri": "https://localhost:8080/"
    },
    "id": "xTuBm0igM1Dp",
    "outputId": "bc8aed73-09c6-4904-c945-59efaa277299"
   },
   "outputs": [
    {
     "data": {
      "text/plain": [
       "0.3411241792567094"
      ]
     },
     "execution_count": 19,
     "metadata": {},
     "output_type": "execute_result"
    }
   ],
   "source": [
    "DTtrpred = DTfit.predict(X_train)\n",
    "MSEDTtr = mean_squared_error(DTtrpred, y_train)\n",
    "MSEDTtr"
   ]
  },
  {
   "cell_type": "code",
   "execution_count": 20,
   "metadata": {
    "colab": {
     "base_uri": "https://localhost:8080/"
    },
    "id": "ucYsQvJVNJQI",
    "outputId": "efb05178-b4d5-4b98-97a7-3a489f093f30"
   },
   "outputs": [
    {
     "data": {
      "text/plain": [
       "1.0519756232828243"
      ]
     },
     "execution_count": 20,
     "metadata": {},
     "output_type": "execute_result"
    }
   ],
   "source": [
    "DTtepred = DTfit.predict(X_test)\n",
    "MSEDTte = mean_squared_error(DTtepred, y_test)\n",
    "MSEDTte"
   ]
  },
  {
   "cell_type": "code",
   "execution_count": 21,
   "metadata": {
    "colab": {
     "base_uri": "https://localhost:8080/",
     "height": 300
    },
    "id": "vc2hHL6CNRez",
    "outputId": "8cb14b5b-f680-4b3c-b426-701c889a6255"
   },
   "outputs": [
    {
     "data": {
      "text/html": [
       "<div>\n",
       "<style scoped>\n",
       "    .dataframe tbody tr th:only-of-type {\n",
       "        vertical-align: middle;\n",
       "    }\n",
       "\n",
       "    .dataframe tbody tr th {\n",
       "        vertical-align: top;\n",
       "    }\n",
       "\n",
       "    .dataframe thead th {\n",
       "        text-align: right;\n",
       "    }\n",
       "</style>\n",
       "<table border=\"1\" class=\"dataframe\">\n",
       "  <thead>\n",
       "    <tr style=\"text-align: right;\">\n",
       "      <th></th>\n",
       "      <th>Model</th>\n",
       "      <th>MSE Type</th>\n",
       "      <th>MSE</th>\n",
       "    </tr>\n",
       "  </thead>\n",
       "  <tbody>\n",
       "    <tr>\n",
       "      <th>0</th>\n",
       "      <td>OLS</td>\n",
       "      <td>Train MSE</td>\n",
       "      <td>0.567848</td>\n",
       "    </tr>\n",
       "    <tr>\n",
       "      <th>1</th>\n",
       "      <td>KNN(5)</td>\n",
       "      <td>Train MSE</td>\n",
       "      <td>0.427007</td>\n",
       "    </tr>\n",
       "    <tr>\n",
       "      <th>2</th>\n",
       "      <td>KNN(15)</td>\n",
       "      <td>Train MSE</td>\n",
       "      <td>0.546525</td>\n",
       "    </tr>\n",
       "    <tr>\n",
       "      <th>3</th>\n",
       "      <td>Decision Tree</td>\n",
       "      <td>Train MSE</td>\n",
       "      <td>0.341124</td>\n",
       "    </tr>\n",
       "    <tr>\n",
       "      <th>4</th>\n",
       "      <td>OLS</td>\n",
       "      <td>Test MSE</td>\n",
       "      <td>0.776638</td>\n",
       "    </tr>\n",
       "    <tr>\n",
       "      <th>5</th>\n",
       "      <td>KNN(5)</td>\n",
       "      <td>Test MSE</td>\n",
       "      <td>0.873690</td>\n",
       "    </tr>\n",
       "    <tr>\n",
       "      <th>6</th>\n",
       "      <td>KNN(15)</td>\n",
       "      <td>Test MSE</td>\n",
       "      <td>0.784224</td>\n",
       "    </tr>\n",
       "    <tr>\n",
       "      <th>7</th>\n",
       "      <td>Decision Tree</td>\n",
       "      <td>Test MSE</td>\n",
       "      <td>1.051976</td>\n",
       "    </tr>\n",
       "  </tbody>\n",
       "</table>\n",
       "</div>"
      ],
      "text/plain": [
       "           Model   MSE Type       MSE\n",
       "0            OLS  Train MSE  0.567848\n",
       "1         KNN(5)  Train MSE  0.427007\n",
       "2        KNN(15)  Train MSE  0.546525\n",
       "3  Decision Tree  Train MSE  0.341124\n",
       "4            OLS   Test MSE  0.776638\n",
       "5         KNN(5)   Test MSE  0.873690\n",
       "6        KNN(15)   Test MSE  0.784224\n",
       "7  Decision Tree   Test MSE  1.051976"
      ]
     },
     "execution_count": 21,
     "metadata": {},
     "output_type": "execute_result"
    }
   ],
   "source": [
    "MSES = pd.DataFrame({\"Model\": [\"OLS\", \"KNN(5)\", \"KNN(15)\", \"Decision Tree\"],\n",
    "                     \"Train MSE\": [MSETrOLS, MSETrKNN5, MSETrKNN15, MSEDTtr],\n",
    "                     \"Test MSE\": [MSETeOLS, MSETeKNN5, MSETeKNN15, MSEDTte]\n",
    "                     }\n",
    "                    )\n",
    "mse_melted = pd.melt(MSES, id_vars='Model', value_vars=['Train MSE', 'Test MSE'],\n",
    "                    var_name='MSE Type', value_name='MSE')\n",
    "mse_melted"
   ]
  },
  {
   "cell_type": "code",
   "execution_count": 22,
   "metadata": {
    "colab": {
     "base_uri": "https://localhost:8080/",
     "height": 434
    },
    "id": "AuZtvuOQOURM",
    "outputId": "637a4fd5-23a8-4f47-8b26-9333b88b6d2d"
   },
   "outputs": [
    {
     "data": {
      "image/png": "[encoded data removed]",
      "text/plain": [
       "<Figure size 800x400 with 1 Axes>"
      ]
     },
     "metadata": {
      "image/png": {
       "height": 400,
       "width": 800
      }
     },
     "output_type": "display_data"
    },
    {
     "data": {
      "text/plain": [
       "<Figure Size: (800 x 400)>"
      ]
     },
     "execution_count": 22,
     "metadata": {},
     "output_type": "execute_result"
    }
   ],
   "source": [
    "from plotnine import *\n",
    "(\n",
    "    ggplot(mse_melted)\n",
    "    + aes(x='Model', y = 'MSE', color = 'MSE Type')\n",
    "    + geom_point()\n",
    "    + labs(x='Model Type', y = \"MSE\")\n",
    "    + theme(figure_size=(8, 4))\n",
    ")"
   ]
  },
  {
   "cell_type": "code",
   "execution_count": null,
   "metadata": {
    "id": "CnrKNAkaOoXh"
   },
   "outputs": [],
   "source": []
  }
 ],
 "metadata": {
  "colab": {
   "provenance": []
  },
  "kernelspec": {
   "display_name": "Python 3 (ipykernel)",
   "language": "python",
   "name": "python3"
  },
  "language_info": {
   "codemirror_mode": {
    "name": "ipython",
    "version": 3
   },
   "file_extension": ".py",
   "mimetype": "text/x-python",
   "name": "python",
   "nbconvert_exporter": "python",
   "pygments_lexer": "ipython3",
   "version": "3.11.4"
  }
 },
 "nbformat": 4,
 "nbformat_minor": 1
}
